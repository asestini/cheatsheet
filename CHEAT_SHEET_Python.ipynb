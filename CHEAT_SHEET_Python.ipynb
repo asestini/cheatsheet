{
  "nbformat": 4,
  "nbformat_minor": 0,
  "metadata": {
    "colab": {
      "name": "CHEAT_SHEET_Python.ipynb",
      "provenance": [],
      "collapsed_sections": [],
      "toc_visible": true,
      "include_colab_link": true
    },
    "kernelspec": {
      "name": "python3",
      "display_name": "Python 3"
    }
  },
  "cells": [
    {
      "cell_type": "markdown",
      "metadata": {
        "id": "view-in-github",
        "colab_type": "text"
      },
      "source": [
        "<a href=\"https://colab.research.google.com/github/asestini/cheatsheet/blob/master/CHEAT_SHEET_Python.ipynb\" target=\"_parent\"><img src=\"https://colab.research.google.com/assets/colab-badge.svg\" alt=\"Open In Colab\"/></a>"
      ]
    },
    {
      "cell_type": "markdown",
      "metadata": {
        "id": "rnkUEQZBvaYN",
        "colab_type": "text"
      },
      "source": [
        "# **1. LIBRARY / JUPYTER SETTINGS**\n",
        "\n",
        "\n",
        "---\n",
        "\n"
      ]
    },
    {
      "cell_type": "markdown",
      "metadata": {
        "id": "4KJYjyxRFGfW",
        "colab_type": "text"
      },
      "source": [
        "> Basic Library"
      ]
    },
    {
      "cell_type": "code",
      "metadata": {
        "id": "Akx0Fz61z4KR",
        "colab_type": "code",
        "colab": {}
      },
      "source": [
        "#Basic Library\n",
        "import pandas as pd\n",
        "import numpy as np\n",
        "import seaborn as sns\n",
        "import matplotlib.pyplot as plt\n",
        "from matplotlib import cm # For color purpose\n",
        "import math\n",
        "\n",
        "import warnings\n",
        "warnings.filterwarnings('ignore') # To ignore warning messages (be carefull)"
      ],
      "execution_count": null,
      "outputs": []
    },
    {
      "cell_type": "markdown",
      "metadata": {
        "id": "895XU2j8FKpu",
        "colab_type": "text"
      },
      "source": [
        "> Machine Learning Libraries"
      ]
    },
    {
      "cell_type": "code",
      "metadata": {
        "id": "WR_A-d2HHeXv",
        "colab_type": "code",
        "colab": {}
      },
      "source": [
        "# Machine Learning Libraries\n",
        "from sklearn.model_selection import train_test_split\n",
        "from sklearn.preprocessing import StandardScaler\n",
        "from sklearn.preprocessing import KBinsDiscretizer\n",
        "from sklearn.impute import KNNImputer\n",
        "from fancyimpute import KNN\n",
        "from sklearn.decomposition import PCA\n",
        "from sklearn.discriminant_analysis import LinearDiscriminantAnalysis\n",
        "from sklearn.linear_model import LinearRegression\n",
        "from sklearn.linear_model import LogisticRegression\n",
        "from sklearn.linear_model import Ridge\n",
        "from sklearn.tree import DecisionTreeClassifier\n",
        "from sklearn import tree\n",
        "from sklearn.tree import plot_tree\n",
        "from sklearn.ensemble import RandomForestRegressor\n",
        "from sklearn.ensemble import RandomForestClassifier\n",
        "import sklearn.naive_bayes as nb\n",
        "from sklearn.naive_bayes import GaussianNB\n",
        "from sklearn.naive_bayes import BernoulliNB\n",
        "from sklearn.svm import SVC\n",
        "from sklearn.ensemble import BaggingClassifier as BC\n",
        "from sklearn.ensemble import AdaBoostRegressor\n",
        "from sklearn.ensemble import AdaBoostClassifier\n",
        "! pip3 install xgboost\n",
        "from xgboost import XGBRegressor\n",
        "from sklearn.model_selection import GridSearchCV\n",
        "from sklearn.metrics import mean_squared_error\n",
        "from sklearn import metrics\n",
        "from sklearn.metrics import roc_auc_score\n",
        "from sklearn.metrics import roc_curve\n",
        "from sklearn.feature_selection import chi2\n",
        "from sklearn.model_selection import cross_val_score, cross_val_predict\n",
        "from sklearn.pipeline import Pipeline\n",
        "\n",
        "from sklearn.cluster import KMeans\n",
        "from sklearn.cluster import DBSCAN"
      ],
      "execution_count": null,
      "outputs": []
    },
    {
      "cell_type": "markdown",
      "metadata": {
        "id": "FMaTxCDzFPO1",
        "colab_type": "text"
      },
      "source": [
        "> Other useful Libraries"
      ]
    },
    {
      "cell_type": "code",
      "metadata": {
        "id": "gy4DL6geyz6Z",
        "colab_type": "code",
        "colab": {}
      },
      "source": [
        "# Other Lbraries\n",
        "import warnings\n",
        "warnings.filterwarnings('ignore') # To ignore warning messages (be carefull)\n",
        "\n",
        "# re for specific search within string\n",
        "import re"
      ],
      "execution_count": null,
      "outputs": []
    },
    {
      "cell_type": "markdown",
      "metadata": {
        "id": "eY0CfK7AMTSw",
        "colab_type": "text"
      },
      "source": [
        "> Jupyter settings"
      ]
    },
    {
      "cell_type": "code",
      "metadata": {
        "id": "lVc4-I6IMVTj",
        "colab_type": "code",
        "colab": {}
      },
      "source": [
        "# Remove row / column display limitation\n",
        "# BEAR IN MIND : Try limit max rows or columns\n",
        "pd.options.display.max_rows = None # replace None by integer to set specific limitation\n",
        "pd.options.display.max_columns = None\n",
        "# or\n",
        "pd.set_option('display.max_rows', None)\n",
        "pd.set_option('display.max_columns', None)"
      ],
      "execution_count": null,
      "outputs": []
    },
    {
      "cell_type": "markdown",
      "metadata": {
        "id": "5Vc6YHQk7a8z",
        "colab_type": "text"
      },
      "source": [
        "# **2. BASICS PYTHON**\n",
        "---\n"
      ]
    },
    {
      "cell_type": "markdown",
      "metadata": {
        "id": "KXZH_Lla-rLv",
        "colab_type": "text"
      },
      "source": [
        "## A. ASKING FOR HELP"
      ]
    },
    {
      "cell_type": "code",
      "metadata": {
        "id": "nqBIWgPq_v4G",
        "colab_type": "code",
        "colab": {}
      },
      "source": [
        "help(str) # return the help for the STRING function\n",
        "str?"
      ],
      "execution_count": null,
      "outputs": []
    },
    {
      "cell_type": "markdown",
      "metadata": {
        "id": "MXwRZrzyxsP4",
        "colab_type": "text"
      },
      "source": [
        "## B. CALCULATIONS AND VARIABLES"
      ]
    },
    {
      "cell_type": "code",
      "metadata": {
        "id": "fzu_leJ37yPa",
        "colab_type": "code",
        "colab": {
          "base_uri": "https://localhost:8080/",
          "height": 35
        },
        "outputId": "1e468182-8864-42bd-8abe-bb1a0d06e32c"
      },
      "source": [
        "# VARIABLE ASSIGNEMENT\n",
        "x = 9\n",
        "print(x)\n",
        "# return 9"
      ],
      "execution_count": null,
      "outputs": [
        {
          "output_type": "stream",
          "text": [
            "9\n"
          ],
          "name": "stdout"
        }
      ]
    },
    {
      "cell_type": "code",
      "metadata": {
        "id": "AtNRZlUC8tci",
        "colab_type": "code",
        "colab": {
          "base_uri": "https://localhost:8080/",
          "height": 35
        },
        "outputId": "5205026e-c639-4218-a887-8c63cf675091"
      },
      "source": [
        "# CALCULATION (x = 9)\n",
        "x+2 # return 11 => SUM\n",
        "x-2 # return 7 => SUBSTRACTION\n",
        "x*2 # return 18 = > MULTIPLICATION\n",
        "x **2 # return 81 => SQUARED POWER\n",
        "x **(1/2) # return 3.0 => SQUARE ROOT\n",
        "x%2 # return 1 => REMAINDER (9 / 2 = 8 / 2 with remain 1)\n",
        "x/2 # 4.5 => DIVISION\n",
        "x//2 # 4 => FLOOR DVISION => discard the remainder\n"
      ],
      "execution_count": null,
      "outputs": [
        {
          "output_type": "execute_result",
          "data": {
            "text/plain": [
              "4"
            ]
          },
          "metadata": {
            "tags": []
          },
          "execution_count": 3
        }
      ]
    },
    {
      "cell_type": "code",
      "metadata": {
        "id": "ICZYVW7FXMJZ",
        "colab_type": "code",
        "colab": {}
      },
      "source": [
        "# ADVANCED CALCULATION\n",
        "inputs @ weights # matrix product  \n",
        "np.exp(x) # exponential of x\n",
        "math.exp(x) # exponential of x"
      ],
      "execution_count": null,
      "outputs": []
    },
    {
      "cell_type": "code",
      "metadata": {
        "id": "wk7A1Cff9BtR",
        "colab_type": "code",
        "colab": {
          "base_uri": "https://localhost:8080/",
          "height": 35
        },
        "outputId": "9b825459-0666-4886-a539-16027a37bcfa"
      },
      "source": [
        "# Types (x = 9)\n",
        "str(x) # return '9' as a STRING\n",
        "int(x) # return 9 as an INTEGER\n",
        "float(x) # return 9.0 as a FLOAT\n",
        "bool(x) # return True => BOOLEAN"
      ],
      "execution_count": null,
      "outputs": [
        {
          "output_type": "execute_result",
          "data": {
            "text/plain": [
              "True"
            ]
          },
          "metadata": {
            "tags": []
          },
          "execution_count": 53
        }
      ]
    },
    {
      "cell_type": "code",
      "metadata": {
        "id": "mGkxzeezcBOZ",
        "colab_type": "code",
        "colab": {}
      },
      "source": [
        "# ID : to check the hash id of the object\n",
        "id(variable) # return the hash id of the object"
      ],
      "execution_count": null,
      "outputs": []
    },
    {
      "cell_type": "markdown",
      "metadata": {
        "id": "qGSk_7fH_-5v",
        "colab_type": "text"
      },
      "source": [
        "## C. STRINGS"
      ]
    },
    {
      "cell_type": "code",
      "metadata": {
        "id": "HziGqNaNA7Ml",
        "colab_type": "code",
        "colab": {}
      },
      "source": [
        "my_string = \"Text\"\n",
        "my_string # return 'Text'\n",
        "my_string*2 # return 'TextTest'\n",
        "my_string + \"Innit\" # return 'TextInnit'\n",
        "'t' in my_string # return True\n",
        "'a' in my_string # return False\n",
        "my_string.upper() # return 'TEXT' => the UPPER my_string\n",
        "my_string.lower() # return 'text' => the lower my_string\n",
        "my_string.find('t') # return 3 => CASE SENSITIVE\n",
        "my_string.rfind('t') # return 3 the hightest index of caracter to be find=> CASE SENSITIVE\n",
        "my_string.count('t') # return 1 => count the 't' value => THIS IS CASE SENSITIVE\n",
        "my_string.replace('e', 'i') # return 'Tixt' => replace ALL letters. THIS IS CASE SENSITIVE\n",
        "my_string.strip() # return 'Text' => remove by default whitespace \n",
        "my_string.strip('Tt') # return 'ex' => remove any char within ()  but CASE SENSITIVE)\n",
        "my_string.split('x') # return a list ['Te', 't'] => this is CASE SENSITIVE"
      ],
      "execution_count": null,
      "outputs": []
    },
    {
      "cell_type": "code",
      "metadata": {
        "id": "3orGZIpN-4uc",
        "colab_type": "code",
        "colab": {}
      },
      "source": [
        "# Replace using dictionnary\n",
        "address = \"123 north anywhere street\"\n",
        "for word, replace_by in {\"NORTH\":\"N\", \"SOUTH\":\"S\" }.items():\n",
        "    address = address.replace(word.lower(), replace_by)"
      ],
      "execution_count": null,
      "outputs": []
    },
    {
      "cell_type": "code",
      "metadata": {
        "id": "hBnmbWIML_r9",
        "colab_type": "code",
        "colab": {}
      },
      "source": [
        "# Remove data / caracters\n",
        "str = 'Engineer123Discipline'\n",
        "\n",
        "# 1) use replace (see above)\n",
        "my_string.replace('e', '') # return 'Enginr123Disciplin' => This is CASE SENSITIVE\n",
        "\n",
        "#2) MY FAVORITE ONE : Translate => very useful for long list of caracters to remove\n",
        "str.translate({ord(i): None for i in '13'}) # return : 'Engineer2Discipline' => This is CASE SENSITIVE"
      ],
      "execution_count": null,
      "outputs": []
    },
    {
      "cell_type": "markdown",
      "metadata": {
        "id": "RdhDsZ8rBAv3",
        "colab_type": "text"
      },
      "source": [
        "## D. LISTS"
      ]
    },
    {
      "cell_type": "code",
      "metadata": {
        "id": "ngRby21GBrxe",
        "colab_type": "code",
        "colab": {}
      },
      "source": [
        "# BASIC TASKS\n",
        "a = \"is\"\n",
        "b = \"nice\"\n",
        "my_list = ['my', 'list', a, b]\n",
        "my_list # return ['my', 'list', 'is', 'nice']\n",
        "my_list2 = [[4,5,6,7], [3,4,5,6]] # Can do list within list\n",
        "my_list3 = ['a', 1, 2, 'c'] # Can mix data type within same list\n",
        "my_list5 = [[1,2,3], [10,20]]\n",
        "\n",
        "# OPERATIONS ON LIST\n",
        "my_list2 + my_list5 # [[4, 5, 6, 7], [3, 4, 5, 6], [1, 2, 3], [10, 20]]\n",
        "my_list + my_list * 2 # ['my', 'list', 'is', 'nice', 'my', 'list', 'is', 'nice']\n",
        "\n",
        "# LIST METHODS\n",
        "my_list.index(a) # return 2 THE INDEX OF VARIABLE a WITHIN my_list\n",
        "my_list.count('y') # return 0 there is 'my' but NOT 'y'\n",
        "my_list.count('my') # return 1 there is 'my'\n",
        "my_list.append(['Test', 'hello']) # ['my', 'list', 'is', 'nice', ['Test', 'hello']] => append the whole ['Test', 'hello'] as a block\n",
        "my_list.extend(['Test', 'hello']) # ['my', 'list', 'is', 'nice', 'Test', 'hello'] => append piece by piece\n",
        "my_list.remove('my') # ['list', 'is', 'nice'] => remove the FIRST OCCURENCE OF the item 'my'=> if ['my', 'my']\n",
        "# => WARNING my_list.remove('y') won't work as do NOT remove the letter 'y' but the item 'y' => ['my'] but NOT ['y']\n",
        "del(my_list[0:1]) # remove the 1st item 'my' item ['list', 'is', 'nice']\n",
        "my_list2.clear() # return [] => Supprime TOUTES les valeurs dans la liste, MAIS PAS la liste qui sera vidée.  \n",
        "my_list5.sort() # Sort ascending by default => .sort(reverese = True) = sort descending  \n",
        "my_list.reverse() # reverse my_list => equal to .sort(reverse = True)\n",
        "my_list.pop(-1) # Cut to paste the last item in the list\n",
        "my_list.insert(0,'!') # Insert to the 1st index the [!] => if my_list = [1, 2, 3] => ['!', 1, 2, 3]\n",
        "my_string = \" \".join(my_list) # Join all list elements using the \" \" as separator to create a string"
      ],
      "execution_count": null,
      "outputs": []
    },
    {
      "cell_type": "markdown",
      "metadata": {
        "id": "N0unY4MugkQ7",
        "colab_type": "text"
      },
      "source": [
        "## E. SET"
      ]
    },
    {
      "cell_type": "markdown",
      "metadata": {
        "id": "jeOGgi5-g_og",
        "colab_type": "text"
      },
      "source": [
        "SET are \"kind of\" list with several differences:\n",
        "* you CANNOT get any duplicates \n",
        "* it is in '{}'\n",
        "* There is NO order => NO Slicicng"
      ]
    },
    {
      "cell_type": "code",
      "metadata": {
        "id": "M751Re0lNIML",
        "colab_type": "code",
        "colab": {}
      },
      "source": [
        "# Initialize set\n",
        "my_set = set() # return empty set\n",
        "my_set = {1, 3} # return set\n",
        " \n",
        "my_set.add(2) # return {1, 2, 3} => add single element\n",
        "my_set.update([2, 3, 4]) # return {1, 2, 3, 4} => add multiple elements\n",
        "my_set.update([4, 5], {1, 6, 8}) # return {1, 2, 3, 4, 5, 6, 8} => add list and set\n",
        "\n",
        "my_set.discard(1) # return {3} => remove an element but if not exist NO error message\n",
        "my_set.remove(3) # return {3} => remove an element and if not exist = trigger error message\n"
      ],
      "execution_count": null,
      "outputs": []
    },
    {
      "cell_type": "code",
      "metadata": {
        "id": "tZDDoB2Rgy3m",
        "colab_type": "code",
        "colab": {}
      },
      "source": [
        "# Python set operations (union, intersection, difference and symmetric difference) \n",
        "A = {0, 2, 4, 6, 8}; \n",
        "B = {1, 2, 3, 4, 5}; \n",
        "  \n",
        "# union \n",
        "print(\"Union :\", A | B) # return ('Union :', set([0, 1, 2, 3, 4, 5, 6, 8]))\n",
        "  \n",
        "# intersection \n",
        "print(\"Intersection :\", A & B) # return ('Intersection :', set([2, 4]))\n",
        "  \n",
        "# difference \n",
        "print(\"Difference :\", A - B) # return ('Difference :', set([8, 0, 6]))\n",
        "  \n",
        "# symmetric difference \n",
        "print(\"Symmetric difference :\", A ^ B) # return ('Symmetric difference :', set([0, 1, 3, 5, 6, 8]))\n",
        "\n",
        "# (source : https://www.geeksforgeeks.org/python-set-operations-union-intersection-difference-symmetric-difference/)"
      ],
      "execution_count": null,
      "outputs": []
    },
    {
      "cell_type": "markdown",
      "metadata": {
        "id": "4aJoEjkfFMSn",
        "colab_type": "text"
      },
      "source": [
        "## F. DICTIONNARY"
      ]
    },
    {
      "cell_type": "markdown",
      "metadata": {
        "id": "iwOunHHrG8ja",
        "colab_type": "text"
      },
      "source": [
        "> {key : value}\n"
      ]
    },
    {
      "cell_type": "code",
      "metadata": {
        "id": "sPh9xOmUFPuP",
        "colab_type": "code",
        "colab": {
          "base_uri": "https://localhost:8080/",
          "height": 35
        },
        "outputId": "4421a5cf-8fbf-4ce6-9db1-169ed850075a"
      },
      "source": [
        "my_dict = {'key1': 'my 1st value', \n",
        "           'key2' : 'my 2nd value',\n",
        "           'key3' : 3\n",
        "           }\n",
        "my_dict[\"key1\"] # Return 'my 1st value'\n",
        "my_dict.get(\"key1\") # Return 'my 1st value' like my_dict[\"key1\"]\n",
        "my_dict.keys() # Return all keys within dictionary => ['key1', 'key2', 'key3']\n",
        "my_dict.values() # Return all values within dictionary => ['my 1st value', 'my 2nd value', 3]\n",
        "my_dict.items() # Return all key and values within dictionary => [('key1', 'my 1st value'), ('key2', 'my 2nd value'), ('key3', 3)]\n",
        "my_dict[\"key2\"] = 'I change the 2nd value' # Modify the value for \"key2\"\n",
        "del my_dict['key1'] # Delete the 'key1' item\n",
        "my_dict.pop(\"key1\") # Delete \"key1\"\n",
        "my_dict.clear() # Clear the whole dictionary\n",
        "my_dict2 = dict(color=\"C8\", linewidth=2) # return = {'color': 'C8', 'linewidth': 2}\n",
        "my_dict_inv = {v: k for k, v in my_dict_inv.items()} # Return inverse of the dictionnary (keys become values and values become keys)\n",
        "my_dict_inv = dict(zip(my_dict.values(), my_dict.keys()))\n",
        "my_dict"
      ],
      "execution_count": null,
      "outputs": [
        {
          "output_type": "execute_result",
          "data": {
            "text/plain": [
              "{'key2': 'I change the 2nd value', 'key3': 3}"
            ]
          },
          "metadata": {
            "tags": []
          },
          "execution_count": 56
        }
      ]
    },
    {
      "cell_type": "markdown",
      "metadata": {
        "id": "psjR5WcnB9wn",
        "colab_type": "text"
      },
      "source": [
        "## G. SELECTING / SLICING"
      ]
    },
    {
      "cell_type": "markdown",
      "metadata": {
        "id": "z-8hLOIFA9q6",
        "colab_type": "text"
      },
      "source": [
        "> **Overview**\n",
        "\n",
        "**a**[*beg:end:step*]\n",
        "\n",
        "with *beg* = index **starting from 0** => can put negative value so start from the end => e.g. [-1] = last char\n",
        "\n",
        "with *end* = index **not** included\n",
        "\n",
        "with *step* = step to move from beg to end => step [0:4:2] would get index 0 => index 2 => NOT index 4 (not included)"
      ]
    },
    {
      "cell_type": "markdown",
      "metadata": {
        "id": "Ne02E8HSD9RA",
        "colab_type": "text"
      },
      "source": [
        ">> **For strings**"
      ]
    },
    {
      "cell_type": "code",
      "metadata": {
        "id": "Nk5Wcy1JDPnd",
        "colab_type": "code",
        "colab": {
          "base_uri": "https://localhost:8080/",
          "height": 35
        },
        "outputId": "9fa111bf-ca09-4bcf-bf18-67d91da3f653"
      },
      "source": [
        "# For strings\n",
        "my_string = 'Text'\n",
        "my_string[0] # return 'T'\n",
        "my_string[-1] # return 't' => last char\n",
        "my_string[:2] # return 'Te' => from index 0 till index 2 NOT included\n",
        "my_string[::2] # return 'Tx' => index 0 and index 2"
      ],
      "execution_count": null,
      "outputs": [
        {
          "output_type": "execute_result",
          "data": {
            "text/plain": [
              "'Tx'"
            ]
          },
          "metadata": {
            "tags": []
          },
          "execution_count": 58
        }
      ]
    },
    {
      "cell_type": "markdown",
      "metadata": {
        "id": "4BWePn5hEEUX",
        "colab_type": "text"
      },
      "source": [
        ">> **For Lists**"
      ]
    },
    {
      "cell_type": "code",
      "metadata": {
        "id": "YBNa8Sg0HQeu",
        "colab_type": "code",
        "colab": {
          "base_uri": "https://localhost:8080/",
          "height": 35
        },
        "outputId": "559e94e6-a2c1-489c-bbfc-261279361cc5"
      },
      "source": [
        "# For list\n",
        "my_list = [1, 2 ,3]\n",
        "my_list[0] # return 1\n",
        "my_list[0:2] # return [1, 2]\n",
        "my_list[-1] # return 3\n",
        "\n",
        "my_list2 = [[1, 2, 3, 4], ['a', 'b', 'c']]\n",
        "my_list2[1] # return ['a', 'b', 'c']\n",
        "my_list2[0][1] # return 2\n",
        "# Subsets\n",
        "my_list2[0][1:2] # return [2]\n",
        "#my_list2[0][1:3] # return [2, 3]\n",
        "# Advanced\n",
        "my_list3 = [[[1, 2, 3], [4, 5, 6]],['a', 'b', 'c']]\n",
        "my_list3[0][1][1:3] # return [5, 6]"
      ],
      "execution_count": null,
      "outputs": [
        {
          "output_type": "execute_result",
          "data": {
            "text/plain": [
              "[5, 6]"
            ]
          },
          "metadata": {
            "tags": []
          },
          "execution_count": 59
        }
      ]
    },
    {
      "cell_type": "markdown",
      "metadata": {
        "id": "o2krOrj8Uk8m",
        "colab_type": "text"
      },
      "source": [
        ">> **For Dictionary**"
      ]
    },
    {
      "cell_type": "code",
      "metadata": {
        "id": "y7YqlX_PUs58",
        "colab_type": "code",
        "colab": {}
      },
      "source": [
        "# For Dictionary you should use: \n",
        "# - the dictionary key\n",
        "# - loop using \"for:\"\n",
        "print({k:d[k] for k in l if k in d})"
      ],
      "execution_count": null,
      "outputs": []
    },
    {
      "cell_type": "markdown",
      "metadata": {
        "id": "WshPfy2lTJtA",
        "colab_type": "text"
      },
      "source": [
        "## H. DATAFRAMES / SERIES - PANDAS"
      ]
    },
    {
      "cell_type": "markdown",
      "metadata": {
        "id": "rfnZXuoKt3bc",
        "colab_type": "text"
      },
      "source": [
        "> Manage file data set"
      ]
    },
    {
      "cell_type": "code",
      "metadata": {
        "id": "naOE44cMu4tk",
        "colab_type": "code",
        "colab": {}
      },
      "source": [
        "#LOAD DATA\n",
        "\n",
        "# Load data\n",
        "dataset = pd.read_csv('filename.csv', header=None, usecols=[3,6]) \n",
        "# 'header=None' => there is no header in columns | add the 'usecols' to say no header only for certain columns (4th to 6th)\n",
        "dataset = pd.read_csv(\"/content/drive/My Drive/Kaggle/train.csv\") # Example with data stored on google drive\n",
        "\n",
        "# Get data directly from url\n",
        "data_url = 'https://archive.ics.uci.edu/ml/machine-learning-databases/iris/iris.data'\n",
        "dataset = pd.read_csv(data_url, header=None)\n",
        "\n",
        "# Download (export) to csv\n",
        "pd.to_csv('filename_exported.csv', index = False) # 'index = False' is not mandatory and remove index from export"
      ],
      "execution_count": null,
      "outputs": []
    },
    {
      "cell_type": "code",
      "metadata": {
        "id": "4VY-aPeFXK7o",
        "colab_type": "code",
        "colab": {}
      },
      "source": [
        "# TRANSFORM DATAFRAME / SERIES\n",
        "\n",
        "# Series\n",
        "d_series = pd.Series(data= dataset, name=series_or_column_name) # can add 'index= ds.index' with same length as dataset / 'dtype=...' to change dtype \n",
        "\n",
        "# DataFrame\n",
        "df = pd.DataFrame(data = dataset, columns=dataset.columns)\n",
        "\n",
        "# Series to Dataframe\n",
        "df = pd.DataFrame(data = pd.Series(dataset_series)).reset_index()\n",
        "\n",
        "# FLATTEN\n",
        "ds.flatten() # Transform to 0D vector"
      ],
      "execution_count": null,
      "outputs": []
    },
    {
      "cell_type": "code",
      "metadata": {
        "id": "WpVYOBBQt_hd",
        "colab_type": "code",
        "colab": {}
      },
      "source": [
        "# MERGE DATA SET\n",
        "\n",
        "# Merge 2 datasets into 1\n",
        "dataset = df1.merge(df2, left_on='lkey', right_on='rkey',suffixes=('_left', '_right')) # suffixes is NOT mandatory to add extra suffixes\n",
        "\n",
        "# Concatenate\n",
        "dataset = pd.concat([dataset_1, dataset_2], join=\"inner\", axis=1) \n",
        "# 'inner' join to get only values shared among 2 datasets and 'axis=1' to add has new column (axis=0 by default => rows) \n",
        "\n",
        "# Join\n",
        "dataset = ds1.join(ds2) # can add 'on=key_column' to join on specific key otherwise will do on index level\n",
        "\n",
        "# Append\n",
        "dataset = dataset.append(ds2) # must set dataset = xx.append()"
      ],
      "execution_count": null,
      "outputs": []
    },
    {
      "cell_type": "code",
      "metadata": {
        "id": "1JzMVAjDr9Av",
        "colab_type": "code",
        "colab": {}
      },
      "source": [
        "# RESET INDEX\n",
        "ds.reset_index(drop=True) # reset your index for the dataset => by default drop = False but = True avoid get old \"index values\" as a new column"
      ],
      "execution_count": null,
      "outputs": []
    },
    {
      "cell_type": "markdown",
      "metadata": {
        "id": "pG3_Cu0Q_tfk",
        "colab_type": "text"
      },
      "source": [
        "> Modification in DataFrame"
      ]
    },
    {
      "cell_type": "code",
      "metadata": {
        "id": "sv8-NzdbPd11",
        "colab_type": "code",
        "colab": {}
      },
      "source": [
        "# DELETE Columns\n",
        "dataset.drop(['column_1', 'column_2'], axis=1)\n",
        "dataset.drop(columns=['column_1', 'column_2'])\n",
        "\n",
        "# DELETE Rows\n",
        "dataset.drop([0, 1]) # delete row in index 0 AND 1 => it is NOT ranging from 0 to 1"
      ],
      "execution_count": null,
      "outputs": []
    },
    {
      "cell_type": "code",
      "metadata": {
        "id": "eES8GbV43HR2",
        "colab_type": "code",
        "colab": {}
      },
      "source": [
        "# DATA TYPE\n",
        "# Get the data type\n",
        "dataset.column_name.dtypes\n",
        "\n",
        "# Change Data Type\n",
        "dataset['column_name'].astype('int64') # modify to integer the value in column name\n",
        "# Main data type = 'object' / 'str' / 'int64' / 'float64'\n",
        "\n",
        "# Change Str to Float (ex : price with '$85.00' and sometimes '$1,000.00')\n",
        "# OPTION 1\n",
        "ds['price2'] = ds.price.apply(lambda x : x[1:])\n",
        "ds['price2'] = ds.price2.str.replace(',','').astype('float64')\n",
        "\n",
        "#OPTION 2\n",
        "ds['price2'] = X_clean.price.apply(lambda x: float(str(x).replace(\",\",\"\").replace(\"nan\",\"$0\")[1:])) # replace nan by \"$0\" because at the end we slice removing 1st index\n",
        "\n",
        "# OPTION 3 faster(10 to 15%)  than 1 and 2 but not the if type ... security\n",
        "ds['price2'] = ds.price.str.slice(1).str.replace(',','').astype('float64')\n",
        "\n",
        "\n",
        "# Map odd float to string\n",
        "dataset['column_name'].map(str) # 7.327584e+08 => 732758368.79972"
      ],
      "execution_count": null,
      "outputs": []
    },
    {
      "cell_type": "code",
      "metadata": {
        "id": "jlCOGltqiiGv",
        "colab_type": "code",
        "colab": {}
      },
      "source": [
        "# COLUMNS\n",
        "\n",
        "# Reset index\n",
        "ds.set_index('month') # month column will replace the current index\n",
        "\n",
        "# Insert Column\n",
        "dataset.insert(loc_index, column_name_created, column_value) # DO NOT SET : 'dataset = dataset.insert ....' | Where \"loc_index\" = index of the column to insert (NOT replace) the new column\n",
        "\n",
        "# Re-order (move) column to the end\n",
        "cols_at_end = ['col_last']\n",
        "dataset = dataset[[c for c in dataset if c not in cols_at_end] \n",
        "        + [c for c in cols_at_end if c in dataset]]\n",
        "\n",
        "# Create new dataset with specific column\n",
        "new_dataset = old_dataset[['col_1', 'col_3']]"
      ],
      "execution_count": null,
      "outputs": []
    },
    {
      "cell_type": "code",
      "metadata": {
        "id": "o-90b4ig1trh",
        "colab_type": "code",
        "colab": {}
      },
      "source": [
        "# RENAME\n",
        "# Columns\n",
        "df.rename(columns={\"A\": \"a\", \"B\": \"c\"}) # can rename 1 or several columns\n",
        "df.rename(str.lower, axis='columns')\n",
        "df.columns = ['col_name_1','col_name_2', 'col_name_3]\n",
        "\n",
        "\n",
        "# Rows\n",
        "df.rename(index={0: \"x\", 1: \"y\", 2: \"z\"})\n",
        "df.rename({1: 2, 2: 4}, axis='index')\n"
      ],
      "execution_count": null,
      "outputs": []
    },
    {
      "cell_type": "code",
      "metadata": {
        "id": "jpA0kHZge4YK",
        "colab_type": "code",
        "colab": {}
      },
      "source": [
        "# SLICING / SELECTION\n",
        "\n",
        "# Get all columns from Dataframes except column \"Price\" put in another variable using \"\".loc\"\n",
        "X = dataset.loc[:, dataset.columns != \"Price\"]\n",
        "y = dataset.loc[:, dataset.columns == \"Price\"] # Warning : Create a DataFrame\n",
        "y = dataset.iloc[:, -1:] # PLEASE NOTE  : Creates a 'Series'\n",
        "\n",
        "# Get specific columns\n",
        "dataset.loc[:, ['column_1', 'column_2', 'column_3']]\n",
        "\n",
        "# Mask to select\n",
        "mask = dataset['column_1'] == dataset['column_2']\n",
        "dataset[mask].head()\n",
        "# example:\n",
        "mask = (ds_2.y >=-0.01) & (ds_2.y <=0.01)\n",
        "ds_2[mask]\n",
        "\n",
        "\n",
        "# Select based on Data type\n",
        "X_num = X.select_dtypes(\"number\")\n",
        "X_cat = X.select_dtypes(exclude=\"number\")\n",
        "\n",
        "# Slicing within each \"cell\"\n",
        "ds.price = ds[\"price\"].str.slice(start, end, step)"
      ],
      "execution_count": null,
      "outputs": []
    },
    {
      "cell_type": "markdown",
      "metadata": {
        "id": "FvvrOuqJ73L-",
        "colab_type": "text"
      },
      "source": [
        "> Calculation in DataFrames"
      ]
    },
    {
      "cell_type": "code",
      "metadata": {
        "id": "RJwCjzNDX-a1",
        "colab_type": "code",
        "colab": {}
      },
      "source": [
        "# Basic Calculation\n",
        "ds['column_1'].mean() # return mean\n",
        "ds['column_1'].median() # return median\n",
        "ds['column_1'].std() # return standard deviation\n",
        "ds['column_1'] = pd.qcut(ds['column_2'], q=4, labels=False) # Allow to split within same column in quartile, decile etc. | 'labels=False' to see the real result\n",
        "ds['column_1'] = pd.cut(ds['column_2'], 5, labels=False) # labels=False => can put list same lenght different cut (5 in ex) or False => digit from 0 to 4 in example"
      ],
      "execution_count": null,
      "outputs": []
    },
    {
      "cell_type": "code",
      "metadata": {
        "id": "fiBrT1FK77UV",
        "colab_type": "code",
        "colab": {}
      },
      "source": [
        "# GROUPBY => Consolidate by specific column to do calculation\n",
        "# basic functions\n",
        "dataset.groupby('column_name')\n",
        "dataset.groupby('column_name').max()\n",
        "\n",
        "# multi_columns\n",
        "dataset.groupby('column_1')['column_2', 'column_3'].sum()\n",
        "\n",
        "# Calculate value length in column\n",
        "dataset['column_length'] = dataset['column_name'].apply(len) # Warning => 'float' has no length =>  must '.map(str)' before calculating"
      ],
      "execution_count": null,
      "outputs": []
    },
    {
      "cell_type": "code",
      "metadata": {
        "id": "5pVv4IsHLqnJ",
        "colab_type": "code",
        "colab": {}
      },
      "source": [
        "# Apply a created function\n",
        "def your_function:\n",
        "  do_something\n",
        "\n",
        "dataset['column1'] =  dataset2['columnX'].apply(your_function)"
      ],
      "execution_count": null,
      "outputs": []
    },
    {
      "cell_type": "code",
      "metadata": {
        "id": "cvtLN90cAR8E",
        "colab_type": "code",
        "colab": {}
      },
      "source": [
        "# Unique Value\n",
        "ds['col_1'].unique() # return unique values\n",
        "np.unique(labels) # return unique values\n",
        "\n",
        "# Calculate count of unique value\n",
        "pd.Series(dataset.feature_column.unique()).value_counts() # Get the list of the unique values\n",
        "len(pd.Series(dataset.feature_column.unique())) # Get the count number of unique values\n",
        "np.unique(y_train, return_counts=True) # return_counts = True => displays the count per unique value\n",
        "\n",
        "# For loop to see unique value in Dataset\n",
        "for i in dataset.columns:\n",
        "  print(\"{} count unique value : {}\".format(\n",
        "      i, len(pd.Series(ds[i].unique()))\n",
        "  ))"
      ],
      "execution_count": null,
      "outputs": []
    },
    {
      "cell_type": "markdown",
      "metadata": {
        "id": "7zbR5s20f1sS",
        "colab_type": "text"
      },
      "source": [
        "# **3. ADVANCED**\n",
        "\n",
        "---"
      ]
    },
    {
      "cell_type": "markdown",
      "metadata": {
        "id": "Bq7w8ZjAgYk3",
        "colab_type": "text"
      },
      "source": [
        "## A. MAPPING DATA"
      ]
    },
    {
      "cell_type": "code",
      "metadata": {
        "id": "aNyEDLfmf6__",
        "colab_type": "code",
        "colab": {}
      },
      "source": [
        "# Create dictionnary to map data\n",
        "mapping = {\n",
        "    0 : \"Unregistered\",\n",
        "    1 : \"Registered\",\n",
        "    2 : \"Super Registered\"\n",
        "    }\n",
        "_.apply(lambda x : mapping[x])"
      ],
      "execution_count": null,
      "outputs": []
    },
    {
      "cell_type": "code",
      "metadata": {
        "id": "f65Am1Zhg3SH",
        "colab_type": "code",
        "colab": {}
      },
      "source": [
        "# inverse this mapping dictionnary\n",
        "inv_mapping = {v: k for k, v in mapping.items()}\n",
        "_.apply(lambda x : inv_mapping[x])"
      ],
      "execution_count": null,
      "outputs": []
    },
    {
      "cell_type": "code",
      "metadata": {
        "id": "VmFTltZsBSt4",
        "colab_type": "code",
        "colab": {}
      },
      "source": [
        "# Complicated mappng with \"betwwen style\"\n",
        "for i,(min, max, value_to_put) in dataset_2.iterrows():\n",
        "        df1.loc[(dataset_1[\"value\"] >= min) & (dataset_1[\"value\"] < max),\"new_column_name\"] = value_to_put"
      ],
      "execution_count": null,
      "outputs": []
    },
    {
      "cell_type": "code",
      "metadata": {
        "id": "j0SpMSpwNDg4",
        "colab_type": "code",
        "colab": {}
      },
      "source": [
        "# Apply target_names to target value\n",
        "y = pd.Categorical.from_codes(wine.target, wine.target_names)"
      ],
      "execution_count": null,
      "outputs": []
    },
    {
      "cell_type": "code",
      "metadata": {
        "id": "I0z5bXECmMdz",
        "colab_type": "code",
        "colab": {}
      },
      "source": [
        "# Quickly transform numerical field in 0 / 1 style target value\n",
        "dataset.iloc[:, -1] = (dataset.iloc[:, -1]>=0.75)*1"
      ],
      "execution_count": null,
      "outputs": []
    },
    {
      "cell_type": "code",
      "metadata": {
        "id": "qkU-xqtXLMFY",
        "colab_type": "code",
        "colab": {}
      },
      "source": [
        "# Apply country mapping based on ip address using own function taking data from another dataset\n",
        "def transform_ip(arg) :\n",
        "  try :\n",
        "    return ds_ip.country[(ds_ip.lower_bound_ip_address <= arg) & (ds_ip.upper_bound_ip_address >= arg)].iloc[0]\n",
        "  except IndexError :\n",
        "    return \"Unknown country\"\n",
        "\n",
        "ds_fraud[\"country\"] = ds_fraud.ip_address.apply(transform_ip)\n"
      ],
      "execution_count": null,
      "outputs": []
    },
    {
      "cell_type": "markdown",
      "metadata": {
        "id": "jNinXut4r7oh",
        "colab_type": "text"
      },
      "source": [
        "## B. DUMMYFICATION"
      ]
    },
    {
      "cell_type": "code",
      "metadata": {
        "id": "lP--1U9hr6l7",
        "colab_type": "code",
        "colab": {}
      },
      "source": [
        "# Dummyfication of a column\n",
        "dataset = pd.get_dummies(dataset, columns = [\"Cabin_1\"], prefix =\"Cabin_1\", drop_first=True)\n",
        "# if only dataset and no columns => all object / str feature will be dummified\n",
        "# prefix is NOt mandatory and allow to add extra prefix (Python already provide one automatically)\n",
        "# drop_first=True => VERY IMPORTANT allow to avoid dummyfy all values withn columns and keep all of them (wrong because should always NOT keeping 1)"
      ],
      "execution_count": null,
      "outputs": []
    },
    {
      "cell_type": "markdown",
      "metadata": {
        "id": "xk7t-mG_lKyR",
        "colab_type": "text"
      },
      "source": [
        "## C. LOOP"
      ]
    },
    {
      "cell_type": "code",
      "metadata": {
        "id": "-ZNafu9clTCJ",
        "colab_type": "code",
        "colab": {}
      },
      "source": [
        "# Enumarate\n",
        "# Allow to loop with index\n",
        "\n",
        "my_list = ['apple', 'banana', 'grapes', 'pear']\n",
        "for c, value in enumerate(my_list, 1):\n",
        "    print(c, value)\n",
        "# return\n",
        "# 1 apple\n",
        "# 2 banana\n",
        "# 3 grapes\n",
        "# 4 pear"
      ],
      "execution_count": null,
      "outputs": []
    },
    {
      "cell_type": "markdown",
      "metadata": {
        "id": "fSPh54AiV4cI",
        "colab_type": "text"
      },
      "source": [
        "## D. DATE"
      ]
    },
    {
      "cell_type": "code",
      "metadata": {
        "id": "9fkY14SgmYBO",
        "colab_type": "code",
        "colab": {}
      },
      "source": [
        "# Transform str pandas to date\n",
        "ds['date'] = pd.to_datetime(ds.date, format='%Y-%m-%d') # format to specify the date format"
      ],
      "execution_count": null,
      "outputs": []
    },
    {
      "cell_type": "code",
      "metadata": {
        "id": "H2UtjUEHzvWx",
        "colab_type": "code",
        "colab": {}
      },
      "source": [
        "# Transform format date\n",
        "dataset['period'] = dataset.period.strftime(\"%d/%m/%Y\")"
      ],
      "execution_count": null,
      "outputs": []
    },
    {
      "cell_type": "code",
      "metadata": {
        "id": "DZF_W9jGV7aF",
        "colab_type": "code",
        "colab": {}
      },
      "source": [
        "# Transform date string into date number\n",
        "import datetime\n",
        "date_time_str = '2018-06-29 08:15:27.243860'\n",
        "date_time_obj = datetime.datetime.strptime(date_time_str, '%Y-%m-%d %H:%M:%S.%f')"
      ],
      "execution_count": null,
      "outputs": []
    },
    {
      "cell_type": "code",
      "metadata": {
        "id": "SWhJjQNoK6UI",
        "colab_type": "code",
        "colab": {}
      },
      "source": [
        "# Calculate Delta in seconds using log10 scale\n",
        "ds['delta_sec'] = (ds.purchase_time - ds.signup_time).apply(lambda x : np.log10((x.days * 86400) + x.seconds))"
      ],
      "execution_count": null,
      "outputs": []
    },
    {
      "cell_type": "code",
      "metadata": {
        "id": "qveCUYQeOIOd",
        "colab_type": "code",
        "colab": {}
      },
      "source": [
        "# Create index date range 9 days\n",
        "index = pd.date_range('1/1/2000', periods=9, freq='T')"
      ],
      "execution_count": null,
      "outputs": []
    },
    {
      "cell_type": "code",
      "metadata": {
        "id": "iFOdSi8jVne_",
        "colab_type": "code",
        "colab": {}
      },
      "source": [
        "# Reseample (transform) data time into other frequency (e.g. from second to day etc.)\n",
        "series.resample('3T').sum() # return time series in 3 groups summed\n",
        "\n",
        "series.resample('1d').sum() # "
      ],
      "execution_count": null,
      "outputs": []
    },
    {
      "cell_type": "code",
      "metadata": {
        "id": "QLwZH5a7Mr9z",
        "colab_type": "code",
        "colab": {}
      },
      "source": [
        "# Week Day number (0 = Monday)\n",
        "dataset.date.weekday()"
      ],
      "execution_count": null,
      "outputs": []
    },
    {
      "cell_type": "markdown",
      "metadata": {
        "id": "YAoeS3iP-vAB",
        "colab_type": "text"
      },
      "source": [
        "##E. RANDOM GENERATED DATA"
      ]
    },
    {
      "cell_type": "code",
      "metadata": {
        "id": "T92r0iKU-1pr",
        "colab_type": "code",
        "colab": {}
      },
      "source": [
        "# random.randint\n",
        "np.random.randint(min, max, size=None) # 'size' can be integer or None by default (create 1 report)"
      ],
      "execution_count": null,
      "outputs": []
    },
    {
      "cell_type": "markdown",
      "metadata": {
        "id": "NpyGWfARXBZd",
        "colab_type": "text"
      },
      "source": [
        "##F. FILL THE GAP"
      ]
    },
    {
      "cell_type": "code",
      "metadata": {
        "id": "-PUw2HUiXGJt",
        "colab_type": "code",
        "colab": {}
      },
      "source": [
        "#PAD \n",
        "# To add at the beginnng and end of an array some values\n",
        "a = [1, 2, 3, 4, 5]\n",
        "\n",
        "np.pad(a, (2, 3), 'edge') # return array([1, 1, 1, ..., 5, 5, 5])\n",
        "np.pad(a, (2,), 'mean') # return array([3, 3, 1, 2, 3, 4, 5, 3, 3]) => works with 'median'\n",
        "np.pad(a, (2, 3), 'linear_ramp', end_values=(5, -4)) # return array([ 5,  3,  1,  2,  3,  4,  5,  2, -1, -4])"
      ],
      "execution_count": null,
      "outputs": []
    },
    {
      "cell_type": "markdown",
      "metadata": {
        "id": "RP3WTao1QL-f",
        "colab_type": "text"
      },
      "source": [
        "##G. UNZIP / TAR FILES"
      ]
    },
    {
      "cell_type": "code",
      "metadata": {
        "id": "L3yd3cR0QQKj",
        "colab_type": "code",
        "colab": {}
      },
      "source": [
        "# UNZIP\n",
        "!unzip /content/train_photos.tgz.zip"
      ],
      "execution_count": null,
      "outputs": []
    },
    {
      "cell_type": "code",
      "metadata": {
        "id": "unlSSB-NQO7o",
        "colab_type": "code",
        "colab": {}
      },
      "source": [
        "# TAR FILES\n",
        "import tarfile\n",
        "file = tarfile.open(\"train_photos.tgz\", mode=\"r:gz\")\n",
        "file.extractall()\n",
        "file.close()"
      ],
      "execution_count": null,
      "outputs": []
    },
    {
      "cell_type": "markdown",
      "metadata": {
        "id": "Cv6fwZcZZKHF",
        "colab_type": "text"
      },
      "source": [
        "##H. EXPORT TO FILE"
      ]
    },
    {
      "cell_type": "code",
      "metadata": {
        "id": "E1ib9LtUZOII",
        "colab_type": "code",
        "colab": {}
      },
      "source": [
        "# Export to Txt file\n",
        "  text_file = open(\"./your_file.txt\", \"w\", encoding='utf8') # Open (or create if not existing) a file on the same current working directory called your_file | \"w\" for write mode\n",
        "  text_file.write(your_data) # to save \"your_data\" within the file\n",
        "  text_file.close() # Close the file (not mandatory)"
      ],
      "execution_count": null,
      "outputs": []
    },
    {
      "cell_type": "code",
      "metadata": {
        "id": "lEJpvtE_hMQ4",
        "colab_type": "code",
        "colab": {}
      },
      "source": [
        "# Export to Excel\n",
        "data = data_to_save_to_excel\n",
        "xl = pd.ExcelWriter(path + filename)\n",
        "data.to_excel(xl)\n",
        "xl.save()\n"
      ],
      "execution_count": null,
      "outputs": []
    },
    {
      "cell_type": "markdown",
      "metadata": {
        "id": "_WNWlKxdatJ1",
        "colab_type": "text"
      },
      "source": [
        "##I. OS / DIRECTORY"
      ]
    },
    {
      "cell_type": "code",
      "metadata": {
        "id": "_id5ScT6ax7V",
        "colab_type": "code",
        "colab": {}
      },
      "source": [
        "# Lirary\n",
        "import os\n",
        "\n",
        "# Basics\n",
        "os.mkdir('sample') # Create directory called \"sample\"\n"
      ],
      "execution_count": null,
      "outputs": []
    },
    {
      "cell_type": "markdown",
      "metadata": {
        "id": "YBCh1XkJmvpa",
        "colab_type": "text"
      },
      "source": [
        "# **4. VISUALISATION**\n",
        "\n",
        "---"
      ]
    },
    {
      "cell_type": "markdown",
      "metadata": {
        "id": "f59RNunDriRI",
        "colab_type": "text"
      },
      "source": [
        "See https://colab.research.google.com/notebooks/charts.ipynb for many charts examples."
      ]
    },
    {
      "cell_type": "markdown",
      "metadata": {
        "id": "HpsuDGAOm2Mh",
        "colab_type": "text"
      },
      "source": [
        "## A. SEABORN"
      ]
    },
    {
      "cell_type": "markdown",
      "metadata": {
        "id": "xBgY2v7Bnb1b",
        "colab_type": "text"
      },
      "source": [
        "> 1 feature"
      ]
    },
    {
      "cell_type": "code",
      "metadata": {
        "id": "HXZCiwejm8Yy",
        "colab_type": "code",
        "colab": {}
      },
      "source": [
        "# DISTRIBUTION PLOT\n",
        "sns.distplot(dataset.feature1, kernel=False) # kernel = False will remove the kernel line => by default = True\n",
        "\n",
        "# CAT PLOT => Compare against the mean\n",
        "# Black line = confidance interval\n",
        "sns.catplot(x=\"feature1\", data=dataset, kind=\"bar\")\n",
        "\n",
        "# BOX PLOT # Easily check the outliers\n",
        "sns.catplot(y\"feature2\", data=dataset, kind=\"box\")\n"
      ],
      "execution_count": null,
      "outputs": []
    },
    {
      "cell_type": "markdown",
      "metadata": {
        "id": "XqVAQFHBnd3i",
        "colab_type": "text"
      },
      "source": [
        "> 2 features"
      ]
    },
    {
      "cell_type": "code",
      "metadata": {
        "id": "MTMZ0knVnguC",
        "colab_type": "code",
        "colab": {}
      },
      "source": [
        "# RELATION PLOT\n",
        "sns.relplot(x=\"feature1\", y=\"feature2\", data=dataset)\n",
        "# can use the aspect parameter to increase size\n",
        "sns.relplot(x=\"feature1\", y=\"feature2\", data=dataset, aspect=5)\n",
        "# can add further features using hue, size, style\n",
        "sns.relplot(x=\"feature1\", y=\"feature2\", hue=\"feature3\", size=\"feature4\", style=\"feature5\", data=dataset)\n",
        "\n",
        "\n",
        "# LINE PLOT\n",
        "sns.relplot(x=\"feature1\", y=\"feature2\", data=dataset, kind=\"line\")\n",
        "\n",
        "# BAR PLOT => like CAT plot but compare against y value\n",
        "sns.barplot(x=\"feature1\", y=\"feature2\", data=dataset)\n",
        "\n",
        "# BOX PLOT # Easily check the outliers\n",
        "sns.catplot(x=\"feature1\", y\"feature2\", data=dataset, kind=\"box\")\n",
        "\n",
        "# HEAT MAP => generaly used for correlation matrix\n",
        "sns.heatmap(dataset.corr(), annot=True, fmt='d', center=0) # with 'fmt' not mandatory => to see integer / annot=True to display value / cmap='' to change color\n",
        "\n",
        "# LMPLOT\n",
        "sns.lmplot(x=\"feature1\", y=\"feature2\", data=dataset) # can play with the hue etc.\n",
        "sns.lmplot(x=\"feature1\", y=\"feature2\", data=dataset, logistic=True) # to see logistic.\n",
        "\n",
        "# SCATTER PLOT\n",
        "sns.scatterplot(x= \"feature1\", y= \"feature2\", hue=\"target_value\", data =  dataset)\n",
        "\n",
        "# VIOLON PLOT => like BOX plot to see outliers\n",
        "sns.violinplot(x=\"feature1\", y=\"feature2\", data=dataset)"
      ],
      "execution_count": null,
      "outputs": []
    },
    {
      "cell_type": "markdown",
      "metadata": {
        "id": "wKGRDh84YQ3I",
        "colab_type": "text"
      },
      "source": [
        "> Every Features"
      ]
    },
    {
      "cell_type": "code",
      "metadata": {
        "id": "2ntNgrZCYPdr",
        "colab_type": "code",
        "colab": {}
      },
      "source": [
        "#PAIRPLOTS => it takes some time to be made\n",
        "sns.pairplots(dataset)\n"
      ],
      "execution_count": null,
      "outputs": []
    },
    {
      "cell_type": "markdown",
      "metadata": {
        "id": "kp3_LILem5Wq",
        "colab_type": "text"
      },
      "source": [
        "## B. MATPLOTLIB"
      ]
    },
    {
      "cell_type": "markdown",
      "metadata": {
        "id": "pFoOSgrOBOek",
        "colab_type": "text"
      },
      "source": [
        "We will use mainly the Object-Oriented Interface => ex: fig, ax = plt.subplots(2)"
      ]
    },
    {
      "cell_type": "markdown",
      "metadata": {
        "id": "DA3Ebd1bJ4wO",
        "colab_type": "text"
      },
      "source": [
        "I. General Tips"
      ]
    },
    {
      "cell_type": "code",
      "metadata": {
        "id": "byiAX2Oe4DSj",
        "colab_type": "code",
        "colab": {}
      },
      "source": [
        "# DATA inputs : Recommended to input numpy data instead of pandas\n",
        "ds.values # => transform pdandas to numpy data\n",
        "\n",
        "# Can set your parameters in dictionnary and call them later on using **name of the dictionary\n",
        "style = dict(color=\"C8\", linewidth=2, linestyle=\"--\", marker=\"o\")\n",
        "plt.plot(x, y, **style) # if not using **style then create error because do NOT understand the dictionnary and do NOT transfomr it in parameters for the plot.\n"
      ],
      "execution_count": null,
      "outputs": []
    },
    {
      "cell_type": "markdown",
      "metadata": {
        "id": "FaSOfc3zFl0y",
        "colab_type": "text"
      },
      "source": [
        "II. Basic Setups"
      ]
    },
    {
      "cell_type": "code",
      "metadata": {
        "id": "lTKbITaPOZV1",
        "colab_type": "code",
        "colab": {}
      },
      "source": [
        "# Figure is the overal component with subdivisions called 'subplots' or 'axes'\n",
        "plt.figure()  # create a plot figure (may contains multiple plots/charts)\n",
        "\n",
        "# Global figure style\n",
        "plt.style.use('classic')\n",
        "plt.style.use('bmh')\n",
        "plt.style.use('fivethirtyeight')\n",
        "plt.style.use('seaborn-colorblind')\n",
        "\n",
        "plt.style.available[:] # See all styles available\n",
        "\n",
        "# FIG SIZE SETTINGS\n",
        "fig.set_size_inches(15,15) # Set size all figures\n",
        "plt.subplots(figsize=(20, 5)) # other options for 1 plot\n",
        "\n",
        "  # C. SubPlot (aka axes)\n",
        "fig, ax = plt.subplots(2, 2) # Create subplots grids with 2 x 2 subplots within it\n",
        "fig, ax = plt.subplots(2, 3, sharex='col', sharey='row') # 2 Rows & 3 columns | Share x legend per column + share y legend per colonne => choose 'all' to share withn whole subplots\n",
        "# You call each ax through slicing\n",
        "ax[0, 1] to get the subplots in the 1st row (index 0) and 2nd column (index 1)"
      ],
      "execution_count": null,
      "outputs": []
    },
    {
      "cell_type": "code",
      "metadata": {
        "id": "0FmbpaAa54v7",
        "colab_type": "code",
        "colab": {
          "base_uri": "https://localhost:8080/",
          "height": 592
        },
        "outputId": "11ee7625-6b49-4b35-921b-5a0e1315eea8"
      },
      "source": [
        "# 3. PLOT TYPES\n",
        "\n",
        "fig, ax = plt.subplots(4,3)\n",
        "fig.set_size_inches(15,10)\n",
        "\n",
        "ds = pd.DataFrame({\"C1\":[1,2,3,4], \"C2\":[9,8,7,6]})\n",
        "x = ds.iloc[:, 0]\n",
        "y = ds.iloc[:, 1]\n",
        "z = np.random.randn(150, 1)\n",
        "data1, data2 = np.random.randn(2,1000)\n",
        "\n",
        "\n",
        "#LINE PLOT\n",
        "ax[0,0].plot(x, y) # grid 0\n",
        "\n",
        "style = dict(color=\"C8\", linewidth=2, linestyle=\"--\", marker=\"o\")\n",
        "ax[0,1].plot(x, y + 1, **style) # grid 0\n",
        "\n",
        "#SCATTERPLOT : # = relplot with kind = 'scatter' (scatter = a point cloud)\n",
        "x = np.random.randint(0, 100, size = 20)\n",
        "y = np.random.randint(0, 50, size = 20)\n",
        "ax[0,2].scatter(x, y, marker=\"x\", color=\"C5\")\n",
        "\n",
        "# HISTOGRAMME\n",
        "ax[1,0].hist(z, bins=100, color=\"C1\") #Colors => C0 à C9 \n",
        "\n",
        "# KDEPLOT : kernel density estimation #noyau dur de vos données => CAN ADD SEARBORN PLOTS\n",
        "sns.kdeplot([1,2,3,4,5,6,7],[22,12,56,73,23,78,53], shade=True, shade_lowest=True, ax=ax[1,1])\n",
        "\n",
        "# PIE CHART\n",
        "ax[1,2].pie([2,3,1,5], labels=[\"Car\", \"Trucks\", \"Motorbikes\", \"Bikes\"], autopct=\"%1.0f%%\", explode=(0, 0.15, 0, 0))\n",
        "\n",
        "# BARPLOT\n",
        "ax[2,0].bar([\"Car\", \"Trucks\", \"Motorbikes\", \"Bikes\"], [2,3,1,5], color=\"C2\")\n",
        "\n",
        "\n",
        "# STACKED BAR : See 1 Categorial value based on several X num values\n",
        "ax[2,1].bar([\"Car\", \"Trucks\", \"Motorbikes\", \"Bikes\"], [2,3,1,5], color=\"C2\")\n",
        "ax[2,1].bar([\"Car\", \"Trucks\", \"Motorbikes\", \"Bikes\"], [6,7,8,9], bottom = [2,3,1,5])\n",
        "ax[2,1].bar([\"Car\", \"Trucks\", \"Motorbikes\", \"Bikes\"], [6,7,8,9], bottom = [8,10,9,14])\n",
        "\n",
        "ax[2,2].bar([\"Car\", \"Trucks\", \"Motorbikes\", \"Bikes\"], [2,3,1,5], color=\"C2\")\n",
        "ax[2,2].bar([\"Car\", \"Trucks\", \"Motorbikes\", \"Bikes\"], [6,7,8,9], color=\"C7\")\n",
        "ax[2,2].set_title(\"Car reparis\", fontsize = 15)\n",
        "\n",
        "# BOXPLOT\n",
        "ax[3,0].boxplot(data1, showmeans=True, meanline=True)\n",
        "\n",
        "\n",
        "# STACKED BAR INTELLIGENT\n",
        "names = [\"Car\", \"Motorbikes\", \"Scooter\"]\n",
        "values = [1,10,100]\n",
        "values2 = [7,3,10]\n",
        "\n",
        "# SEVERAL CHARTS SAME SUBPLOTS\n",
        "t = np.arange(0,2,0.01)\n",
        "s = np.sin(2*np.pi*t) #equation de la fonction sin\n",
        "u = 1 + np.log(2*t) #equation de la fonction log\n",
        "\n",
        "ax[3, 1].plot(t,s, linestyle='--')\n",
        "ax[3, 1].plot(t,u)\n",
        "plt.grid(True)\n",
        "plt.show()"
      ],
      "execution_count": null,
      "outputs": [
        {
          "output_type": "display_data",
          "data": {
            "image/png": "[encoded data removed]",
            "text/plain": [
              "<Figure size 1080x720 with 12 Axes>"
            ]
          },
          "metadata": {
            "tags": [],
            "needs_background": "light"
          }
        }
      ]
    },
    {
      "cell_type": "code",
      "metadata": {
        "id": "g_EfmQARVFD2",
        "colab_type": "code",
        "colab": {
          "base_uri": "https://localhost:8080/",
          "height": 514
        },
        "outputId": "43afd06c-d672-4a3a-e764-8a2584616f18"
      },
      "source": [
        "#STACKED BAR => further details\n",
        "\n",
        "plt.figure()\n",
        "fig.set_size_inches(5,5)\n",
        "\n",
        "names = [\"Cars\", \"Motorbikes\", \"Bikes\"]\n",
        "values = [1,10,100]\n",
        "values2 = [7,3,10]\n",
        "\n",
        "plt.bar(names, values)\n",
        "plt.bar(names, values2, bottom=values)\n",
        "plt.title(\"This is a Title\")\n",
        "plt.legend([\"France\", \"OV\"], loc='best') # loc='best' to put legend best location \n",
        "plt.xlabel(\"X title\")\n",
        "plt.ylabel(\"Y title\")\n",
        "plt.text(names[0],2, values[0]) # set the size value of the text within each bar\n",
        "plt.text(names[0],10, values2[0])\n",
        "plt.text(names[1],20, values[1]+values2[1])\n",
        "plt.text(names[2],100, values[2]+values2[2])"
      ],
      "execution_count": null,
      "outputs": [
        {
          "output_type": "execute_result",
          "data": {
            "text/plain": [
              "Text(Bikes, 100, '110')"
            ]
          },
          "metadata": {
            "tags": []
          },
          "execution_count": 185
        },
        {
          "output_type": "display_data",
          "data": {
            "image/png": "[encoded data removed]",
            "text/plain": [
              "<Figure size 640x480 with 1 Axes>"
            ]
          },
          "metadata": {
            "tags": []
          }
        }
      ]
    },
    {
      "cell_type": "markdown",
      "metadata": {
        "id": "z27lVya1V9wM",
        "colab_type": "text"
      },
      "source": [
        "III. SPECIFIC UTLIZATION"
      ]
    },
    {
      "cell_type": "code",
      "metadata": {
        "id": "tcJsT_jNEvv2",
        "colab_type": "code",
        "colab": {}
      },
      "source": [
        "# Visualize target value for each features\n",
        "f, ax = plt.subplots(8,1,figsize = (20,30)) #8 because 8 features and 1 because we want to see only 1 chart at a time\n",
        "for i,a in zip(X_train.columns,ax):\n",
        "  sns.pointplot(x=i, y=\"Outcome\", data=dataset, ax = a, join=False, ci=None) # Outcome is the column name of your target value"
      ],
      "execution_count": null,
      "outputs": []
    },
    {
      "cell_type": "markdown",
      "metadata": {
        "id": "VZsDVcP0V5Aj",
        "colab_type": "text"
      },
      "source": [
        "IV. EXPORT"
      ]
    },
    {
      "cell_type": "code",
      "metadata": {
        "id": "adpeL1bNNrTc",
        "colab_type": "code",
        "colab": {}
      },
      "source": [
        "# EXPORT\n",
        "fig.savefig('my_figure.png') # save file in working directory to png format\n",
        "# fileformat : 'jpg' / 'jpeg' / 'pdf' / 'tiff'"
      ],
      "execution_count": null,
      "outputs": []
    },
    {
      "cell_type": "markdown",
      "metadata": {
        "id": "W8U6nBQXWrCK",
        "colab_type": "text"
      },
      "source": [
        "> Color Type\n",
        "\n",
        "See : https://matplotlib.org/3.1.0/tutorials/colors/colormaps.html for color schemes"
      ]
    },
    {
      "cell_type": "code",
      "metadata": {
        "id": "E-LW0Hm6Wzrb",
        "colab_type": "code",
        "colab": {}
      },
      "source": [
        "from matplotlib import cm\n",
        "\n",
        "# 1 color\n",
        "cmap=\"gray\" # basic gray\n",
        "cmap=\"gray_r\" # return opposite / reverse of \"gray\"\n",
        "\n",
        "# 1 color (from white to color)\n",
        "\n",
        "cmap=\"Greys\" # White => Grey => Black\n",
        "cmap=\"Blues\" # White => Blue \n",
        "\n",
        "# 2 colors : color_1 => white => color_2\n",
        "cmap=\"PRGn\" # Purple => White => Green\n",
        "cmap=\"PiYG\" # Pink => White => Green\n",
        "cmap=\"bwr\" # Blue => White => Red\n",
        "\n",
        "# 3 colors : color_1 => color_2 => color_3\n",
        "cmap=\"RdYlBu\" # Red => Yellow => Blue\n",
        "cmap=\"YlOrRd\" # Yellow => Orange => Red\n",
        "\n",
        "# \"Funny\" ones\n",
        "cmap=\"spring\" #   Pink => Orange => Yellow\n"
      ],
      "execution_count": null,
      "outputs": []
    },
    {
      "cell_type": "markdown",
      "metadata": {
        "id": "iLgFpBb8rTC-",
        "colab_type": "text"
      },
      "source": [
        "## C. IMAGES"
      ]
    },
    {
      "cell_type": "markdown",
      "metadata": {
        "id": "Ej8uUDvKr_Se",
        "colab_type": "text"
      },
      "source": [
        "> using sklearn dataset"
      ]
    },
    {
      "cell_type": "code",
      "metadata": {
        "id": "Leh_xxp0rWGI",
        "colab_type": "code",
        "colab": {}
      },
      "source": [
        "# import images from sklearn\n",
        "from sklearn.datasets import fetch_lfw_people\n",
        "faces = fetch_lfw_people(min_faces_per_person=60) # min_faces_per_person => to filter anyone with fewer than 60 images"
      ],
      "execution_count": null,
      "outputs": []
    },
    {
      "cell_type": "code",
      "metadata": {
        "id": "OtuhRUQSrnCd",
        "colab_type": "code",
        "colab": {}
      },
      "source": [
        "# Create Dataframe\n",
        "dataset = pd.DataFrame(data=faces.data)\n",
        "# Dataset will get : \n",
        "# each row = 1 image\n",
        "# each column = pixel (index 0 = first pixel top left, 1 = 2nd pixel top left etc.)\n",
        "# each value = pixel intensity (in this case 0 to 255 => because grey image)"
      ],
      "execution_count": null,
      "outputs": []
    },
    {
      "cell_type": "code",
      "metadata": {
        "id": "MPBypVlIsM1d",
        "colab_type": "code",
        "colab": {}
      },
      "source": [
        "# Display image\n",
        "plt.imshow(faces.images[0])"
      ],
      "execution_count": null,
      "outputs": []
    },
    {
      "cell_type": "code",
      "metadata": {
        "id": "lGDw0cj7sRCQ",
        "colab_type": "code",
        "colab": {}
      },
      "source": [
        "# Display image with label name below\n",
        "i = 0\n",
        "plt.imshow(faces.images[i])\n",
        "plt.xlabel(faces.target_names[faces.target[i]])"
      ],
      "execution_count": null,
      "outputs": []
    },
    {
      "cell_type": "code",
      "metadata": {
        "id": "A-Z9RsmFsb0C",
        "colab_type": "code",
        "colab": {}
      },
      "source": [
        "# To show 15 first images\n",
        "fig, ax = plt.subplots(3, 5, figsize=(10, 10))\n",
        "for i, axi in enumerate(ax.flat):\n",
        "  axi.imshow(faces.images[i], cmap='bone')\n",
        "  axi.set(xticks=[], yticks=[], xlabel=faces.target_names[faces.target[i]])\n",
        "\n",
        "# To show 15 images from dataframe\n",
        "fig, ax = plt.subplots(3, 5, figsize=(10, 10))\n",
        "for i, axi in enumerate(ax.flat):\n",
        "  axi.imshow(ds[i].reshape[28, 28], cmap='bone')"
      ],
      "execution_count": null,
      "outputs": []
    },
    {
      "cell_type": "markdown",
      "metadata": {
        "id": "eIampn5Mdpic",
        "colab_type": "text"
      },
      "source": [
        "## D. ALTAIR - Interactive "
      ]
    },
    {
      "cell_type": "code",
      "metadata": {
        "id": "kL0lSiYJdtmr",
        "colab_type": "code",
        "colab": {
          "base_uri": "https://localhost:8080/",
          "height": 368
        },
        "outputId": "5f063aa1-1d47-41c2-d37c-5bd24ffc8900"
      },
      "source": [
        "# PLEASE NOTE Rows limitation (5 000 max)!\n",
        "import altair as alt\n",
        "from vega_datasets import data\n",
        "cars = data.cars()\n",
        "\n",
        "alt.Chart(cars).mark_point().encode(\n",
        "    x='Horsepower',\n",
        "    y='Miles_per_Gallon',\n",
        "    color='Origin',\n",
        ").interactive()"
      ],
      "execution_count": null,
      "outputs": [
        {
          "output_type": "execute_result",
          "data": {
            "text/plain": [
              "alt.Chart(...)"
            ],
            "text/html": [
              "\n",
              "<div id=\"altair-viz-2350f52a5a86446eb15fb4fc91319d7c\"></div>\n",
              "<script type=\"text/javascript\">\n",
              "  (function(spec, embedOpt){\n",
              "    let outputDiv = document.currentScript.previousElementSibling;\n",
              "    if (outputDiv.id !== \"altair-viz-2350f52a5a86446eb15fb4fc91319d7c\") {\n",
              "      outputDiv = document.getElementById(\"altair-viz-2350f52a5a86446eb15fb4fc91319d7c\");\n",
              "    }\n",
              "    const paths = {\n",
              "      \"vega\": \"https://cdn.jsdelivr.net/npm//vega@5?noext\",\n",
              "      \"vega-lib\": \"https://cdn.jsdelivr.net/npm//vega-lib?noext\",\n",
              "      \"vega-lite\": \"https://cdn.jsdelivr.net/npm//vega-lite@4.8.1?noext\",\n",
              "      \"vega-embed\": \"https://cdn.jsdelivr.net/npm//vega-embed@6?noext\",\n",
              "    };\n",
              "\n",
              "    function loadScript(lib) {\n",
              "      return new Promise(function(resolve, reject) {\n",
              "        var s = document.createElement('script');\n",
              "        s.src = paths[lib];\n",
              "        s.async = true;\n",
              "        s.onload = () => resolve(paths[lib]);\n",
              "        s.onerror = () => reject(`Error loading script: ${paths[lib]}`);\n",
              "        document.getElementsByTagName(\"head\")[0].appendChild(s);\n",
              "      });\n",
              "    }\n",
              "\n",
              "    function showError(err) {\n",
              "      outputDiv.innerHTML = `<div class=\"error\" style=\"color:red;\">${err}</div>`;\n",
              "      throw err;\n",
              "    }\n",
              "\n",
              "    function displayChart(vegaEmbed) {\n",
              "      vegaEmbed(outputDiv, spec, embedOpt)\n",
              "        .catch(err => showError(`Javascript Error: ${err.message}<br>This usually means there's a typo in your chart specification. See the javascript console for the full traceback.`));\n",
              "    }\n",
              "\n",
              "    if(typeof define === \"function\" && define.amd) {\n",
              "      requirejs.config({paths});\n",
              "      require([\"vega-embed\"], displayChart, err => showError(`Error loading script: ${err.message}`));\n",
              "    } else if (typeof vegaEmbed === \"function\") {\n",
              "      displayChart(vegaEmbed);\n",
              "    } else {\n",
              "      loadScript(\"vega\")\n",
              "        .then(() => loadScript(\"vega-lite\"))\n",
              "        .then(() => loadScript(\"vega-embed\"))\n",
              "        .catch(showError)\n",
              "        .then(() => displayChart(vegaEmbed));\n",
              "    }\n",
              "  })({\"config\": {\"view\": {\"continuousWidth\": 400, \"continuousHeight\": 300}}, \"data\": {\"name\": \"data-f02450ab61490a1363517a0190416235\"}, \"mark\": \"point\", \"encoding\": {\"color\": {\"type\": \"nominal\", \"field\": \"Origin\"}, \"x\": {\"type\": \"quantitative\", \"field\": \"Horsepower\"}, \"y\": {\"type\": \"quantitative\", \"field\": \"Miles_per_Gallon\"}}, \"selection\": {\"selector001\": {\"type\": \"interval\", \"bind\": \"scales\", \"encodings\": [\"x\", \"y\"]}}, \"$schema\": \"https://vega.github.io/schema/vega-lite/v4.8.1.json\", \"datasets\": {\"data-f02450ab61490a1363517a0190416235\": [{\"Name\": \"chevrolet chevelle malibu\", \"Miles_per_Gallon\": 18.0, \"Cylinders\": 8, \"Displacement\": 307.0, \"Horsepower\": 130.0, \"Weight_in_lbs\": 3504, \"Acceleration\": 12.0, \"Year\": \"1970-01-01T00:00:00\", \"Origin\": \"USA\"}, {\"Name\": \"buick skylark 320\", \"Miles_per_Gallon\": 15.0, \"Cylinders\": 8, \"Displacement\": 350.0, \"Horsepower\": 165.0, \"Weight_in_lbs\": 3693, \"Acceleration\": 11.5, \"Year\": \"1970-01-01T00:00:00\", \"Origin\": \"USA\"}, {\"Name\": \"plymouth satellite\", \"Miles_per_Gallon\": 18.0, \"Cylinders\": 8, \"Displacement\": 318.0, \"Horsepower\": 150.0, \"Weight_in_lbs\": 3436, \"Acceleration\": 11.0, \"Year\": \"1970-01-01T00:00:00\", \"Origin\": \"USA\"}, {\"Name\": \"amc rebel sst\", \"Miles_per_Gallon\": 16.0, \"Cylinders\": 8, \"Displacement\": 304.0, \"Horsepower\": 150.0, \"Weight_in_lbs\": 3433, \"Acceleration\": 12.0, \"Year\": \"1970-01-01T00:00:00\", \"Origin\": \"USA\"}, {\"Name\": \"ford torino\", \"Miles_per_Gallon\": 17.0, \"Cylinders\": 8, \"Displacement\": 302.0, \"Horsepower\": 140.0, \"Weight_in_lbs\": 3449, \"Acceleration\": 10.5, \"Year\": \"1970-01-01T00:00:00\", \"Origin\": \"USA\"}, {\"Name\": \"ford galaxie 500\", \"Miles_per_Gallon\": 15.0, \"Cylinders\": 8, \"Displacement\": 429.0, \"Horsepower\": 198.0, \"Weight_in_lbs\": 4341, \"Acceleration\": 10.0, \"Year\": \"1970-01-01T00:00:00\", \"Origin\": \"USA\"}, {\"Name\": \"chevrolet impala\", \"Miles_per_Gallon\": 14.0, \"Cylinders\": 8, \"Displacement\": 454.0, \"Horsepower\": 220.0, \"Weight_in_lbs\": 4354, \"Acceleration\": 9.0, \"Year\": \"1970-01-01T00:00:00\", \"Origin\": \"USA\"}, {\"Name\": \"plymouth fury iii\", \"Miles_per_Gallon\": 14.0, \"Cylinders\": 8, \"Displacement\": 440.0, \"Horsepower\": 215.0, \"Weight_in_lbs\": 4312, \"Acceleration\": 8.5, \"Year\": \"1970-01-01T00:00:00\", \"Origin\": \"USA\"}, {\"Name\": \"pontiac catalina\", \"Miles_per_Gallon\": 14.0, \"Cylinders\": 8, \"Displacement\": 455.0, \"Horsepower\": 225.0, \"Weight_in_lbs\": 4425, \"Acceleration\": 10.0, \"Year\": \"1970-01-01T00:00:00\", \"Origin\": \"USA\"}, {\"Name\": \"amc ambassador dpl\", \"Miles_per_Gallon\": 15.0, \"Cylinders\": 8, \"Displacement\": 390.0, \"Horsepower\": 190.0, \"Weight_in_lbs\": 3850, \"Acceleration\": 8.5, \"Year\": \"1970-01-01T00:00:00\", \"Origin\": \"USA\"}, {\"Name\": \"citroen ds-21 pallas\", \"Miles_per_Gallon\": null, \"Cylinders\": 4, \"Displacement\": 133.0, \"Horsepower\": 115.0, \"Weight_in_lbs\": 3090, \"Acceleration\": 17.5, \"Year\": \"1970-01-01T00:00:00\", \"Origin\": \"Europe\"}, {\"Name\": \"chevrolet chevelle concours (sw)\", \"Miles_per_Gallon\": null, \"Cylinders\": 8, \"Displacement\": 350.0, \"Horsepower\": 165.0, \"Weight_in_lbs\": 4142, \"Acceleration\": 11.5, \"Year\": \"1970-01-01T00:00:00\", \"Origin\": \"USA\"}, {\"Name\": \"ford torino (sw)\", \"Miles_per_Gallon\": null, \"Cylinders\": 8, \"Displacement\": 351.0, \"Horsepower\": 153.0, \"Weight_in_lbs\": 4034, \"Acceleration\": 11.0, \"Year\": \"1970-01-01T00:00:00\", \"Origin\": \"USA\"}, {\"Name\": \"plymouth satellite (sw)\", \"Miles_per_Gallon\": null, \"Cylinders\": 8, \"Displacement\": 383.0, \"Horsepower\": 175.0, \"Weight_in_lbs\": 4166, \"Acceleration\": 10.5, \"Year\": \"1970-01-01T00:00:00\", \"Origin\": \"USA\"}, {\"Name\": \"amc rebel sst (sw)\", \"Miles_per_Gallon\": null, \"Cylinders\": 8, \"Displacement\": 360.0, \"Horsepower\": 175.0, \"Weight_in_lbs\": 3850, \"Acceleration\": 11.0, \"Year\": \"1970-01-01T00:00:00\", \"Origin\": \"USA\"}, {\"Name\": \"dodge challenger se\", \"Miles_per_Gallon\": 15.0, \"Cylinders\": 8, \"Displacement\": 383.0, \"Horsepower\": 170.0, \"Weight_in_lbs\": 3563, \"Acceleration\": 10.0, \"Year\": \"1970-01-01T00:00:00\", \"Origin\": \"USA\"}, {\"Name\": \"plymouth 'cuda 340\", \"Miles_per_Gallon\": 14.0, \"Cylinders\": 8, \"Displacement\": 340.0, \"Horsepower\": 160.0, \"Weight_in_lbs\": 3609, \"Acceleration\": 8.0, \"Year\": \"1970-01-01T00:00:00\", \"Origin\": \"USA\"}, {\"Name\": \"ford mustang boss 302\", \"Miles_per_Gallon\": null, \"Cylinders\": 8, \"Displacement\": 302.0, \"Horsepower\": 140.0, \"Weight_in_lbs\": 3353, \"Acceleration\": 8.0, \"Year\": \"1970-01-01T00:00:00\", \"Origin\": \"USA\"}, {\"Name\": \"chevrolet monte carlo\", \"Miles_per_Gallon\": 15.0, \"Cylinders\": 8, \"Displacement\": 400.0, \"Horsepower\": 150.0, \"Weight_in_lbs\": 3761, \"Acceleration\": 9.5, \"Year\": \"1970-01-01T00:00:00\", \"Origin\": \"USA\"}, {\"Name\": \"buick estate wagon (sw)\", \"Miles_per_Gallon\": 14.0, \"Cylinders\": 8, \"Displacement\": 455.0, \"Horsepower\": 225.0, \"Weight_in_lbs\": 3086, \"Acceleration\": 10.0, \"Year\": \"1970-01-01T00:00:00\", \"Origin\": \"USA\"}, {\"Name\": \"toyota corona mark ii\", \"Miles_per_Gallon\": 24.0, \"Cylinders\": 4, \"Displacement\": 113.0, \"Horsepower\": 95.0, \"Weight_in_lbs\": 2372, \"Acceleration\": 15.0, \"Year\": \"1970-01-01T00:00:00\", \"Origin\": \"Japan\"}, {\"Name\": \"plymouth duster\", \"Miles_per_Gallon\": 22.0, \"Cylinders\": 6, \"Displacement\": 198.0, \"Horsepower\": 95.0, \"Weight_in_lbs\": 2833, \"Acceleration\": 15.5, \"Year\": \"1970-01-01T00:00:00\", \"Origin\": \"USA\"}, {\"Name\": \"amc hornet\", \"Miles_per_Gallon\": 18.0, \"Cylinders\": 6, \"Displacement\": 199.0, \"Horsepower\": 97.0, \"Weight_in_lbs\": 2774, \"Acceleration\": 15.5, \"Year\": \"1970-01-01T00:00:00\", \"Origin\": \"USA\"}, {\"Name\": \"ford maverick\", \"Miles_per_Gallon\": 21.0, \"Cylinders\": 6, \"Displacement\": 200.0, \"Horsepower\": 85.0, \"Weight_in_lbs\": 2587, \"Acceleration\": 16.0, \"Year\": \"1970-01-01T00:00:00\", \"Origin\": \"USA\"}, {\"Name\": \"datsun pl510\", \"Miles_per_Gallon\": 27.0, \"Cylinders\": 4, \"Displacement\": 97.0, \"Horsepower\": 88.0, \"Weight_in_lbs\": 2130, \"Acceleration\": 14.5, \"Year\": \"1970-01-01T00:00:00\", \"Origin\": \"Japan\"}, {\"Name\": \"volkswagen 1131 deluxe sedan\", \"Miles_per_Gallon\": 26.0, \"Cylinders\": 4, \"Displacement\": 97.0, \"Horsepower\": 46.0, \"Weight_in_lbs\": 1835, \"Acceleration\": 20.5, \"Year\": \"1970-01-01T00:00:00\", \"Origin\": \"Europe\"}, {\"Name\": \"peugeot 504\", \"Miles_per_Gallon\": 25.0, \"Cylinders\": 4, \"Displacement\": 110.0, \"Horsepower\": 87.0, \"Weight_in_lbs\": 2672, \"Acceleration\": 17.5, \"Year\": \"1970-01-01T00:00:00\", \"Origin\": \"Europe\"}, {\"Name\": \"audi 100 ls\", \"Miles_per_Gallon\": 24.0, \"Cylinders\": 4, \"Displacement\": 107.0, \"Horsepower\": 90.0, \"Weight_in_lbs\": 2430, \"Acceleration\": 14.5, \"Year\": \"1970-01-01T00:00:00\", \"Origin\": \"Europe\"}, {\"Name\": \"saab 99e\", \"Miles_per_Gallon\": 25.0, \"Cylinders\": 4, \"Displacement\": 104.0, \"Horsepower\": 95.0, \"Weight_in_lbs\": 2375, \"Acceleration\": 17.5, \"Year\": \"1970-01-01T00:00:00\", \"Origin\": \"Europe\"}, {\"Name\": \"bmw 2002\", \"Miles_per_Gallon\": 26.0, \"Cylinders\": 4, \"Displacement\": 121.0, \"Horsepower\": 113.0, \"Weight_in_lbs\": 2234, \"Acceleration\": 12.5, \"Year\": \"1970-01-01T00:00:00\", \"Origin\": \"Europe\"}, {\"Name\": \"amc gremlin\", \"Miles_per_Gallon\": 21.0, \"Cylinders\": 6, \"Displacement\": 199.0, \"Horsepower\": 90.0, \"Weight_in_lbs\": 2648, \"Acceleration\": 15.0, \"Year\": \"1970-01-01T00:00:00\", \"Origin\": \"USA\"}, {\"Name\": \"ford f250\", \"Miles_per_Gallon\": 10.0, \"Cylinders\": 8, \"Displacement\": 360.0, \"Horsepower\": 215.0, \"Weight_in_lbs\": 4615, \"Acceleration\": 14.0, \"Year\": \"1970-01-01T00:00:00\", \"Origin\": \"USA\"}, {\"Name\": \"chevy c20\", \"Miles_per_Gallon\": 10.0, \"Cylinders\": 8, \"Displacement\": 307.0, \"Horsepower\": 200.0, \"Weight_in_lbs\": 4376, \"Acceleration\": 15.0, \"Year\": \"1970-01-01T00:00:00\", \"Origin\": \"USA\"}, {\"Name\": \"dodge d200\", \"Miles_per_Gallon\": 11.0, \"Cylinders\": 8, \"Displacement\": 318.0, \"Horsepower\": 210.0, \"Weight_in_lbs\": 4382, \"Acceleration\": 13.5, \"Year\": \"1970-01-01T00:00:00\", \"Origin\": \"USA\"}, {\"Name\": \"hi 1200d\", \"Miles_per_Gallon\": 9.0, \"Cylinders\": 8, \"Displacement\": 304.0, \"Horsepower\": 193.0, \"Weight_in_lbs\": 4732, \"Acceleration\": 18.5, \"Year\": \"1970-01-01T00:00:00\", \"Origin\": \"USA\"}, {\"Name\": \"datsun pl510\", \"Miles_per_Gallon\": 27.0, \"Cylinders\": 4, \"Displacement\": 97.0, \"Horsepower\": 88.0, \"Weight_in_lbs\": 2130, \"Acceleration\": 14.5, \"Year\": \"1971-01-01T00:00:00\", \"Origin\": \"Japan\"}, {\"Name\": \"chevrolet vega 2300\", \"Miles_per_Gallon\": 28.0, \"Cylinders\": 4, \"Displacement\": 140.0, \"Horsepower\": 90.0, \"Weight_in_lbs\": 2264, \"Acceleration\": 15.5, \"Year\": \"1971-01-01T00:00:00\", \"Origin\": \"USA\"}, {\"Name\": \"toyota corona\", \"Miles_per_Gallon\": 25.0, \"Cylinders\": 4, \"Displacement\": 113.0, \"Horsepower\": 95.0, \"Weight_in_lbs\": 2228, \"Acceleration\": 14.0, \"Year\": \"1971-01-01T00:00:00\", \"Origin\": \"Japan\"}, {\"Name\": \"ford pinto\", \"Miles_per_Gallon\": 25.0, \"Cylinders\": 4, \"Displacement\": 98.0, \"Horsepower\": null, \"Weight_in_lbs\": 2046, \"Acceleration\": 19.0, \"Year\": \"1971-01-01T00:00:00\", \"Origin\": \"USA\"}, {\"Name\": \"volkswagen super beetle 117\", \"Miles_per_Gallon\": null, \"Cylinders\": 4, \"Displacement\": 97.0, \"Horsepower\": 48.0, \"Weight_in_lbs\": 1978, \"Acceleration\": 20.0, \"Year\": \"1971-01-01T00:00:00\", \"Origin\": \"Europe\"}, {\"Name\": \"amc gremlin\", \"Miles_per_Gallon\": 19.0, \"Cylinders\": 6, \"Displacement\": 232.0, \"Horsepower\": 100.0, \"Weight_in_lbs\": 2634, \"Acceleration\": 13.0, \"Year\": \"1971-01-01T00:00:00\", \"Origin\": \"USA\"}, {\"Name\": \"plymouth satellite custom\", \"Miles_per_Gallon\": 16.0, \"Cylinders\": 6, \"Displacement\": 225.0, \"Horsepower\": 105.0, \"Weight_in_lbs\": 3439, \"Acceleration\": 15.5, \"Year\": \"1971-01-01T00:00:00\", \"Origin\": \"USA\"}, {\"Name\": \"chevrolet chevelle malibu\", \"Miles_per_Gallon\": 17.0, \"Cylinders\": 6, \"Displacement\": 250.0, \"Horsepower\": 100.0, \"Weight_in_lbs\": 3329, \"Acceleration\": 15.5, \"Year\": \"1971-01-01T00:00:00\", \"Origin\": \"USA\"}, {\"Name\": \"ford torino 500\", \"Miles_per_Gallon\": 19.0, \"Cylinders\": 6, \"Displacement\": 250.0, \"Horsepower\": 88.0, \"Weight_in_lbs\": 3302, \"Acceleration\": 15.5, \"Year\": \"1971-01-01T00:00:00\", \"Origin\": \"USA\"}, {\"Name\": \"amc matador\", \"Miles_per_Gallon\": 18.0, \"Cylinders\": 6, \"Displacement\": 232.0, \"Horsepower\": 100.0, \"Weight_in_lbs\": 3288, \"Acceleration\": 15.5, \"Year\": \"1971-01-01T00:00:00\", \"Origin\": \"USA\"}, {\"Name\": \"chevrolet impala\", \"Miles_per_Gallon\": 14.0, \"Cylinders\": 8, \"Displacement\": 350.0, \"Horsepower\": 165.0, \"Weight_in_lbs\": 4209, \"Acceleration\": 12.0, \"Year\": \"1971-01-01T00:00:00\", \"Origin\": \"USA\"}, {\"Name\": \"pontiac catalina brougham\", \"Miles_per_Gallon\": 14.0, \"Cylinders\": 8, \"Displacement\": 400.0, \"Horsepower\": 175.0, \"Weight_in_lbs\": 4464, \"Acceleration\": 11.5, \"Year\": \"1971-01-01T00:00:00\", \"Origin\": \"USA\"}, {\"Name\": \"ford galaxie 500\", \"Miles_per_Gallon\": 14.0, \"Cylinders\": 8, \"Displacement\": 351.0, \"Horsepower\": 153.0, \"Weight_in_lbs\": 4154, \"Acceleration\": 13.5, \"Year\": \"1971-01-01T00:00:00\", \"Origin\": \"USA\"}, {\"Name\": \"plymouth fury iii\", \"Miles_per_Gallon\": 14.0, \"Cylinders\": 8, \"Displacement\": 318.0, \"Horsepower\": 150.0, \"Weight_in_lbs\": 4096, \"Acceleration\": 13.0, \"Year\": \"1971-01-01T00:00:00\", \"Origin\": \"USA\"}, {\"Name\": \"dodge monaco (sw)\", \"Miles_per_Gallon\": 12.0, \"Cylinders\": 8, \"Displacement\": 383.0, \"Horsepower\": 180.0, \"Weight_in_lbs\": 4955, \"Acceleration\": 11.5, \"Year\": \"1971-01-01T00:00:00\", \"Origin\": \"USA\"}, {\"Name\": \"ford country squire (sw)\", \"Miles_per_Gallon\": 13.0, \"Cylinders\": 8, \"Displacement\": 400.0, \"Horsepower\": 170.0, \"Weight_in_lbs\": 4746, \"Acceleration\": 12.0, \"Year\": \"1971-01-01T00:00:00\", \"Origin\": \"USA\"}, {\"Name\": \"pontiac safari (sw)\", \"Miles_per_Gallon\": 13.0, \"Cylinders\": 8, \"Displacement\": 400.0, \"Horsepower\": 175.0, \"Weight_in_lbs\": 5140, \"Acceleration\": 12.0, \"Year\": \"1971-01-01T00:00:00\", \"Origin\": \"USA\"}, {\"Name\": \"amc hornet sportabout (sw)\", \"Miles_per_Gallon\": 18.0, \"Cylinders\": 6, \"Displacement\": 258.0, \"Horsepower\": 110.0, \"Weight_in_lbs\": 2962, \"Acceleration\": 13.5, \"Year\": \"1971-01-01T00:00:00\", \"Origin\": \"USA\"}, {\"Name\": \"chevrolet vega (sw)\", \"Miles_per_Gallon\": 22.0, \"Cylinders\": 4, \"Displacement\": 140.0, \"Horsepower\": 72.0, \"Weight_in_lbs\": 2408, \"Acceleration\": 19.0, \"Year\": \"1971-01-01T00:00:00\", \"Origin\": \"USA\"}, {\"Name\": \"pontiac firebird\", \"Miles_per_Gallon\": 19.0, \"Cylinders\": 6, \"Displacement\": 250.0, \"Horsepower\": 100.0, \"Weight_in_lbs\": 3282, \"Acceleration\": 15.0, \"Year\": \"1971-01-01T00:00:00\", \"Origin\": \"USA\"}, {\"Name\": \"ford mustang\", \"Miles_per_Gallon\": 18.0, \"Cylinders\": 6, \"Displacement\": 250.0, \"Horsepower\": 88.0, \"Weight_in_lbs\": 3139, \"Acceleration\": 14.5, \"Year\": \"1971-01-01T00:00:00\", \"Origin\": \"USA\"}, {\"Name\": \"mercury capri 2000\", \"Miles_per_Gallon\": 23.0, \"Cylinders\": 4, \"Displacement\": 122.0, \"Horsepower\": 86.0, \"Weight_in_lbs\": 2220, \"Acceleration\": 14.0, \"Year\": \"1971-01-01T00:00:00\", \"Origin\": \"USA\"}, {\"Name\": \"opel 1900\", \"Miles_per_Gallon\": 28.0, \"Cylinders\": 4, \"Displacement\": 116.0, \"Horsepower\": 90.0, \"Weight_in_lbs\": 2123, \"Acceleration\": 14.0, \"Year\": \"1971-01-01T00:00:00\", \"Origin\": \"Europe\"}, {\"Name\": \"peugeot 304\", \"Miles_per_Gallon\": 30.0, \"Cylinders\": 4, \"Displacement\": 79.0, \"Horsepower\": 70.0, \"Weight_in_lbs\": 2074, \"Acceleration\": 19.5, \"Year\": \"1971-01-01T00:00:00\", \"Origin\": \"Europe\"}, {\"Name\": \"fiat 124b\", \"Miles_per_Gallon\": 30.0, \"Cylinders\": 4, \"Displacement\": 88.0, \"Horsepower\": 76.0, \"Weight_in_lbs\": 2065, \"Acceleration\": 14.5, \"Year\": \"1971-01-01T00:00:00\", \"Origin\": \"Europe\"}, {\"Name\": \"toyota corolla 1200\", \"Miles_per_Gallon\": 31.0, \"Cylinders\": 4, \"Displacement\": 71.0, \"Horsepower\": 65.0, \"Weight_in_lbs\": 1773, \"Acceleration\": 19.0, \"Year\": \"1971-01-01T00:00:00\", \"Origin\": \"Japan\"}, {\"Name\": \"datsun 1200\", \"Miles_per_Gallon\": 35.0, \"Cylinders\": 4, \"Displacement\": 72.0, \"Horsepower\": 69.0, \"Weight_in_lbs\": 1613, \"Acceleration\": 18.0, \"Year\": \"1971-01-01T00:00:00\", \"Origin\": \"Japan\"}, {\"Name\": \"volkswagen model 111\", \"Miles_per_Gallon\": 27.0, \"Cylinders\": 4, \"Displacement\": 97.0, \"Horsepower\": 60.0, \"Weight_in_lbs\": 1834, \"Acceleration\": 19.0, \"Year\": \"1971-01-01T00:00:00\", \"Origin\": \"Europe\"}, {\"Name\": \"plymouth cricket\", \"Miles_per_Gallon\": 26.0, \"Cylinders\": 4, \"Displacement\": 91.0, \"Horsepower\": 70.0, \"Weight_in_lbs\": 1955, \"Acceleration\": 20.5, \"Year\": \"1971-01-01T00:00:00\", \"Origin\": \"USA\"}, {\"Name\": \"toyota corona hardtop\", \"Miles_per_Gallon\": 24.0, \"Cylinders\": 4, \"Displacement\": 113.0, \"Horsepower\": 95.0, \"Weight_in_lbs\": 2278, \"Acceleration\": 15.5, \"Year\": \"1972-01-01T00:00:00\", \"Origin\": \"Japan\"}, {\"Name\": \"dodge colt hardtop\", \"Miles_per_Gallon\": 25.0, \"Cylinders\": 4, \"Displacement\": 97.5, \"Horsepower\": 80.0, \"Weight_in_lbs\": 2126, \"Acceleration\": 17.0, \"Year\": \"1972-01-01T00:00:00\", \"Origin\": \"USA\"}, {\"Name\": \"volkswagen type 3\", \"Miles_per_Gallon\": 23.0, \"Cylinders\": 4, \"Displacement\": 97.0, \"Horsepower\": 54.0, \"Weight_in_lbs\": 2254, \"Acceleration\": 23.5, \"Year\": \"1972-01-01T00:00:00\", \"Origin\": \"Europe\"}, {\"Name\": \"chevrolet vega\", \"Miles_per_Gallon\": 20.0, \"Cylinders\": 4, \"Displacement\": 140.0, \"Horsepower\": 90.0, \"Weight_in_lbs\": 2408, \"Acceleration\": 19.5, \"Year\": \"1972-01-01T00:00:00\", \"Origin\": \"USA\"}, {\"Name\": \"ford pinto runabout\", \"Miles_per_Gallon\": 21.0, \"Cylinders\": 4, \"Displacement\": 122.0, \"Horsepower\": 86.0, \"Weight_in_lbs\": 2226, \"Acceleration\": 16.5, \"Year\": \"1972-01-01T00:00:00\", \"Origin\": \"USA\"}, {\"Name\": \"chevrolet impala\", \"Miles_per_Gallon\": 13.0, \"Cylinders\": 8, \"Displacement\": 350.0, \"Horsepower\": 165.0, \"Weight_in_lbs\": 4274, \"Acceleration\": 12.0, \"Year\": \"1972-01-01T00:00:00\", \"Origin\": \"USA\"}, {\"Name\": \"pontiac catalina\", \"Miles_per_Gallon\": 14.0, \"Cylinders\": 8, \"Displacement\": 400.0, \"Horsepower\": 175.0, \"Weight_in_lbs\": 4385, \"Acceleration\": 12.0, \"Year\": \"1972-01-01T00:00:00\", \"Origin\": \"USA\"}, {\"Name\": \"plymouth fury iii\", \"Miles_per_Gallon\": 15.0, \"Cylinders\": 8, \"Displacement\": 318.0, \"Horsepower\": 150.0, \"Weight_in_lbs\": 4135, \"Acceleration\": 13.5, \"Year\": \"1972-01-01T00:00:00\", \"Origin\": \"USA\"}, {\"Name\": \"ford galaxie 500\", \"Miles_per_Gallon\": 14.0, \"Cylinders\": 8, \"Displacement\": 351.0, \"Horsepower\": 153.0, \"Weight_in_lbs\": 4129, \"Acceleration\": 13.0, \"Year\": \"1972-01-01T00:00:00\", \"Origin\": \"USA\"}, {\"Name\": \"amc ambassador sst\", \"Miles_per_Gallon\": 17.0, \"Cylinders\": 8, \"Displacement\": 304.0, \"Horsepower\": 150.0, \"Weight_in_lbs\": 3672, \"Acceleration\": 11.5, \"Year\": \"1972-01-01T00:00:00\", \"Origin\": \"USA\"}, {\"Name\": \"mercury marquis\", \"Miles_per_Gallon\": 11.0, \"Cylinders\": 8, \"Displacement\": 429.0, \"Horsepower\": 208.0, \"Weight_in_lbs\": 4633, \"Acceleration\": 11.0, \"Year\": \"1972-01-01T00:00:00\", \"Origin\": \"USA\"}, {\"Name\": \"buick lesabre custom\", \"Miles_per_Gallon\": 13.0, \"Cylinders\": 8, \"Displacement\": 350.0, \"Horsepower\": 155.0, \"Weight_in_lbs\": 4502, \"Acceleration\": 13.5, \"Year\": \"1972-01-01T00:00:00\", \"Origin\": \"USA\"}, {\"Name\": \"oldsmobile delta 88 royale\", \"Miles_per_Gallon\": 12.0, \"Cylinders\": 8, \"Displacement\": 350.0, \"Horsepower\": 160.0, \"Weight_in_lbs\": 4456, \"Acceleration\": 13.5, \"Year\": \"1972-01-01T00:00:00\", \"Origin\": \"USA\"}, {\"Name\": \"chrysler newport royal\", \"Miles_per_Gallon\": 13.0, \"Cylinders\": 8, \"Displacement\": 400.0, \"Horsepower\": 190.0, \"Weight_in_lbs\": 4422, \"Acceleration\": 12.5, \"Year\": \"1972-01-01T00:00:00\", \"Origin\": \"USA\"}, {\"Name\": \"mazda rx2 coupe\", \"Miles_per_Gallon\": 19.0, \"Cylinders\": 3, \"Displacement\": 70.0, \"Horsepower\": 97.0, \"Weight_in_lbs\": 2330, \"Acceleration\": 13.5, \"Year\": \"1972-01-01T00:00:00\", \"Origin\": \"Japan\"}, {\"Name\": \"amc matador (sw)\", \"Miles_per_Gallon\": 15.0, \"Cylinders\": 8, \"Displacement\": 304.0, \"Horsepower\": 150.0, \"Weight_in_lbs\": 3892, \"Acceleration\": 12.5, \"Year\": \"1972-01-01T00:00:00\", \"Origin\": \"USA\"}, {\"Name\": \"chevrolet chevelle concours (sw)\", \"Miles_per_Gallon\": 13.0, \"Cylinders\": 8, \"Displacement\": 307.0, \"Horsepower\": 130.0, \"Weight_in_lbs\": 4098, \"Acceleration\": 14.0, \"Year\": \"1972-01-01T00:00:00\", \"Origin\": \"USA\"}, {\"Name\": \"ford gran torino (sw)\", \"Miles_per_Gallon\": 13.0, \"Cylinders\": 8, \"Displacement\": 302.0, \"Horsepower\": 140.0, \"Weight_in_lbs\": 4294, \"Acceleration\": 16.0, \"Year\": \"1972-01-01T00:00:00\", \"Origin\": \"USA\"}, {\"Name\": \"plymouth satellite custom (sw)\", \"Miles_per_Gallon\": 14.0, \"Cylinders\": 8, \"Displacement\": 318.0, \"Horsepower\": 150.0, \"Weight_in_lbs\": 4077, \"Acceleration\": 14.0, \"Year\": \"1972-01-01T00:00:00\", \"Origin\": \"USA\"}, {\"Name\": \"volvo 145e (sw)\", \"Miles_per_Gallon\": 18.0, \"Cylinders\": 4, \"Displacement\": 121.0, \"Horsepower\": 112.0, \"Weight_in_lbs\": 2933, \"Acceleration\": 14.5, \"Year\": \"1972-01-01T00:00:00\", \"Origin\": \"Europe\"}, {\"Name\": \"volkswagen 411 (sw)\", \"Miles_per_Gallon\": 22.0, \"Cylinders\": 4, \"Displacement\": 121.0, \"Horsepower\": 76.0, \"Weight_in_lbs\": 2511, \"Acceleration\": 18.0, \"Year\": \"1972-01-01T00:00:00\", \"Origin\": \"Europe\"}, {\"Name\": \"peugeot 504 (sw)\", \"Miles_per_Gallon\": 21.0, \"Cylinders\": 4, \"Displacement\": 120.0, \"Horsepower\": 87.0, \"Weight_in_lbs\": 2979, \"Acceleration\": 19.5, \"Year\": \"1972-01-01T00:00:00\", \"Origin\": \"Europe\"}, {\"Name\": \"renault 12 (sw)\", \"Miles_per_Gallon\": 26.0, \"Cylinders\": 4, \"Displacement\": 96.0, \"Horsepower\": 69.0, \"Weight_in_lbs\": 2189, \"Acceleration\": 18.0, \"Year\": \"1972-01-01T00:00:00\", \"Origin\": \"Europe\"}, {\"Name\": \"ford pinto (sw)\", \"Miles_per_Gallon\": 22.0, \"Cylinders\": 4, \"Displacement\": 122.0, \"Horsepower\": 86.0, \"Weight_in_lbs\": 2395, \"Acceleration\": 16.0, \"Year\": \"1972-01-01T00:00:00\", \"Origin\": \"USA\"}, {\"Name\": \"datsun 510 (sw)\", \"Miles_per_Gallon\": 28.0, \"Cylinders\": 4, \"Displacement\": 97.0, \"Horsepower\": 92.0, \"Weight_in_lbs\": 2288, \"Acceleration\": 17.0, \"Year\": \"1972-01-01T00:00:00\", \"Origin\": \"Japan\"}, {\"Name\": \"toyouta corona mark ii (sw)\", \"Miles_per_Gallon\": 23.0, \"Cylinders\": 4, \"Displacement\": 120.0, \"Horsepower\": 97.0, \"Weight_in_lbs\": 2506, \"Acceleration\": 14.5, \"Year\": \"1972-01-01T00:00:00\", \"Origin\": \"Japan\"}, {\"Name\": \"dodge colt (sw)\", \"Miles_per_Gallon\": 28.0, \"Cylinders\": 4, \"Displacement\": 98.0, \"Horsepower\": 80.0, \"Weight_in_lbs\": 2164, \"Acceleration\": 15.0, \"Year\": \"1972-01-01T00:00:00\", \"Origin\": \"USA\"}, {\"Name\": \"toyota corolla 1600 (sw)\", \"Miles_per_Gallon\": 27.0, \"Cylinders\": 4, \"Displacement\": 97.0, \"Horsepower\": 88.0, \"Weight_in_lbs\": 2100, \"Acceleration\": 16.5, \"Year\": \"1972-01-01T00:00:00\", \"Origin\": \"Japan\"}, {\"Name\": \"buick century 350\", \"Miles_per_Gallon\": 13.0, \"Cylinders\": 8, \"Displacement\": 350.0, \"Horsepower\": 175.0, \"Weight_in_lbs\": 4100, \"Acceleration\": 13.0, \"Year\": \"1973-01-01T00:00:00\", \"Origin\": \"USA\"}, {\"Name\": \"amc matador\", \"Miles_per_Gallon\": 14.0, \"Cylinders\": 8, \"Displacement\": 304.0, \"Horsepower\": 150.0, \"Weight_in_lbs\": 3672, \"Acceleration\": 11.5, \"Year\": \"1973-01-01T00:00:00\", \"Origin\": \"USA\"}, {\"Name\": \"chevrolet malibu\", \"Miles_per_Gallon\": 13.0, \"Cylinders\": 8, \"Displacement\": 350.0, \"Horsepower\": 145.0, \"Weight_in_lbs\": 3988, \"Acceleration\": 13.0, \"Year\": \"1973-01-01T00:00:00\", \"Origin\": \"USA\"}, {\"Name\": \"ford gran torino\", \"Miles_per_Gallon\": 14.0, \"Cylinders\": 8, \"Displacement\": 302.0, \"Horsepower\": 137.0, \"Weight_in_lbs\": 4042, \"Acceleration\": 14.5, \"Year\": \"1973-01-01T00:00:00\", \"Origin\": \"USA\"}, {\"Name\": \"dodge coronet custom\", \"Miles_per_Gallon\": 15.0, \"Cylinders\": 8, \"Displacement\": 318.0, \"Horsepower\": 150.0, \"Weight_in_lbs\": 3777, \"Acceleration\": 12.5, \"Year\": \"1973-01-01T00:00:00\", \"Origin\": \"USA\"}, {\"Name\": \"mercury marquis brougham\", \"Miles_per_Gallon\": 12.0, \"Cylinders\": 8, \"Displacement\": 429.0, \"Horsepower\": 198.0, \"Weight_in_lbs\": 4952, \"Acceleration\": 11.5, \"Year\": \"1973-01-01T00:00:00\", \"Origin\": \"USA\"}, {\"Name\": \"chevrolet caprice classic\", \"Miles_per_Gallon\": 13.0, \"Cylinders\": 8, \"Displacement\": 400.0, \"Horsepower\": 150.0, \"Weight_in_lbs\": 4464, \"Acceleration\": 12.0, \"Year\": \"1973-01-01T00:00:00\", \"Origin\": \"USA\"}, {\"Name\": \"ford ltd\", \"Miles_per_Gallon\": 13.0, \"Cylinders\": 8, \"Displacement\": 351.0, \"Horsepower\": 158.0, \"Weight_in_lbs\": 4363, \"Acceleration\": 13.0, \"Year\": \"1973-01-01T00:00:00\", \"Origin\": \"USA\"}, {\"Name\": \"plymouth fury gran sedan\", \"Miles_per_Gallon\": 14.0, \"Cylinders\": 8, \"Displacement\": 318.0, \"Horsepower\": 150.0, \"Weight_in_lbs\": 4237, \"Acceleration\": 14.5, \"Year\": \"1973-01-01T00:00:00\", \"Origin\": \"USA\"}, {\"Name\": \"chrysler new yorker brougham\", \"Miles_per_Gallon\": 13.0, \"Cylinders\": 8, \"Displacement\": 440.0, \"Horsepower\": 215.0, \"Weight_in_lbs\": 4735, \"Acceleration\": 11.0, \"Year\": \"1973-01-01T00:00:00\", \"Origin\": \"USA\"}, {\"Name\": \"buick electra 225 custom\", \"Miles_per_Gallon\": 12.0, \"Cylinders\": 8, \"Displacement\": 455.0, \"Horsepower\": 225.0, \"Weight_in_lbs\": 4951, \"Acceleration\": 11.0, \"Year\": \"1973-01-01T00:00:00\", \"Origin\": \"USA\"}, {\"Name\": \"amc ambassador brougham\", \"Miles_per_Gallon\": 13.0, \"Cylinders\": 8, \"Displacement\": 360.0, \"Horsepower\": 175.0, \"Weight_in_lbs\": 3821, \"Acceleration\": 11.0, \"Year\": \"1973-01-01T00:00:00\", \"Origin\": \"USA\"}, {\"Name\": \"plymouth valiant\", \"Miles_per_Gallon\": 18.0, \"Cylinders\": 6, \"Displacement\": 225.0, \"Horsepower\": 105.0, \"Weight_in_lbs\": 3121, \"Acceleration\": 16.5, \"Year\": \"1973-01-01T00:00:00\", \"Origin\": \"USA\"}, {\"Name\": \"chevrolet nova custom\", \"Miles_per_Gallon\": 16.0, \"Cylinders\": 6, \"Displacement\": 250.0, \"Horsepower\": 100.0, \"Weight_in_lbs\": 3278, \"Acceleration\": 18.0, \"Year\": \"1973-01-01T00:00:00\", \"Origin\": \"USA\"}, {\"Name\": \"amc hornet\", \"Miles_per_Gallon\": 18.0, \"Cylinders\": 6, \"Displacement\": 232.0, \"Horsepower\": 100.0, \"Weight_in_lbs\": 2945, \"Acceleration\": 16.0, \"Year\": \"1973-01-01T00:00:00\", \"Origin\": \"USA\"}, {\"Name\": \"ford maverick\", \"Miles_per_Gallon\": 18.0, \"Cylinders\": 6, \"Displacement\": 250.0, \"Horsepower\": 88.0, \"Weight_in_lbs\": 3021, \"Acceleration\": 16.5, \"Year\": \"1973-01-01T00:00:00\", \"Origin\": \"USA\"}, {\"Name\": \"plymouth duster\", \"Miles_per_Gallon\": 23.0, \"Cylinders\": 6, \"Displacement\": 198.0, \"Horsepower\": 95.0, \"Weight_in_lbs\": 2904, \"Acceleration\": 16.0, \"Year\": \"1973-01-01T00:00:00\", \"Origin\": \"USA\"}, {\"Name\": \"volkswagen super beetle\", \"Miles_per_Gallon\": 26.0, \"Cylinders\": 4, \"Displacement\": 97.0, \"Horsepower\": 46.0, \"Weight_in_lbs\": 1950, \"Acceleration\": 21.0, \"Year\": \"1973-01-01T00:00:00\", \"Origin\": \"Europe\"}, {\"Name\": \"chevrolet impala\", \"Miles_per_Gallon\": 11.0, \"Cylinders\": 8, \"Displacement\": 400.0, \"Horsepower\": 150.0, \"Weight_in_lbs\": 4997, \"Acceleration\": 14.0, \"Year\": \"1973-01-01T00:00:00\", \"Origin\": \"USA\"}, {\"Name\": \"ford country\", \"Miles_per_Gallon\": 12.0, \"Cylinders\": 8, \"Displacement\": 400.0, \"Horsepower\": 167.0, \"Weight_in_lbs\": 4906, \"Acceleration\": 12.5, \"Year\": \"1973-01-01T00:00:00\", \"Origin\": \"USA\"}, {\"Name\": \"plymouth custom suburb\", \"Miles_per_Gallon\": 13.0, \"Cylinders\": 8, \"Displacement\": 360.0, \"Horsepower\": 170.0, \"Weight_in_lbs\": 4654, \"Acceleration\": 13.0, \"Year\": \"1973-01-01T00:00:00\", \"Origin\": \"USA\"}, {\"Name\": \"oldsmobile vista cruiser\", \"Miles_per_Gallon\": 12.0, \"Cylinders\": 8, \"Displacement\": 350.0, \"Horsepower\": 180.0, \"Weight_in_lbs\": 4499, \"Acceleration\": 12.5, \"Year\": \"1973-01-01T00:00:00\", \"Origin\": \"USA\"}, {\"Name\": \"amc gremlin\", \"Miles_per_Gallon\": 18.0, \"Cylinders\": 6, \"Displacement\": 232.0, \"Horsepower\": 100.0, \"Weight_in_lbs\": 2789, \"Acceleration\": 15.0, \"Year\": \"1973-01-01T00:00:00\", \"Origin\": \"USA\"}, {\"Name\": \"toyota carina\", \"Miles_per_Gallon\": 20.0, \"Cylinders\": 4, \"Displacement\": 97.0, \"Horsepower\": 88.0, \"Weight_in_lbs\": 2279, \"Acceleration\": 19.0, \"Year\": \"1973-01-01T00:00:00\", \"Origin\": \"Japan\"}, {\"Name\": \"chevrolet vega\", \"Miles_per_Gallon\": 21.0, \"Cylinders\": 4, \"Displacement\": 140.0, \"Horsepower\": 72.0, \"Weight_in_lbs\": 2401, \"Acceleration\": 19.5, \"Year\": \"1973-01-01T00:00:00\", \"Origin\": \"USA\"}, {\"Name\": \"datsun 610\", \"Miles_per_Gallon\": 22.0, \"Cylinders\": 4, \"Displacement\": 108.0, \"Horsepower\": 94.0, \"Weight_in_lbs\": 2379, \"Acceleration\": 16.5, \"Year\": \"1973-01-01T00:00:00\", \"Origin\": \"Japan\"}, {\"Name\": \"maxda rx3\", \"Miles_per_Gallon\": 18.0, \"Cylinders\": 3, \"Displacement\": 70.0, \"Horsepower\": 90.0, \"Weight_in_lbs\": 2124, \"Acceleration\": 13.5, \"Year\": \"1973-01-01T00:00:00\", \"Origin\": \"Japan\"}, {\"Name\": \"ford pinto\", \"Miles_per_Gallon\": 19.0, \"Cylinders\": 4, \"Displacement\": 122.0, \"Horsepower\": 85.0, \"Weight_in_lbs\": 2310, \"Acceleration\": 18.5, \"Year\": \"1973-01-01T00:00:00\", \"Origin\": \"USA\"}, {\"Name\": \"mercury capri v6\", \"Miles_per_Gallon\": 21.0, \"Cylinders\": 6, \"Displacement\": 155.0, \"Horsepower\": 107.0, \"Weight_in_lbs\": 2472, \"Acceleration\": 14.0, \"Year\": \"1973-01-01T00:00:00\", \"Origin\": \"USA\"}, {\"Name\": \"fiat 124 sport coupe\", \"Miles_per_Gallon\": 26.0, \"Cylinders\": 4, \"Displacement\": 98.0, \"Horsepower\": 90.0, \"Weight_in_lbs\": 2265, \"Acceleration\": 15.5, \"Year\": \"1973-01-01T00:00:00\", \"Origin\": \"Europe\"}, {\"Name\": \"chevrolet monte carlo s\", \"Miles_per_Gallon\": 15.0, \"Cylinders\": 8, \"Displacement\": 350.0, \"Horsepower\": 145.0, \"Weight_in_lbs\": 4082, \"Acceleration\": 13.0, \"Year\": \"1973-01-01T00:00:00\", \"Origin\": \"USA\"}, {\"Name\": \"pontiac grand prix\", \"Miles_per_Gallon\": 16.0, \"Cylinders\": 8, \"Displacement\": 400.0, \"Horsepower\": 230.0, \"Weight_in_lbs\": 4278, \"Acceleration\": 9.5, \"Year\": \"1973-01-01T00:00:00\", \"Origin\": \"USA\"}, {\"Name\": \"fiat 128\", \"Miles_per_Gallon\": 29.0, \"Cylinders\": 4, \"Displacement\": 68.0, \"Horsepower\": 49.0, \"Weight_in_lbs\": 1867, \"Acceleration\": 19.5, \"Year\": \"1973-01-01T00:00:00\", \"Origin\": \"Europe\"}, {\"Name\": \"opel manta\", \"Miles_per_Gallon\": 24.0, \"Cylinders\": 4, \"Displacement\": 116.0, \"Horsepower\": 75.0, \"Weight_in_lbs\": 2158, \"Acceleration\": 15.5, \"Year\": \"1973-01-01T00:00:00\", \"Origin\": \"Europe\"}, {\"Name\": \"audi 100ls\", \"Miles_per_Gallon\": 20.0, \"Cylinders\": 4, \"Displacement\": 114.0, \"Horsepower\": 91.0, \"Weight_in_lbs\": 2582, \"Acceleration\": 14.0, \"Year\": \"1973-01-01T00:00:00\", \"Origin\": \"Europe\"}, {\"Name\": \"volvo 144ea\", \"Miles_per_Gallon\": 19.0, \"Cylinders\": 4, \"Displacement\": 121.0, \"Horsepower\": 112.0, \"Weight_in_lbs\": 2868, \"Acceleration\": 15.5, \"Year\": \"1973-01-01T00:00:00\", \"Origin\": \"Europe\"}, {\"Name\": \"dodge dart custom\", \"Miles_per_Gallon\": 15.0, \"Cylinders\": 8, \"Displacement\": 318.0, \"Horsepower\": 150.0, \"Weight_in_lbs\": 3399, \"Acceleration\": 11.0, \"Year\": \"1973-01-01T00:00:00\", \"Origin\": \"USA\"}, {\"Name\": \"saab 99le\", \"Miles_per_Gallon\": 24.0, \"Cylinders\": 4, \"Displacement\": 121.0, \"Horsepower\": 110.0, \"Weight_in_lbs\": 2660, \"Acceleration\": 14.0, \"Year\": \"1973-01-01T00:00:00\", \"Origin\": \"Europe\"}, {\"Name\": \"toyota mark ii\", \"Miles_per_Gallon\": 20.0, \"Cylinders\": 6, \"Displacement\": 156.0, \"Horsepower\": 122.0, \"Weight_in_lbs\": 2807, \"Acceleration\": 13.5, \"Year\": \"1973-01-01T00:00:00\", \"Origin\": \"Japan\"}, {\"Name\": \"oldsmobile omega\", \"Miles_per_Gallon\": 11.0, \"Cylinders\": 8, \"Displacement\": 350.0, \"Horsepower\": 180.0, \"Weight_in_lbs\": 3664, \"Acceleration\": 11.0, \"Year\": \"1973-01-01T00:00:00\", \"Origin\": \"USA\"}, {\"Name\": \"plymouth duster\", \"Miles_per_Gallon\": 20.0, \"Cylinders\": 6, \"Displacement\": 198.0, \"Horsepower\": 95.0, \"Weight_in_lbs\": 3102, \"Acceleration\": 16.5, \"Year\": \"1974-01-01T00:00:00\", \"Origin\": \"USA\"}, {\"Name\": \"ford maverick\", \"Miles_per_Gallon\": 21.0, \"Cylinders\": 6, \"Displacement\": 200.0, \"Horsepower\": null, \"Weight_in_lbs\": 2875, \"Acceleration\": 17.0, \"Year\": \"1974-01-01T00:00:00\", \"Origin\": \"USA\"}, {\"Name\": \"amc hornet\", \"Miles_per_Gallon\": 19.0, \"Cylinders\": 6, \"Displacement\": 232.0, \"Horsepower\": 100.0, \"Weight_in_lbs\": 2901, \"Acceleration\": 16.0, \"Year\": \"1974-01-01T00:00:00\", \"Origin\": \"USA\"}, {\"Name\": \"chevrolet nova\", \"Miles_per_Gallon\": 15.0, \"Cylinders\": 6, \"Displacement\": 250.0, \"Horsepower\": 100.0, \"Weight_in_lbs\": 3336, \"Acceleration\": 17.0, \"Year\": \"1974-01-01T00:00:00\", \"Origin\": \"USA\"}, {\"Name\": \"datsun b210\", \"Miles_per_Gallon\": 31.0, \"Cylinders\": 4, \"Displacement\": 79.0, \"Horsepower\": 67.0, \"Weight_in_lbs\": 1950, \"Acceleration\": 19.0, \"Year\": \"1974-01-01T00:00:00\", \"Origin\": \"Japan\"}, {\"Name\": \"ford pinto\", \"Miles_per_Gallon\": 26.0, \"Cylinders\": 4, \"Displacement\": 122.0, \"Horsepower\": 80.0, \"Weight_in_lbs\": 2451, \"Acceleration\": 16.5, \"Year\": \"1974-01-01T00:00:00\", \"Origin\": \"USA\"}, {\"Name\": \"toyota corolla 1200\", \"Miles_per_Gallon\": 32.0, \"Cylinders\": 4, \"Displacement\": 71.0, \"Horsepower\": 65.0, \"Weight_in_lbs\": 1836, \"Acceleration\": 21.0, \"Year\": \"1974-01-01T00:00:00\", \"Origin\": \"Japan\"}, {\"Name\": \"chevrolet vega\", \"Miles_per_Gallon\": 25.0, \"Cylinders\": 4, \"Displacement\": 140.0, \"Horsepower\": 75.0, \"Weight_in_lbs\": 2542, \"Acceleration\": 17.0, \"Year\": \"1974-01-01T00:00:00\", \"Origin\": \"USA\"}, {\"Name\": \"chevrolet chevelle malibu classic\", \"Miles_per_Gallon\": 16.0, \"Cylinders\": 6, \"Displacement\": 250.0, \"Horsepower\": 100.0, \"Weight_in_lbs\": 3781, \"Acceleration\": 17.0, \"Year\": \"1974-01-01T00:00:00\", \"Origin\": \"USA\"}, {\"Name\": \"amc matador\", \"Miles_per_Gallon\": 16.0, \"Cylinders\": 6, \"Displacement\": 258.0, \"Horsepower\": 110.0, \"Weight_in_lbs\": 3632, \"Acceleration\": 18.0, \"Year\": \"1974-01-01T00:00:00\", \"Origin\": \"USA\"}, {\"Name\": \"plymouth satellite sebring\", \"Miles_per_Gallon\": 18.0, \"Cylinders\": 6, \"Displacement\": 225.0, \"Horsepower\": 105.0, \"Weight_in_lbs\": 3613, \"Acceleration\": 16.5, \"Year\": \"1974-01-01T00:00:00\", \"Origin\": \"USA\"}, {\"Name\": \"ford gran torino\", \"Miles_per_Gallon\": 16.0, \"Cylinders\": 8, \"Displacement\": 302.0, \"Horsepower\": 140.0, \"Weight_in_lbs\": 4141, \"Acceleration\": 14.0, \"Year\": \"1974-01-01T00:00:00\", \"Origin\": \"USA\"}, {\"Name\": \"buick century luxus (sw)\", \"Miles_per_Gallon\": 13.0, \"Cylinders\": 8, \"Displacement\": 350.0, \"Horsepower\": 150.0, \"Weight_in_lbs\": 4699, \"Acceleration\": 14.5, \"Year\": \"1974-01-01T00:00:00\", \"Origin\": \"USA\"}, {\"Name\": \"dodge coronet custom (sw)\", \"Miles_per_Gallon\": 14.0, \"Cylinders\": 8, \"Displacement\": 318.0, \"Horsepower\": 150.0, \"Weight_in_lbs\": 4457, \"Acceleration\": 13.5, \"Year\": \"1974-01-01T00:00:00\", \"Origin\": \"USA\"}, {\"Name\": \"ford gran torino (sw)\", \"Miles_per_Gallon\": 14.0, \"Cylinders\": 8, \"Displacement\": 302.0, \"Horsepower\": 140.0, \"Weight_in_lbs\": 4638, \"Acceleration\": 16.0, \"Year\": \"1974-01-01T00:00:00\", \"Origin\": \"USA\"}, {\"Name\": \"amc matador (sw)\", \"Miles_per_Gallon\": 14.0, \"Cylinders\": 8, \"Displacement\": 304.0, \"Horsepower\": 150.0, \"Weight_in_lbs\": 4257, \"Acceleration\": 15.5, \"Year\": \"1974-01-01T00:00:00\", \"Origin\": \"USA\"}, {\"Name\": \"audi fox\", \"Miles_per_Gallon\": 29.0, \"Cylinders\": 4, \"Displacement\": 98.0, \"Horsepower\": 83.0, \"Weight_in_lbs\": 2219, \"Acceleration\": 16.5, \"Year\": \"1974-01-01T00:00:00\", \"Origin\": \"Europe\"}, {\"Name\": \"volkswagen dasher\", \"Miles_per_Gallon\": 26.0, \"Cylinders\": 4, \"Displacement\": 79.0, \"Horsepower\": 67.0, \"Weight_in_lbs\": 1963, \"Acceleration\": 15.5, \"Year\": \"1974-01-01T00:00:00\", \"Origin\": \"Europe\"}, {\"Name\": \"opel manta\", \"Miles_per_Gallon\": 26.0, \"Cylinders\": 4, \"Displacement\": 97.0, \"Horsepower\": 78.0, \"Weight_in_lbs\": 2300, \"Acceleration\": 14.5, \"Year\": \"1974-01-01T00:00:00\", \"Origin\": \"Europe\"}, {\"Name\": \"toyota corona\", \"Miles_per_Gallon\": 31.0, \"Cylinders\": 4, \"Displacement\": 76.0, \"Horsepower\": 52.0, \"Weight_in_lbs\": 1649, \"Acceleration\": 16.5, \"Year\": \"1974-01-01T00:00:00\", \"Origin\": \"Japan\"}, {\"Name\": \"datsun 710\", \"Miles_per_Gallon\": 32.0, \"Cylinders\": 4, \"Displacement\": 83.0, \"Horsepower\": 61.0, \"Weight_in_lbs\": 2003, \"Acceleration\": 19.0, \"Year\": \"1974-01-01T00:00:00\", \"Origin\": \"Japan\"}, {\"Name\": \"dodge colt\", \"Miles_per_Gallon\": 28.0, \"Cylinders\": 4, \"Displacement\": 90.0, \"Horsepower\": 75.0, \"Weight_in_lbs\": 2125, \"Acceleration\": 14.5, \"Year\": \"1974-01-01T00:00:00\", \"Origin\": \"USA\"}, {\"Name\": \"fiat 128\", \"Miles_per_Gallon\": 24.0, \"Cylinders\": 4, \"Displacement\": 90.0, \"Horsepower\": 75.0, \"Weight_in_lbs\": 2108, \"Acceleration\": 15.5, \"Year\": \"1974-01-01T00:00:00\", \"Origin\": \"Europe\"}, {\"Name\": \"fiat 124 tc\", \"Miles_per_Gallon\": 26.0, \"Cylinders\": 4, \"Displacement\": 116.0, \"Horsepower\": 75.0, \"Weight_in_lbs\": 2246, \"Acceleration\": 14.0, \"Year\": \"1974-01-01T00:00:00\", \"Origin\": \"Europe\"}, {\"Name\": \"honda civic\", \"Miles_per_Gallon\": 24.0, \"Cylinders\": 4, \"Displacement\": 120.0, \"Horsepower\": 97.0, \"Weight_in_lbs\": 2489, \"Acceleration\": 15.0, \"Year\": \"1974-01-01T00:00:00\", \"Origin\": \"Japan\"}, {\"Name\": \"subaru\", \"Miles_per_Gallon\": 26.0, \"Cylinders\": 4, \"Displacement\": 108.0, \"Horsepower\": 93.0, \"Weight_in_lbs\": 2391, \"Acceleration\": 15.5, \"Year\": \"1974-01-01T00:00:00\", \"Origin\": \"Japan\"}, {\"Name\": \"fiat x1.9\", \"Miles_per_Gallon\": 31.0, \"Cylinders\": 4, \"Displacement\": 79.0, \"Horsepower\": 67.0, \"Weight_in_lbs\": 2000, \"Acceleration\": 16.0, \"Year\": \"1974-01-01T00:00:00\", \"Origin\": \"Europe\"}, {\"Name\": \"plymouth valiant custom\", \"Miles_per_Gallon\": 19.0, \"Cylinders\": 6, \"Displacement\": 225.0, \"Horsepower\": 95.0, \"Weight_in_lbs\": 3264, \"Acceleration\": 16.0, \"Year\": \"1975-01-01T00:00:00\", \"Origin\": \"USA\"}, {\"Name\": \"chevrolet nova\", \"Miles_per_Gallon\": 18.0, \"Cylinders\": 6, \"Displacement\": 250.0, \"Horsepower\": 105.0, \"Weight_in_lbs\": 3459, \"Acceleration\": 16.0, \"Year\": \"1975-01-01T00:00:00\", \"Origin\": \"USA\"}, {\"Name\": \"mercury monarch\", \"Miles_per_Gallon\": 15.0, \"Cylinders\": 6, \"Displacement\": 250.0, \"Horsepower\": 72.0, \"Weight_in_lbs\": 3432, \"Acceleration\": 21.0, \"Year\": \"1975-01-01T00:00:00\", \"Origin\": \"USA\"}, {\"Name\": \"ford maverick\", \"Miles_per_Gallon\": 15.0, \"Cylinders\": 6, \"Displacement\": 250.0, \"Horsepower\": 72.0, \"Weight_in_lbs\": 3158, \"Acceleration\": 19.5, \"Year\": \"1975-01-01T00:00:00\", \"Origin\": \"USA\"}, {\"Name\": \"pontiac catalina\", \"Miles_per_Gallon\": 16.0, \"Cylinders\": 8, \"Displacement\": 400.0, \"Horsepower\": 170.0, \"Weight_in_lbs\": 4668, \"Acceleration\": 11.5, \"Year\": \"1975-01-01T00:00:00\", \"Origin\": \"USA\"}, {\"Name\": \"chevrolet bel air\", \"Miles_per_Gallon\": 15.0, \"Cylinders\": 8, \"Displacement\": 350.0, \"Horsepower\": 145.0, \"Weight_in_lbs\": 4440, \"Acceleration\": 14.0, \"Year\": \"1975-01-01T00:00:00\", \"Origin\": \"USA\"}, {\"Name\": \"plymouth grand fury\", \"Miles_per_Gallon\": 16.0, \"Cylinders\": 8, \"Displacement\": 318.0, \"Horsepower\": 150.0, \"Weight_in_lbs\": 4498, \"Acceleration\": 14.5, \"Year\": \"1975-01-01T00:00:00\", \"Origin\": \"USA\"}, {\"Name\": \"ford ltd\", \"Miles_per_Gallon\": 14.0, \"Cylinders\": 8, \"Displacement\": 351.0, \"Horsepower\": 148.0, \"Weight_in_lbs\": 4657, \"Acceleration\": 13.5, \"Year\": \"1975-01-01T00:00:00\", \"Origin\": \"USA\"}, {\"Name\": \"buick century\", \"Miles_per_Gallon\": 17.0, \"Cylinders\": 6, \"Displacement\": 231.0, \"Horsepower\": 110.0, \"Weight_in_lbs\": 3907, \"Acceleration\": 21.0, \"Year\": \"1975-01-01T00:00:00\", \"Origin\": \"USA\"}, {\"Name\": \"chevroelt chevelle malibu\", \"Miles_per_Gallon\": 16.0, \"Cylinders\": 6, \"Displacement\": 250.0, \"Horsepower\": 105.0, \"Weight_in_lbs\": 3897, \"Acceleration\": 18.5, \"Year\": \"1975-01-01T00:00:00\", \"Origin\": \"USA\"}, {\"Name\": \"amc matador\", \"Miles_per_Gallon\": 15.0, \"Cylinders\": 6, \"Displacement\": 258.0, \"Horsepower\": 110.0, \"Weight_in_lbs\": 3730, \"Acceleration\": 19.0, \"Year\": \"1975-01-01T00:00:00\", \"Origin\": \"USA\"}, {\"Name\": \"plymouth fury\", \"Miles_per_Gallon\": 18.0, \"Cylinders\": 6, \"Displacement\": 225.0, \"Horsepower\": 95.0, \"Weight_in_lbs\": 3785, \"Acceleration\": 19.0, \"Year\": \"1975-01-01T00:00:00\", \"Origin\": \"USA\"}, {\"Name\": \"buick skyhawk\", \"Miles_per_Gallon\": 21.0, \"Cylinders\": 6, \"Displacement\": 231.0, \"Horsepower\": 110.0, \"Weight_in_lbs\": 3039, \"Acceleration\": 15.0, \"Year\": \"1975-01-01T00:00:00\", \"Origin\": \"USA\"}, {\"Name\": \"chevrolet monza 2+2\", \"Miles_per_Gallon\": 20.0, \"Cylinders\": 8, \"Displacement\": 262.0, \"Horsepower\": 110.0, \"Weight_in_lbs\": 3221, \"Acceleration\": 13.5, \"Year\": \"1975-01-01T00:00:00\", \"Origin\": \"USA\"}, {\"Name\": \"ford mustang ii\", \"Miles_per_Gallon\": 13.0, \"Cylinders\": 8, \"Displacement\": 302.0, \"Horsepower\": 129.0, \"Weight_in_lbs\": 3169, \"Acceleration\": 12.0, \"Year\": \"1975-01-01T00:00:00\", \"Origin\": \"USA\"}, {\"Name\": \"toyota corolla\", \"Miles_per_Gallon\": 29.0, \"Cylinders\": 4, \"Displacement\": 97.0, \"Horsepower\": 75.0, \"Weight_in_lbs\": 2171, \"Acceleration\": 16.0, \"Year\": \"1975-01-01T00:00:00\", \"Origin\": \"Japan\"}, {\"Name\": \"ford pinto\", \"Miles_per_Gallon\": 23.0, \"Cylinders\": 4, \"Displacement\": 140.0, \"Horsepower\": 83.0, \"Weight_in_lbs\": 2639, \"Acceleration\": 17.0, \"Year\": \"1975-01-01T00:00:00\", \"Origin\": \"USA\"}, {\"Name\": \"amc gremlin\", \"Miles_per_Gallon\": 20.0, \"Cylinders\": 6, \"Displacement\": 232.0, \"Horsepower\": 100.0, \"Weight_in_lbs\": 2914, \"Acceleration\": 16.0, \"Year\": \"1975-01-01T00:00:00\", \"Origin\": \"USA\"}, {\"Name\": \"pontiac astro\", \"Miles_per_Gallon\": 23.0, \"Cylinders\": 4, \"Displacement\": 140.0, \"Horsepower\": 78.0, \"Weight_in_lbs\": 2592, \"Acceleration\": 18.5, \"Year\": \"1975-01-01T00:00:00\", \"Origin\": \"USA\"}, {\"Name\": \"toyota corona\", \"Miles_per_Gallon\": 24.0, \"Cylinders\": 4, \"Displacement\": 134.0, \"Horsepower\": 96.0, \"Weight_in_lbs\": 2702, \"Acceleration\": 13.5, \"Year\": \"1975-01-01T00:00:00\", \"Origin\": \"Japan\"}, {\"Name\": \"volkswagen dasher\", \"Miles_per_Gallon\": 25.0, \"Cylinders\": 4, \"Displacement\": 90.0, \"Horsepower\": 71.0, \"Weight_in_lbs\": 2223, \"Acceleration\": 16.5, \"Year\": \"1975-01-01T00:00:00\", \"Origin\": \"Europe\"}, {\"Name\": \"datsun 710\", \"Miles_per_Gallon\": 24.0, \"Cylinders\": 4, \"Displacement\": 119.0, \"Horsepower\": 97.0, \"Weight_in_lbs\": 2545, \"Acceleration\": 17.0, \"Year\": \"1975-01-01T00:00:00\", \"Origin\": \"Japan\"}, {\"Name\": \"ford pinto\", \"Miles_per_Gallon\": 18.0, \"Cylinders\": 6, \"Displacement\": 171.0, \"Horsepower\": 97.0, \"Weight_in_lbs\": 2984, \"Acceleration\": 14.5, \"Year\": \"1975-01-01T00:00:00\", \"Origin\": \"USA\"}, {\"Name\": \"volkswagen rabbit\", \"Miles_per_Gallon\": 29.0, \"Cylinders\": 4, \"Displacement\": 90.0, \"Horsepower\": 70.0, \"Weight_in_lbs\": 1937, \"Acceleration\": 14.0, \"Year\": \"1975-01-01T00:00:00\", \"Origin\": \"Europe\"}, {\"Name\": \"amc pacer\", \"Miles_per_Gallon\": 19.0, \"Cylinders\": 6, \"Displacement\": 232.0, \"Horsepower\": 90.0, \"Weight_in_lbs\": 3211, \"Acceleration\": 17.0, \"Year\": \"1975-01-01T00:00:00\", \"Origin\": \"USA\"}, {\"Name\": \"audi 100ls\", \"Miles_per_Gallon\": 23.0, \"Cylinders\": 4, \"Displacement\": 115.0, \"Horsepower\": 95.0, \"Weight_in_lbs\": 2694, \"Acceleration\": 15.0, \"Year\": \"1975-01-01T00:00:00\", \"Origin\": \"Europe\"}, {\"Name\": \"peugeot 504\", \"Miles_per_Gallon\": 23.0, \"Cylinders\": 4, \"Displacement\": 120.0, \"Horsepower\": 88.0, \"Weight_in_lbs\": 2957, \"Acceleration\": 17.0, \"Year\": \"1975-01-01T00:00:00\", \"Origin\": \"Europe\"}, {\"Name\": \"volvo 244dl\", \"Miles_per_Gallon\": 22.0, \"Cylinders\": 4, \"Displacement\": 121.0, \"Horsepower\": 98.0, \"Weight_in_lbs\": 2945, \"Acceleration\": 14.5, \"Year\": \"1975-01-01T00:00:00\", \"Origin\": \"Europe\"}, {\"Name\": \"saab 99le\", \"Miles_per_Gallon\": 25.0, \"Cylinders\": 4, \"Displacement\": 121.0, \"Horsepower\": 115.0, \"Weight_in_lbs\": 2671, \"Acceleration\": 13.5, \"Year\": \"1975-01-01T00:00:00\", \"Origin\": \"Europe\"}, {\"Name\": \"honda civic cvcc\", \"Miles_per_Gallon\": 33.0, \"Cylinders\": 4, \"Displacement\": 91.0, \"Horsepower\": 53.0, \"Weight_in_lbs\": 1795, \"Acceleration\": 17.5, \"Year\": \"1975-01-01T00:00:00\", \"Origin\": \"Japan\"}, {\"Name\": \"fiat 131\", \"Miles_per_Gallon\": 28.0, \"Cylinders\": 4, \"Displacement\": 107.0, \"Horsepower\": 86.0, \"Weight_in_lbs\": 2464, \"Acceleration\": 15.5, \"Year\": \"1976-01-01T00:00:00\", \"Origin\": \"Europe\"}, {\"Name\": \"opel 1900\", \"Miles_per_Gallon\": 25.0, \"Cylinders\": 4, \"Displacement\": 116.0, \"Horsepower\": 81.0, \"Weight_in_lbs\": 2220, \"Acceleration\": 16.9, \"Year\": \"1976-01-01T00:00:00\", \"Origin\": \"Europe\"}, {\"Name\": \"capri ii\", \"Miles_per_Gallon\": 25.0, \"Cylinders\": 4, \"Displacement\": 140.0, \"Horsepower\": 92.0, \"Weight_in_lbs\": 2572, \"Acceleration\": 14.9, \"Year\": \"1976-01-01T00:00:00\", \"Origin\": \"USA\"}, {\"Name\": \"dodge colt\", \"Miles_per_Gallon\": 26.0, \"Cylinders\": 4, \"Displacement\": 98.0, \"Horsepower\": 79.0, \"Weight_in_lbs\": 2255, \"Acceleration\": 17.7, \"Year\": \"1976-01-01T00:00:00\", \"Origin\": \"USA\"}, {\"Name\": \"renault 12tl\", \"Miles_per_Gallon\": 27.0, \"Cylinders\": 4, \"Displacement\": 101.0, \"Horsepower\": 83.0, \"Weight_in_lbs\": 2202, \"Acceleration\": 15.3, \"Year\": \"1976-01-01T00:00:00\", \"Origin\": \"Europe\"}, {\"Name\": \"chevrolet chevelle malibu classic\", \"Miles_per_Gallon\": 17.5, \"Cylinders\": 8, \"Displacement\": 305.0, \"Horsepower\": 140.0, \"Weight_in_lbs\": 4215, \"Acceleration\": 13.0, \"Year\": \"1976-01-01T00:00:00\", \"Origin\": \"USA\"}, {\"Name\": \"dodge coronet brougham\", \"Miles_per_Gallon\": 16.0, \"Cylinders\": 8, \"Displacement\": 318.0, \"Horsepower\": 150.0, \"Weight_in_lbs\": 4190, \"Acceleration\": 13.0, \"Year\": \"1976-01-01T00:00:00\", \"Origin\": \"USA\"}, {\"Name\": \"amc matador\", \"Miles_per_Gallon\": 15.5, \"Cylinders\": 8, \"Displacement\": 304.0, \"Horsepower\": 120.0, \"Weight_in_lbs\": 3962, \"Acceleration\": 13.9, \"Year\": \"1976-01-01T00:00:00\", \"Origin\": \"USA\"}, {\"Name\": \"ford gran torino\", \"Miles_per_Gallon\": 14.5, \"Cylinders\": 8, \"Displacement\": 351.0, \"Horsepower\": 152.0, \"Weight_in_lbs\": 4215, \"Acceleration\": 12.8, \"Year\": \"1976-01-01T00:00:00\", \"Origin\": \"USA\"}, {\"Name\": \"plymouth valiant\", \"Miles_per_Gallon\": 22.0, \"Cylinders\": 6, \"Displacement\": 225.0, \"Horsepower\": 100.0, \"Weight_in_lbs\": 3233, \"Acceleration\": 15.4, \"Year\": \"1976-01-01T00:00:00\", \"Origin\": \"USA\"}, {\"Name\": \"chevrolet nova\", \"Miles_per_Gallon\": 22.0, \"Cylinders\": 6, \"Displacement\": 250.0, \"Horsepower\": 105.0, \"Weight_in_lbs\": 3353, \"Acceleration\": 14.5, \"Year\": \"1976-01-01T00:00:00\", \"Origin\": \"USA\"}, {\"Name\": \"ford maverick\", \"Miles_per_Gallon\": 24.0, \"Cylinders\": 6, \"Displacement\": 200.0, \"Horsepower\": 81.0, \"Weight_in_lbs\": 3012, \"Acceleration\": 17.6, \"Year\": \"1976-01-01T00:00:00\", \"Origin\": \"USA\"}, {\"Name\": \"amc hornet\", \"Miles_per_Gallon\": 22.5, \"Cylinders\": 6, \"Displacement\": 232.0, \"Horsepower\": 90.0, \"Weight_in_lbs\": 3085, \"Acceleration\": 17.6, \"Year\": \"1976-01-01T00:00:00\", \"Origin\": \"USA\"}, {\"Name\": \"chevrolet chevette\", \"Miles_per_Gallon\": 29.0, \"Cylinders\": 4, \"Displacement\": 85.0, \"Horsepower\": 52.0, \"Weight_in_lbs\": 2035, \"Acceleration\": 22.2, \"Year\": \"1976-01-01T00:00:00\", \"Origin\": \"USA\"}, {\"Name\": \"chevrolet woody\", \"Miles_per_Gallon\": 24.5, \"Cylinders\": 4, \"Displacement\": 98.0, \"Horsepower\": 60.0, \"Weight_in_lbs\": 2164, \"Acceleration\": 22.1, \"Year\": \"1976-01-01T00:00:00\", \"Origin\": \"USA\"}, {\"Name\": \"vw rabbit\", \"Miles_per_Gallon\": 29.0, \"Cylinders\": 4, \"Displacement\": 90.0, \"Horsepower\": 70.0, \"Weight_in_lbs\": 1937, \"Acceleration\": 14.2, \"Year\": \"1976-01-01T00:00:00\", \"Origin\": \"Europe\"}, {\"Name\": \"honda civic\", \"Miles_per_Gallon\": 33.0, \"Cylinders\": 4, \"Displacement\": 91.0, \"Horsepower\": 53.0, \"Weight_in_lbs\": 1795, \"Acceleration\": 17.4, \"Year\": \"1976-01-01T00:00:00\", \"Origin\": \"Japan\"}, {\"Name\": \"dodge aspen se\", \"Miles_per_Gallon\": 20.0, \"Cylinders\": 6, \"Displacement\": 225.0, \"Horsepower\": 100.0, \"Weight_in_lbs\": 3651, \"Acceleration\": 17.7, \"Year\": \"1976-01-01T00:00:00\", \"Origin\": \"USA\"}, {\"Name\": \"ford granada ghia\", \"Miles_per_Gallon\": 18.0, \"Cylinders\": 6, \"Displacement\": 250.0, \"Horsepower\": 78.0, \"Weight_in_lbs\": 3574, \"Acceleration\": 21.0, \"Year\": \"1976-01-01T00:00:00\", \"Origin\": \"USA\"}, {\"Name\": \"pontiac ventura sj\", \"Miles_per_Gallon\": 18.5, \"Cylinders\": 6, \"Displacement\": 250.0, \"Horsepower\": 110.0, \"Weight_in_lbs\": 3645, \"Acceleration\": 16.2, \"Year\": \"1976-01-01T00:00:00\", \"Origin\": \"USA\"}, {\"Name\": \"amc pacer d/l\", \"Miles_per_Gallon\": 17.5, \"Cylinders\": 6, \"Displacement\": 258.0, \"Horsepower\": 95.0, \"Weight_in_lbs\": 3193, \"Acceleration\": 17.8, \"Year\": \"1976-01-01T00:00:00\", \"Origin\": \"USA\"}, {\"Name\": \"volkswagen rabbit\", \"Miles_per_Gallon\": 29.5, \"Cylinders\": 4, \"Displacement\": 97.0, \"Horsepower\": 71.0, \"Weight_in_lbs\": 1825, \"Acceleration\": 12.2, \"Year\": \"1976-01-01T00:00:00\", \"Origin\": \"Europe\"}, {\"Name\": \"datsun b-210\", \"Miles_per_Gallon\": 32.0, \"Cylinders\": 4, \"Displacement\": 85.0, \"Horsepower\": 70.0, \"Weight_in_lbs\": 1990, \"Acceleration\": 17.0, \"Year\": \"1976-01-01T00:00:00\", \"Origin\": \"Japan\"}, {\"Name\": \"toyota corolla\", \"Miles_per_Gallon\": 28.0, \"Cylinders\": 4, \"Displacement\": 97.0, \"Horsepower\": 75.0, \"Weight_in_lbs\": 2155, \"Acceleration\": 16.4, \"Year\": \"1976-01-01T00:00:00\", \"Origin\": \"Japan\"}, {\"Name\": \"ford pinto\", \"Miles_per_Gallon\": 26.5, \"Cylinders\": 4, \"Displacement\": 140.0, \"Horsepower\": 72.0, \"Weight_in_lbs\": 2565, \"Acceleration\": 13.6, \"Year\": \"1976-01-01T00:00:00\", \"Origin\": \"USA\"}, {\"Name\": \"volvo 245\", \"Miles_per_Gallon\": 20.0, \"Cylinders\": 4, \"Displacement\": 130.0, \"Horsepower\": 102.0, \"Weight_in_lbs\": 3150, \"Acceleration\": 15.7, \"Year\": \"1976-01-01T00:00:00\", \"Origin\": \"Europe\"}, {\"Name\": \"plymouth volare premier v8\", \"Miles_per_Gallon\": 13.0, \"Cylinders\": 8, \"Displacement\": 318.0, \"Horsepower\": 150.0, \"Weight_in_lbs\": 3940, \"Acceleration\": 13.2, \"Year\": \"1976-01-01T00:00:00\", \"Origin\": \"USA\"}, {\"Name\": \"peugeot 504\", \"Miles_per_Gallon\": 19.0, \"Cylinders\": 4, \"Displacement\": 120.0, \"Horsepower\": 88.0, \"Weight_in_lbs\": 3270, \"Acceleration\": 21.9, \"Year\": \"1976-01-01T00:00:00\", \"Origin\": \"Europe\"}, {\"Name\": \"toyota mark ii\", \"Miles_per_Gallon\": 19.0, \"Cylinders\": 6, \"Displacement\": 156.0, \"Horsepower\": 108.0, \"Weight_in_lbs\": 2930, \"Acceleration\": 15.5, \"Year\": \"1976-01-01T00:00:00\", \"Origin\": \"Japan\"}, {\"Name\": \"mercedes-benz 280s\", \"Miles_per_Gallon\": 16.5, \"Cylinders\": 6, \"Displacement\": 168.0, \"Horsepower\": 120.0, \"Weight_in_lbs\": 3820, \"Acceleration\": 16.7, \"Year\": \"1976-01-01T00:00:00\", \"Origin\": \"Europe\"}, {\"Name\": \"cadillac seville\", \"Miles_per_Gallon\": 16.5, \"Cylinders\": 8, \"Displacement\": 350.0, \"Horsepower\": 180.0, \"Weight_in_lbs\": 4380, \"Acceleration\": 12.1, \"Year\": \"1976-01-01T00:00:00\", \"Origin\": \"USA\"}, {\"Name\": \"chevy c10\", \"Miles_per_Gallon\": 13.0, \"Cylinders\": 8, \"Displacement\": 350.0, \"Horsepower\": 145.0, \"Weight_in_lbs\": 4055, \"Acceleration\": 12.0, \"Year\": \"1976-01-01T00:00:00\", \"Origin\": \"USA\"}, {\"Name\": \"ford f108\", \"Miles_per_Gallon\": 13.0, \"Cylinders\": 8, \"Displacement\": 302.0, \"Horsepower\": 130.0, \"Weight_in_lbs\": 3870, \"Acceleration\": 15.0, \"Year\": \"1976-01-01T00:00:00\", \"Origin\": \"USA\"}, {\"Name\": \"dodge d100\", \"Miles_per_Gallon\": 13.0, \"Cylinders\": 8, \"Displacement\": 318.0, \"Horsepower\": 150.0, \"Weight_in_lbs\": 3755, \"Acceleration\": 14.0, \"Year\": \"1976-01-01T00:00:00\", \"Origin\": \"USA\"}, {\"Name\": \"honda Accelerationord cvcc\", \"Miles_per_Gallon\": 31.5, \"Cylinders\": 4, \"Displacement\": 98.0, \"Horsepower\": 68.0, \"Weight_in_lbs\": 2045, \"Acceleration\": 18.5, \"Year\": \"1977-01-01T00:00:00\", \"Origin\": \"Japan\"}, {\"Name\": \"buick opel isuzu deluxe\", \"Miles_per_Gallon\": 30.0, \"Cylinders\": 4, \"Displacement\": 111.0, \"Horsepower\": 80.0, \"Weight_in_lbs\": 2155, \"Acceleration\": 14.8, \"Year\": \"1977-01-01T00:00:00\", \"Origin\": \"USA\"}, {\"Name\": \"renault 5 gtl\", \"Miles_per_Gallon\": 36.0, \"Cylinders\": 4, \"Displacement\": 79.0, \"Horsepower\": 58.0, \"Weight_in_lbs\": 1825, \"Acceleration\": 18.6, \"Year\": \"1977-01-01T00:00:00\", \"Origin\": \"Europe\"}, {\"Name\": \"plymouth arrow gs\", \"Miles_per_Gallon\": 25.5, \"Cylinders\": 4, \"Displacement\": 122.0, \"Horsepower\": 96.0, \"Weight_in_lbs\": 2300, \"Acceleration\": 15.5, \"Year\": \"1977-01-01T00:00:00\", \"Origin\": \"USA\"}, {\"Name\": \"datsun f-10 hatchback\", \"Miles_per_Gallon\": 33.5, \"Cylinders\": 4, \"Displacement\": 85.0, \"Horsepower\": 70.0, \"Weight_in_lbs\": 1945, \"Acceleration\": 16.8, \"Year\": \"1977-01-01T00:00:00\", \"Origin\": \"Japan\"}, {\"Name\": \"chevrolet caprice classic\", \"Miles_per_Gallon\": 17.5, \"Cylinders\": 8, \"Displacement\": 305.0, \"Horsepower\": 145.0, \"Weight_in_lbs\": 3880, \"Acceleration\": 12.5, \"Year\": \"1977-01-01T00:00:00\", \"Origin\": \"USA\"}, {\"Name\": \"oldsmobile cutlass supreme\", \"Miles_per_Gallon\": 17.0, \"Cylinders\": 8, \"Displacement\": 260.0, \"Horsepower\": 110.0, \"Weight_in_lbs\": 4060, \"Acceleration\": 19.0, \"Year\": \"1977-01-01T00:00:00\", \"Origin\": \"USA\"}, {\"Name\": \"dodge monaco brougham\", \"Miles_per_Gallon\": 15.5, \"Cylinders\": 8, \"Displacement\": 318.0, \"Horsepower\": 145.0, \"Weight_in_lbs\": 4140, \"Acceleration\": 13.7, \"Year\": \"1977-01-01T00:00:00\", \"Origin\": \"USA\"}, {\"Name\": \"mercury cougar brougham\", \"Miles_per_Gallon\": 15.0, \"Cylinders\": 8, \"Displacement\": 302.0, \"Horsepower\": 130.0, \"Weight_in_lbs\": 4295, \"Acceleration\": 14.9, \"Year\": \"1977-01-01T00:00:00\", \"Origin\": \"USA\"}, {\"Name\": \"chevrolet concours\", \"Miles_per_Gallon\": 17.5, \"Cylinders\": 6, \"Displacement\": 250.0, \"Horsepower\": 110.0, \"Weight_in_lbs\": 3520, \"Acceleration\": 16.4, \"Year\": \"1977-01-01T00:00:00\", \"Origin\": \"USA\"}, {\"Name\": \"buick skylark\", \"Miles_per_Gallon\": 20.5, \"Cylinders\": 6, \"Displacement\": 231.0, \"Horsepower\": 105.0, \"Weight_in_lbs\": 3425, \"Acceleration\": 16.9, \"Year\": \"1977-01-01T00:00:00\", \"Origin\": \"USA\"}, {\"Name\": \"plymouth volare custom\", \"Miles_per_Gallon\": 19.0, \"Cylinders\": 6, \"Displacement\": 225.0, \"Horsepower\": 100.0, \"Weight_in_lbs\": 3630, \"Acceleration\": 17.7, \"Year\": \"1977-01-01T00:00:00\", \"Origin\": \"USA\"}, {\"Name\": \"ford granada\", \"Miles_per_Gallon\": 18.5, \"Cylinders\": 6, \"Displacement\": 250.0, \"Horsepower\": 98.0, \"Weight_in_lbs\": 3525, \"Acceleration\": 19.0, \"Year\": \"1977-01-01T00:00:00\", \"Origin\": \"USA\"}, {\"Name\": \"pontiac grand prix lj\", \"Miles_per_Gallon\": 16.0, \"Cylinders\": 8, \"Displacement\": 400.0, \"Horsepower\": 180.0, \"Weight_in_lbs\": 4220, \"Acceleration\": 11.1, \"Year\": \"1977-01-01T00:00:00\", \"Origin\": \"USA\"}, {\"Name\": \"chevrolet monte carlo landau\", \"Miles_per_Gallon\": 15.5, \"Cylinders\": 8, \"Displacement\": 350.0, \"Horsepower\": 170.0, \"Weight_in_lbs\": 4165, \"Acceleration\": 11.4, \"Year\": \"1977-01-01T00:00:00\", \"Origin\": \"USA\"}, {\"Name\": \"chrysler cordoba\", \"Miles_per_Gallon\": 15.5, \"Cylinders\": 8, \"Displacement\": 400.0, \"Horsepower\": 190.0, \"Weight_in_lbs\": 4325, \"Acceleration\": 12.2, \"Year\": \"1977-01-01T00:00:00\", \"Origin\": \"USA\"}, {\"Name\": \"ford thunderbird\", \"Miles_per_Gallon\": 16.0, \"Cylinders\": 8, \"Displacement\": 351.0, \"Horsepower\": 149.0, \"Weight_in_lbs\": 4335, \"Acceleration\": 14.5, \"Year\": \"1977-01-01T00:00:00\", \"Origin\": \"USA\"}, {\"Name\": \"volkswagen rabbit custom\", \"Miles_per_Gallon\": 29.0, \"Cylinders\": 4, \"Displacement\": 97.0, \"Horsepower\": 78.0, \"Weight_in_lbs\": 1940, \"Acceleration\": 14.5, \"Year\": \"1977-01-01T00:00:00\", \"Origin\": \"Europe\"}, {\"Name\": \"pontiac sunbird coupe\", \"Miles_per_Gallon\": 24.5, \"Cylinders\": 4, \"Displacement\": 151.0, \"Horsepower\": 88.0, \"Weight_in_lbs\": 2740, \"Acceleration\": 16.0, \"Year\": \"1977-01-01T00:00:00\", \"Origin\": \"USA\"}, {\"Name\": \"toyota corolla liftback\", \"Miles_per_Gallon\": 26.0, \"Cylinders\": 4, \"Displacement\": 97.0, \"Horsepower\": 75.0, \"Weight_in_lbs\": 2265, \"Acceleration\": 18.2, \"Year\": \"1977-01-01T00:00:00\", \"Origin\": \"Japan\"}, {\"Name\": \"ford mustang ii 2+2\", \"Miles_per_Gallon\": 25.5, \"Cylinders\": 4, \"Displacement\": 140.0, \"Horsepower\": 89.0, \"Weight_in_lbs\": 2755, \"Acceleration\": 15.8, \"Year\": \"1977-01-01T00:00:00\", \"Origin\": \"USA\"}, {\"Name\": \"chevrolet chevette\", \"Miles_per_Gallon\": 30.5, \"Cylinders\": 4, \"Displacement\": 98.0, \"Horsepower\": 63.0, \"Weight_in_lbs\": 2051, \"Acceleration\": 17.0, \"Year\": \"1977-01-01T00:00:00\", \"Origin\": \"USA\"}, {\"Name\": \"dodge colt m/m\", \"Miles_per_Gallon\": 33.5, \"Cylinders\": 4, \"Displacement\": 98.0, \"Horsepower\": 83.0, \"Weight_in_lbs\": 2075, \"Acceleration\": 15.9, \"Year\": \"1977-01-01T00:00:00\", \"Origin\": \"USA\"}, {\"Name\": \"subaru dl\", \"Miles_per_Gallon\": 30.0, \"Cylinders\": 4, \"Displacement\": 97.0, \"Horsepower\": 67.0, \"Weight_in_lbs\": 1985, \"Acceleration\": 16.4, \"Year\": \"1977-01-01T00:00:00\", \"Origin\": \"Japan\"}, {\"Name\": \"volkswagen dasher\", \"Miles_per_Gallon\": 30.5, \"Cylinders\": 4, \"Displacement\": 97.0, \"Horsepower\": 78.0, \"Weight_in_lbs\": 2190, \"Acceleration\": 14.1, \"Year\": \"1977-01-01T00:00:00\", \"Origin\": \"Europe\"}, {\"Name\": \"datsun 810\", \"Miles_per_Gallon\": 22.0, \"Cylinders\": 6, \"Displacement\": 146.0, \"Horsepower\": 97.0, \"Weight_in_lbs\": 2815, \"Acceleration\": 14.5, \"Year\": \"1977-01-01T00:00:00\", \"Origin\": \"Japan\"}, {\"Name\": \"bmw 320i\", \"Miles_per_Gallon\": 21.5, \"Cylinders\": 4, \"Displacement\": 121.0, \"Horsepower\": 110.0, \"Weight_in_lbs\": 2600, \"Acceleration\": 12.8, \"Year\": \"1977-01-01T00:00:00\", \"Origin\": \"Europe\"}, {\"Name\": \"mazda rx-4\", \"Miles_per_Gallon\": 21.5, \"Cylinders\": 3, \"Displacement\": 80.0, \"Horsepower\": 110.0, \"Weight_in_lbs\": 2720, \"Acceleration\": 13.5, \"Year\": \"1977-01-01T00:00:00\", \"Origin\": \"Japan\"}, {\"Name\": \"volkswagen rabbit custom diesel\", \"Miles_per_Gallon\": 43.1, \"Cylinders\": 4, \"Displacement\": 90.0, \"Horsepower\": 48.0, \"Weight_in_lbs\": 1985, \"Acceleration\": 21.5, \"Year\": \"1978-01-01T00:00:00\", \"Origin\": \"Europe\"}, {\"Name\": \"ford fiesta\", \"Miles_per_Gallon\": 36.1, \"Cylinders\": 4, \"Displacement\": 98.0, \"Horsepower\": 66.0, \"Weight_in_lbs\": 1800, \"Acceleration\": 14.4, \"Year\": \"1978-01-01T00:00:00\", \"Origin\": \"USA\"}, {\"Name\": \"mazda glc deluxe\", \"Miles_per_Gallon\": 32.8, \"Cylinders\": 4, \"Displacement\": 78.0, \"Horsepower\": 52.0, \"Weight_in_lbs\": 1985, \"Acceleration\": 19.4, \"Year\": \"1978-01-01T00:00:00\", \"Origin\": \"Japan\"}, {\"Name\": \"datsun b210 gx\", \"Miles_per_Gallon\": 39.4, \"Cylinders\": 4, \"Displacement\": 85.0, \"Horsepower\": 70.0, \"Weight_in_lbs\": 2070, \"Acceleration\": 18.6, \"Year\": \"1978-01-01T00:00:00\", \"Origin\": \"Japan\"}, {\"Name\": \"honda civic cvcc\", \"Miles_per_Gallon\": 36.1, \"Cylinders\": 4, \"Displacement\": 91.0, \"Horsepower\": 60.0, \"Weight_in_lbs\": 1800, \"Acceleration\": 16.4, \"Year\": \"1978-01-01T00:00:00\", \"Origin\": \"Japan\"}, {\"Name\": \"oldsmobile cutlass salon brougham\", \"Miles_per_Gallon\": 19.9, \"Cylinders\": 8, \"Displacement\": 260.0, \"Horsepower\": 110.0, \"Weight_in_lbs\": 3365, \"Acceleration\": 15.5, \"Year\": \"1978-01-01T00:00:00\", \"Origin\": \"USA\"}, {\"Name\": \"dodge diplomat\", \"Miles_per_Gallon\": 19.4, \"Cylinders\": 8, \"Displacement\": 318.0, \"Horsepower\": 140.0, \"Weight_in_lbs\": 3735, \"Acceleration\": 13.2, \"Year\": \"1978-01-01T00:00:00\", \"Origin\": \"USA\"}, {\"Name\": \"mercury monarch ghia\", \"Miles_per_Gallon\": 20.2, \"Cylinders\": 8, \"Displacement\": 302.0, \"Horsepower\": 139.0, \"Weight_in_lbs\": 3570, \"Acceleration\": 12.8, \"Year\": \"1978-01-01T00:00:00\", \"Origin\": \"USA\"}, {\"Name\": \"pontiac phoenix lj\", \"Miles_per_Gallon\": 19.2, \"Cylinders\": 6, \"Displacement\": 231.0, \"Horsepower\": 105.0, \"Weight_in_lbs\": 3535, \"Acceleration\": 19.2, \"Year\": \"1978-01-01T00:00:00\", \"Origin\": \"USA\"}, {\"Name\": \"chevrolet malibu\", \"Miles_per_Gallon\": 20.5, \"Cylinders\": 6, \"Displacement\": 200.0, \"Horsepower\": 95.0, \"Weight_in_lbs\": 3155, \"Acceleration\": 18.2, \"Year\": \"1978-01-01T00:00:00\", \"Origin\": \"USA\"}, {\"Name\": \"ford fairmont (auto)\", \"Miles_per_Gallon\": 20.2, \"Cylinders\": 6, \"Displacement\": 200.0, \"Horsepower\": 85.0, \"Weight_in_lbs\": 2965, \"Acceleration\": 15.8, \"Year\": \"1978-01-01T00:00:00\", \"Origin\": \"USA\"}, {\"Name\": \"ford fairmont (man)\", \"Miles_per_Gallon\": 25.1, \"Cylinders\": 4, \"Displacement\": 140.0, \"Horsepower\": 88.0, \"Weight_in_lbs\": 2720, \"Acceleration\": 15.4, \"Year\": \"1978-01-01T00:00:00\", \"Origin\": \"USA\"}, {\"Name\": \"plymouth volare\", \"Miles_per_Gallon\": 20.5, \"Cylinders\": 6, \"Displacement\": 225.0, \"Horsepower\": 100.0, \"Weight_in_lbs\": 3430, \"Acceleration\": 17.2, \"Year\": \"1978-01-01T00:00:00\", \"Origin\": \"USA\"}, {\"Name\": \"amc concord\", \"Miles_per_Gallon\": 19.4, \"Cylinders\": 6, \"Displacement\": 232.0, \"Horsepower\": 90.0, \"Weight_in_lbs\": 3210, \"Acceleration\": 17.2, \"Year\": \"1978-01-01T00:00:00\", \"Origin\": \"USA\"}, {\"Name\": \"buick century special\", \"Miles_per_Gallon\": 20.6, \"Cylinders\": 6, \"Displacement\": 231.0, \"Horsepower\": 105.0, \"Weight_in_lbs\": 3380, \"Acceleration\": 15.8, \"Year\": \"1978-01-01T00:00:00\", \"Origin\": \"USA\"}, {\"Name\": \"mercury zephyr\", \"Miles_per_Gallon\": 20.8, \"Cylinders\": 6, \"Displacement\": 200.0, \"Horsepower\": 85.0, \"Weight_in_lbs\": 3070, \"Acceleration\": 16.7, \"Year\": \"1978-01-01T00:00:00\", \"Origin\": \"USA\"}, {\"Name\": \"dodge aspen\", \"Miles_per_Gallon\": 18.6, \"Cylinders\": 6, \"Displacement\": 225.0, \"Horsepower\": 110.0, \"Weight_in_lbs\": 3620, \"Acceleration\": 18.7, \"Year\": \"1978-01-01T00:00:00\", \"Origin\": \"USA\"}, {\"Name\": \"amc concord d/l\", \"Miles_per_Gallon\": 18.1, \"Cylinders\": 6, \"Displacement\": 258.0, \"Horsepower\": 120.0, \"Weight_in_lbs\": 3410, \"Acceleration\": 15.1, \"Year\": \"1978-01-01T00:00:00\", \"Origin\": \"USA\"}, {\"Name\": \"chevrolet monte carlo landau\", \"Miles_per_Gallon\": 19.2, \"Cylinders\": 8, \"Displacement\": 305.0, \"Horsepower\": 145.0, \"Weight_in_lbs\": 3425, \"Acceleration\": 13.2, \"Year\": \"1978-01-01T00:00:00\", \"Origin\": \"USA\"}, {\"Name\": \"buick regal sport coupe (turbo)\", \"Miles_per_Gallon\": 17.7, \"Cylinders\": 6, \"Displacement\": 231.0, \"Horsepower\": 165.0, \"Weight_in_lbs\": 3445, \"Acceleration\": 13.4, \"Year\": \"1978-01-01T00:00:00\", \"Origin\": \"USA\"}, {\"Name\": \"ford futura\", \"Miles_per_Gallon\": 18.1, \"Cylinders\": 8, \"Displacement\": 302.0, \"Horsepower\": 139.0, \"Weight_in_lbs\": 3205, \"Acceleration\": 11.2, \"Year\": \"1978-01-01T00:00:00\", \"Origin\": \"USA\"}, {\"Name\": \"dodge magnum xe\", \"Miles_per_Gallon\": 17.5, \"Cylinders\": 8, \"Displacement\": 318.0, \"Horsepower\": 140.0, \"Weight_in_lbs\": 4080, \"Acceleration\": 13.7, \"Year\": \"1978-01-01T00:00:00\", \"Origin\": \"USA\"}, {\"Name\": \"chevrolet chevette\", \"Miles_per_Gallon\": 30.0, \"Cylinders\": 4, \"Displacement\": 98.0, \"Horsepower\": 68.0, \"Weight_in_lbs\": 2155, \"Acceleration\": 16.5, \"Year\": \"1978-01-01T00:00:00\", \"Origin\": \"USA\"}, {\"Name\": \"toyota corona\", \"Miles_per_Gallon\": 27.5, \"Cylinders\": 4, \"Displacement\": 134.0, \"Horsepower\": 95.0, \"Weight_in_lbs\": 2560, \"Acceleration\": 14.2, \"Year\": \"1978-01-01T00:00:00\", \"Origin\": \"Japan\"}, {\"Name\": \"datsun 510\", \"Miles_per_Gallon\": 27.2, \"Cylinders\": 4, \"Displacement\": 119.0, \"Horsepower\": 97.0, \"Weight_in_lbs\": 2300, \"Acceleration\": 14.7, \"Year\": \"1978-01-01T00:00:00\", \"Origin\": \"Japan\"}, {\"Name\": \"dodge omni\", \"Miles_per_Gallon\": 30.9, \"Cylinders\": 4, \"Displacement\": 105.0, \"Horsepower\": 75.0, \"Weight_in_lbs\": 2230, \"Acceleration\": 14.5, \"Year\": \"1978-01-01T00:00:00\", \"Origin\": \"USA\"}, {\"Name\": \"toyota celica gt liftback\", \"Miles_per_Gallon\": 21.1, \"Cylinders\": 4, \"Displacement\": 134.0, \"Horsepower\": 95.0, \"Weight_in_lbs\": 2515, \"Acceleration\": 14.8, \"Year\": \"1978-01-01T00:00:00\", \"Origin\": \"Japan\"}, {\"Name\": \"plymouth sapporo\", \"Miles_per_Gallon\": 23.2, \"Cylinders\": 4, \"Displacement\": 156.0, \"Horsepower\": 105.0, \"Weight_in_lbs\": 2745, \"Acceleration\": 16.7, \"Year\": \"1978-01-01T00:00:00\", \"Origin\": \"USA\"}, {\"Name\": \"oldsmobile starfire sx\", \"Miles_per_Gallon\": 23.8, \"Cylinders\": 4, \"Displacement\": 151.0, \"Horsepower\": 85.0, \"Weight_in_lbs\": 2855, \"Acceleration\": 17.6, \"Year\": \"1978-01-01T00:00:00\", \"Origin\": \"USA\"}, {\"Name\": \"datsun 200-sx\", \"Miles_per_Gallon\": 23.9, \"Cylinders\": 4, \"Displacement\": 119.0, \"Horsepower\": 97.0, \"Weight_in_lbs\": 2405, \"Acceleration\": 14.9, \"Year\": \"1978-01-01T00:00:00\", \"Origin\": \"Japan\"}, {\"Name\": \"audi 5000\", \"Miles_per_Gallon\": 20.3, \"Cylinders\": 5, \"Displacement\": 131.0, \"Horsepower\": 103.0, \"Weight_in_lbs\": 2830, \"Acceleration\": 15.9, \"Year\": \"1978-01-01T00:00:00\", \"Origin\": \"Europe\"}, {\"Name\": \"volvo 264gl\", \"Miles_per_Gallon\": 17.0, \"Cylinders\": 6, \"Displacement\": 163.0, \"Horsepower\": 125.0, \"Weight_in_lbs\": 3140, \"Acceleration\": 13.6, \"Year\": \"1978-01-01T00:00:00\", \"Origin\": \"Europe\"}, {\"Name\": \"saab 99gle\", \"Miles_per_Gallon\": 21.6, \"Cylinders\": 4, \"Displacement\": 121.0, \"Horsepower\": 115.0, \"Weight_in_lbs\": 2795, \"Acceleration\": 15.7, \"Year\": \"1978-01-01T00:00:00\", \"Origin\": \"Europe\"}, {\"Name\": \"peugeot 604sl\", \"Miles_per_Gallon\": 16.2, \"Cylinders\": 6, \"Displacement\": 163.0, \"Horsepower\": 133.0, \"Weight_in_lbs\": 3410, \"Acceleration\": 15.8, \"Year\": \"1978-01-01T00:00:00\", \"Origin\": \"Europe\"}, {\"Name\": \"volkswagen scirocco\", \"Miles_per_Gallon\": 31.5, \"Cylinders\": 4, \"Displacement\": 89.0, \"Horsepower\": 71.0, \"Weight_in_lbs\": 1990, \"Acceleration\": 14.9, \"Year\": \"1978-01-01T00:00:00\", \"Origin\": \"Europe\"}, {\"Name\": \"honda Accelerationord lx\", \"Miles_per_Gallon\": 29.5, \"Cylinders\": 4, \"Displacement\": 98.0, \"Horsepower\": 68.0, \"Weight_in_lbs\": 2135, \"Acceleration\": 16.6, \"Year\": \"1978-01-01T00:00:00\", \"Origin\": \"Japan\"}, {\"Name\": \"pontiac lemans v6\", \"Miles_per_Gallon\": 21.5, \"Cylinders\": 6, \"Displacement\": 231.0, \"Horsepower\": 115.0, \"Weight_in_lbs\": 3245, \"Acceleration\": 15.4, \"Year\": \"1979-01-01T00:00:00\", \"Origin\": \"USA\"}, {\"Name\": \"mercury zephyr 6\", \"Miles_per_Gallon\": 19.8, \"Cylinders\": 6, \"Displacement\": 200.0, \"Horsepower\": 85.0, \"Weight_in_lbs\": 2990, \"Acceleration\": 18.2, \"Year\": \"1979-01-01T00:00:00\", \"Origin\": \"USA\"}, {\"Name\": \"ford fairmont 4\", \"Miles_per_Gallon\": 22.3, \"Cylinders\": 4, \"Displacement\": 140.0, \"Horsepower\": 88.0, \"Weight_in_lbs\": 2890, \"Acceleration\": 17.3, \"Year\": \"1979-01-01T00:00:00\", \"Origin\": \"USA\"}, {\"Name\": \"amc concord dl 6\", \"Miles_per_Gallon\": 20.2, \"Cylinders\": 6, \"Displacement\": 232.0, \"Horsepower\": 90.0, \"Weight_in_lbs\": 3265, \"Acceleration\": 18.2, \"Year\": \"1979-01-01T00:00:00\", \"Origin\": \"USA\"}, {\"Name\": \"dodge aspen 6\", \"Miles_per_Gallon\": 20.6, \"Cylinders\": 6, \"Displacement\": 225.0, \"Horsepower\": 110.0, \"Weight_in_lbs\": 3360, \"Acceleration\": 16.6, \"Year\": \"1979-01-01T00:00:00\", \"Origin\": \"USA\"}, {\"Name\": \"chevrolet caprice classic\", \"Miles_per_Gallon\": 17.0, \"Cylinders\": 8, \"Displacement\": 305.0, \"Horsepower\": 130.0, \"Weight_in_lbs\": 3840, \"Acceleration\": 15.4, \"Year\": \"1979-01-01T00:00:00\", \"Origin\": \"USA\"}, {\"Name\": \"ford ltd landau\", \"Miles_per_Gallon\": 17.6, \"Cylinders\": 8, \"Displacement\": 302.0, \"Horsepower\": 129.0, \"Weight_in_lbs\": 3725, \"Acceleration\": 13.4, \"Year\": \"1979-01-01T00:00:00\", \"Origin\": \"USA\"}, {\"Name\": \"mercury grand marquis\", \"Miles_per_Gallon\": 16.5, \"Cylinders\": 8, \"Displacement\": 351.0, \"Horsepower\": 138.0, \"Weight_in_lbs\": 3955, \"Acceleration\": 13.2, \"Year\": \"1979-01-01T00:00:00\", \"Origin\": \"USA\"}, {\"Name\": \"dodge st. regis\", \"Miles_per_Gallon\": 18.2, \"Cylinders\": 8, \"Displacement\": 318.0, \"Horsepower\": 135.0, \"Weight_in_lbs\": 3830, \"Acceleration\": 15.2, \"Year\": \"1979-01-01T00:00:00\", \"Origin\": \"USA\"}, {\"Name\": \"buick estate wagon (sw)\", \"Miles_per_Gallon\": 16.9, \"Cylinders\": 8, \"Displacement\": 350.0, \"Horsepower\": 155.0, \"Weight_in_lbs\": 4360, \"Acceleration\": 14.9, \"Year\": \"1979-01-01T00:00:00\", \"Origin\": \"USA\"}, {\"Name\": \"ford country squire (sw)\", \"Miles_per_Gallon\": 15.5, \"Cylinders\": 8, \"Displacement\": 351.0, \"Horsepower\": 142.0, \"Weight_in_lbs\": 4054, \"Acceleration\": 14.3, \"Year\": \"1979-01-01T00:00:00\", \"Origin\": \"USA\"}, {\"Name\": \"chevrolet malibu classic (sw)\", \"Miles_per_Gallon\": 19.2, \"Cylinders\": 8, \"Displacement\": 267.0, \"Horsepower\": 125.0, \"Weight_in_lbs\": 3605, \"Acceleration\": 15.0, \"Year\": \"1979-01-01T00:00:00\", \"Origin\": \"USA\"}, {\"Name\": \"chrysler lebaron town @ country (sw)\", \"Miles_per_Gallon\": 18.5, \"Cylinders\": 8, \"Displacement\": 360.0, \"Horsepower\": 150.0, \"Weight_in_lbs\": 3940, \"Acceleration\": 13.0, \"Year\": \"1979-01-01T00:00:00\", \"Origin\": \"USA\"}, {\"Name\": \"vw rabbit custom\", \"Miles_per_Gallon\": 31.9, \"Cylinders\": 4, \"Displacement\": 89.0, \"Horsepower\": 71.0, \"Weight_in_lbs\": 1925, \"Acceleration\": 14.0, \"Year\": \"1979-01-01T00:00:00\", \"Origin\": \"Europe\"}, {\"Name\": \"maxda glc deluxe\", \"Miles_per_Gallon\": 34.1, \"Cylinders\": 4, \"Displacement\": 86.0, \"Horsepower\": 65.0, \"Weight_in_lbs\": 1975, \"Acceleration\": 15.2, \"Year\": \"1979-01-01T00:00:00\", \"Origin\": \"Japan\"}, {\"Name\": \"dodge colt hatchback custom\", \"Miles_per_Gallon\": 35.7, \"Cylinders\": 4, \"Displacement\": 98.0, \"Horsepower\": 80.0, \"Weight_in_lbs\": 1915, \"Acceleration\": 14.4, \"Year\": \"1979-01-01T00:00:00\", \"Origin\": \"USA\"}, {\"Name\": \"amc spirit dl\", \"Miles_per_Gallon\": 27.4, \"Cylinders\": 4, \"Displacement\": 121.0, \"Horsepower\": 80.0, \"Weight_in_lbs\": 2670, \"Acceleration\": 15.0, \"Year\": \"1979-01-01T00:00:00\", \"Origin\": \"USA\"}, {\"Name\": \"mercedes benz 300d\", \"Miles_per_Gallon\": 25.4, \"Cylinders\": 5, \"Displacement\": 183.0, \"Horsepower\": 77.0, \"Weight_in_lbs\": 3530, \"Acceleration\": 20.1, \"Year\": \"1979-01-01T00:00:00\", \"Origin\": \"Europe\"}, {\"Name\": \"cadillac eldorado\", \"Miles_per_Gallon\": 23.0, \"Cylinders\": 8, \"Displacement\": 350.0, \"Horsepower\": 125.0, \"Weight_in_lbs\": 3900, \"Acceleration\": 17.4, \"Year\": \"1979-01-01T00:00:00\", \"Origin\": \"USA\"}, {\"Name\": \"peugeot 504\", \"Miles_per_Gallon\": 27.2, \"Cylinders\": 4, \"Displacement\": 141.0, \"Horsepower\": 71.0, \"Weight_in_lbs\": 3190, \"Acceleration\": 24.8, \"Year\": \"1979-01-01T00:00:00\", \"Origin\": \"Europe\"}, {\"Name\": \"oldsmobile cutlass salon brougham\", \"Miles_per_Gallon\": 23.9, \"Cylinders\": 8, \"Displacement\": 260.0, \"Horsepower\": 90.0, \"Weight_in_lbs\": 3420, \"Acceleration\": 22.2, \"Year\": \"1979-01-01T00:00:00\", \"Origin\": \"USA\"}, {\"Name\": \"plymouth horizon\", \"Miles_per_Gallon\": 34.2, \"Cylinders\": 4, \"Displacement\": 105.0, \"Horsepower\": 70.0, \"Weight_in_lbs\": 2200, \"Acceleration\": 13.2, \"Year\": \"1979-01-01T00:00:00\", \"Origin\": \"USA\"}, {\"Name\": \"plymouth horizon tc3\", \"Miles_per_Gallon\": 34.5, \"Cylinders\": 4, \"Displacement\": 105.0, \"Horsepower\": 70.0, \"Weight_in_lbs\": 2150, \"Acceleration\": 14.9, \"Year\": \"1979-01-01T00:00:00\", \"Origin\": \"USA\"}, {\"Name\": \"datsun 210\", \"Miles_per_Gallon\": 31.8, \"Cylinders\": 4, \"Displacement\": 85.0, \"Horsepower\": 65.0, \"Weight_in_lbs\": 2020, \"Acceleration\": 19.2, \"Year\": \"1979-01-01T00:00:00\", \"Origin\": \"Japan\"}, {\"Name\": \"fiat strada custom\", \"Miles_per_Gallon\": 37.3, \"Cylinders\": 4, \"Displacement\": 91.0, \"Horsepower\": 69.0, \"Weight_in_lbs\": 2130, \"Acceleration\": 14.7, \"Year\": \"1979-01-01T00:00:00\", \"Origin\": \"Europe\"}, {\"Name\": \"buick skylark limited\", \"Miles_per_Gallon\": 28.4, \"Cylinders\": 4, \"Displacement\": 151.0, \"Horsepower\": 90.0, \"Weight_in_lbs\": 2670, \"Acceleration\": 16.0, \"Year\": \"1979-01-01T00:00:00\", \"Origin\": \"USA\"}, {\"Name\": \"chevrolet citation\", \"Miles_per_Gallon\": 28.8, \"Cylinders\": 6, \"Displacement\": 173.0, \"Horsepower\": 115.0, \"Weight_in_lbs\": 2595, \"Acceleration\": 11.3, \"Year\": \"1979-01-01T00:00:00\", \"Origin\": \"USA\"}, {\"Name\": \"oldsmobile omega brougham\", \"Miles_per_Gallon\": 26.8, \"Cylinders\": 6, \"Displacement\": 173.0, \"Horsepower\": 115.0, \"Weight_in_lbs\": 2700, \"Acceleration\": 12.9, \"Year\": \"1979-01-01T00:00:00\", \"Origin\": \"USA\"}, {\"Name\": \"pontiac phoenix\", \"Miles_per_Gallon\": 33.5, \"Cylinders\": 4, \"Displacement\": 151.0, \"Horsepower\": 90.0, \"Weight_in_lbs\": 2556, \"Acceleration\": 13.2, \"Year\": \"1979-01-01T00:00:00\", \"Origin\": \"USA\"}, {\"Name\": \"vw rabbit\", \"Miles_per_Gallon\": 41.5, \"Cylinders\": 4, \"Displacement\": 98.0, \"Horsepower\": 76.0, \"Weight_in_lbs\": 2144, \"Acceleration\": 14.7, \"Year\": \"1980-01-01T00:00:00\", \"Origin\": \"Europe\"}, {\"Name\": \"toyota corolla tercel\", \"Miles_per_Gallon\": 38.1, \"Cylinders\": 4, \"Displacement\": 89.0, \"Horsepower\": 60.0, \"Weight_in_lbs\": 1968, \"Acceleration\": 18.8, \"Year\": \"1980-01-01T00:00:00\", \"Origin\": \"Japan\"}, {\"Name\": \"chevrolet chevette\", \"Miles_per_Gallon\": 32.1, \"Cylinders\": 4, \"Displacement\": 98.0, \"Horsepower\": 70.0, \"Weight_in_lbs\": 2120, \"Acceleration\": 15.5, \"Year\": \"1980-01-01T00:00:00\", \"Origin\": \"USA\"}, {\"Name\": \"datsun 310\", \"Miles_per_Gallon\": 37.2, \"Cylinders\": 4, \"Displacement\": 86.0, \"Horsepower\": 65.0, \"Weight_in_lbs\": 2019, \"Acceleration\": 16.4, \"Year\": \"1980-01-01T00:00:00\", \"Origin\": \"Japan\"}, {\"Name\": \"chevrolet citation\", \"Miles_per_Gallon\": 28.0, \"Cylinders\": 4, \"Displacement\": 151.0, \"Horsepower\": 90.0, \"Weight_in_lbs\": 2678, \"Acceleration\": 16.5, \"Year\": \"1980-01-01T00:00:00\", \"Origin\": \"USA\"}, {\"Name\": \"ford fairmont\", \"Miles_per_Gallon\": 26.4, \"Cylinders\": 4, \"Displacement\": 140.0, \"Horsepower\": 88.0, \"Weight_in_lbs\": 2870, \"Acceleration\": 18.1, \"Year\": \"1980-01-01T00:00:00\", \"Origin\": \"USA\"}, {\"Name\": \"amc concord\", \"Miles_per_Gallon\": 24.3, \"Cylinders\": 4, \"Displacement\": 151.0, \"Horsepower\": 90.0, \"Weight_in_lbs\": 3003, \"Acceleration\": 20.1, \"Year\": \"1980-01-01T00:00:00\", \"Origin\": \"USA\"}, {\"Name\": \"dodge aspen\", \"Miles_per_Gallon\": 19.1, \"Cylinders\": 6, \"Displacement\": 225.0, \"Horsepower\": 90.0, \"Weight_in_lbs\": 3381, \"Acceleration\": 18.7, \"Year\": \"1980-01-01T00:00:00\", \"Origin\": \"USA\"}, {\"Name\": \"audi 4000\", \"Miles_per_Gallon\": 34.3, \"Cylinders\": 4, \"Displacement\": 97.0, \"Horsepower\": 78.0, \"Weight_in_lbs\": 2188, \"Acceleration\": 15.8, \"Year\": \"1980-01-01T00:00:00\", \"Origin\": \"Europe\"}, {\"Name\": \"toyota corona liftback\", \"Miles_per_Gallon\": 29.8, \"Cylinders\": 4, \"Displacement\": 134.0, \"Horsepower\": 90.0, \"Weight_in_lbs\": 2711, \"Acceleration\": 15.5, \"Year\": \"1980-01-01T00:00:00\", \"Origin\": \"Japan\"}, {\"Name\": \"mazda 626\", \"Miles_per_Gallon\": 31.3, \"Cylinders\": 4, \"Displacement\": 120.0, \"Horsepower\": 75.0, \"Weight_in_lbs\": 2542, \"Acceleration\": 17.5, \"Year\": \"1980-01-01T00:00:00\", \"Origin\": \"Japan\"}, {\"Name\": \"datsun 510 hatchback\", \"Miles_per_Gallon\": 37.0, \"Cylinders\": 4, \"Displacement\": 119.0, \"Horsepower\": 92.0, \"Weight_in_lbs\": 2434, \"Acceleration\": 15.0, \"Year\": \"1980-01-01T00:00:00\", \"Origin\": \"Japan\"}, {\"Name\": \"toyota corolla\", \"Miles_per_Gallon\": 32.2, \"Cylinders\": 4, \"Displacement\": 108.0, \"Horsepower\": 75.0, \"Weight_in_lbs\": 2265, \"Acceleration\": 15.2, \"Year\": \"1980-01-01T00:00:00\", \"Origin\": \"Japan\"}, {\"Name\": \"mazda glc\", \"Miles_per_Gallon\": 46.6, \"Cylinders\": 4, \"Displacement\": 86.0, \"Horsepower\": 65.0, \"Weight_in_lbs\": 2110, \"Acceleration\": 17.9, \"Year\": \"1980-01-01T00:00:00\", \"Origin\": \"Japan\"}, {\"Name\": \"dodge colt\", \"Miles_per_Gallon\": 27.9, \"Cylinders\": 4, \"Displacement\": 156.0, \"Horsepower\": 105.0, \"Weight_in_lbs\": 2800, \"Acceleration\": 14.4, \"Year\": \"1980-01-01T00:00:00\", \"Origin\": \"USA\"}, {\"Name\": \"datsun 210\", \"Miles_per_Gallon\": 40.8, \"Cylinders\": 4, \"Displacement\": 85.0, \"Horsepower\": 65.0, \"Weight_in_lbs\": 2110, \"Acceleration\": 19.2, \"Year\": \"1980-01-01T00:00:00\", \"Origin\": \"Japan\"}, {\"Name\": \"vw rabbit c (diesel)\", \"Miles_per_Gallon\": 44.3, \"Cylinders\": 4, \"Displacement\": 90.0, \"Horsepower\": 48.0, \"Weight_in_lbs\": 2085, \"Acceleration\": 21.7, \"Year\": \"1980-01-01T00:00:00\", \"Origin\": \"Europe\"}, {\"Name\": \"vw dasher (diesel)\", \"Miles_per_Gallon\": 43.4, \"Cylinders\": 4, \"Displacement\": 90.0, \"Horsepower\": 48.0, \"Weight_in_lbs\": 2335, \"Acceleration\": 23.7, \"Year\": \"1980-01-01T00:00:00\", \"Origin\": \"Europe\"}, {\"Name\": \"audi 5000s (diesel)\", \"Miles_per_Gallon\": 36.4, \"Cylinders\": 5, \"Displacement\": 121.0, \"Horsepower\": 67.0, \"Weight_in_lbs\": 2950, \"Acceleration\": 19.9, \"Year\": \"1980-01-01T00:00:00\", \"Origin\": \"Europe\"}, {\"Name\": \"mercedes-benz 240d\", \"Miles_per_Gallon\": 30.0, \"Cylinders\": 4, \"Displacement\": 146.0, \"Horsepower\": 67.0, \"Weight_in_lbs\": 3250, \"Acceleration\": 21.8, \"Year\": \"1980-01-01T00:00:00\", \"Origin\": \"Europe\"}, {\"Name\": \"honda civic 1500 gl\", \"Miles_per_Gallon\": 44.6, \"Cylinders\": 4, \"Displacement\": 91.0, \"Horsepower\": 67.0, \"Weight_in_lbs\": 1850, \"Acceleration\": 13.8, \"Year\": \"1980-01-01T00:00:00\", \"Origin\": \"Japan\"}, {\"Name\": \"renault lecar deluxe\", \"Miles_per_Gallon\": 40.9, \"Cylinders\": 4, \"Displacement\": 85.0, \"Horsepower\": null, \"Weight_in_lbs\": 1835, \"Acceleration\": 17.3, \"Year\": \"1980-01-01T00:00:00\", \"Origin\": \"Europe\"}, {\"Name\": \"subaru dl\", \"Miles_per_Gallon\": 33.8, \"Cylinders\": 4, \"Displacement\": 97.0, \"Horsepower\": 67.0, \"Weight_in_lbs\": 2145, \"Acceleration\": 18.0, \"Year\": \"1980-01-01T00:00:00\", \"Origin\": \"Japan\"}, {\"Name\": \"vokswagen rabbit\", \"Miles_per_Gallon\": 29.8, \"Cylinders\": 4, \"Displacement\": 89.0, \"Horsepower\": 62.0, \"Weight_in_lbs\": 1845, \"Acceleration\": 15.3, \"Year\": \"1980-01-01T00:00:00\", \"Origin\": \"Europe\"}, {\"Name\": \"datsun 280-zx\", \"Miles_per_Gallon\": 32.7, \"Cylinders\": 6, \"Displacement\": 168.0, \"Horsepower\": 132.0, \"Weight_in_lbs\": 2910, \"Acceleration\": 11.4, \"Year\": \"1980-01-01T00:00:00\", \"Origin\": \"Japan\"}, {\"Name\": \"mazda rx-7 gs\", \"Miles_per_Gallon\": 23.7, \"Cylinders\": 3, \"Displacement\": 70.0, \"Horsepower\": 100.0, \"Weight_in_lbs\": 2420, \"Acceleration\": 12.5, \"Year\": \"1980-01-01T00:00:00\", \"Origin\": \"Japan\"}, {\"Name\": \"triumph tr7 coupe\", \"Miles_per_Gallon\": 35.0, \"Cylinders\": 4, \"Displacement\": 122.0, \"Horsepower\": 88.0, \"Weight_in_lbs\": 2500, \"Acceleration\": 15.1, \"Year\": \"1980-01-01T00:00:00\", \"Origin\": \"Europe\"}, {\"Name\": \"ford mustang cobra\", \"Miles_per_Gallon\": 23.6, \"Cylinders\": 4, \"Displacement\": 140.0, \"Horsepower\": null, \"Weight_in_lbs\": 2905, \"Acceleration\": 14.3, \"Year\": \"1980-01-01T00:00:00\", \"Origin\": \"USA\"}, {\"Name\": \"honda Accelerationord\", \"Miles_per_Gallon\": 32.4, \"Cylinders\": 4, \"Displacement\": 107.0, \"Horsepower\": 72.0, \"Weight_in_lbs\": 2290, \"Acceleration\": 17.0, \"Year\": \"1980-01-01T00:00:00\", \"Origin\": \"Japan\"}, {\"Name\": \"plymouth reliant\", \"Miles_per_Gallon\": 27.2, \"Cylinders\": 4, \"Displacement\": 135.0, \"Horsepower\": 84.0, \"Weight_in_lbs\": 2490, \"Acceleration\": 15.7, \"Year\": \"1982-01-01T00:00:00\", \"Origin\": \"USA\"}, {\"Name\": \"buick skylark\", \"Miles_per_Gallon\": 26.6, \"Cylinders\": 4, \"Displacement\": 151.0, \"Horsepower\": 84.0, \"Weight_in_lbs\": 2635, \"Acceleration\": 16.4, \"Year\": \"1982-01-01T00:00:00\", \"Origin\": \"USA\"}, {\"Name\": \"dodge aries wagon (sw)\", \"Miles_per_Gallon\": 25.8, \"Cylinders\": 4, \"Displacement\": 156.0, \"Horsepower\": 92.0, \"Weight_in_lbs\": 2620, \"Acceleration\": 14.4, \"Year\": \"1982-01-01T00:00:00\", \"Origin\": \"USA\"}, {\"Name\": \"chevrolet citation\", \"Miles_per_Gallon\": 23.5, \"Cylinders\": 6, \"Displacement\": 173.0, \"Horsepower\": 110.0, \"Weight_in_lbs\": 2725, \"Acceleration\": 12.6, \"Year\": \"1982-01-01T00:00:00\", \"Origin\": \"USA\"}, {\"Name\": \"plymouth reliant\", \"Miles_per_Gallon\": 30.0, \"Cylinders\": 4, \"Displacement\": 135.0, \"Horsepower\": 84.0, \"Weight_in_lbs\": 2385, \"Acceleration\": 12.9, \"Year\": \"1982-01-01T00:00:00\", \"Origin\": \"USA\"}, {\"Name\": \"toyota starlet\", \"Miles_per_Gallon\": 39.1, \"Cylinders\": 4, \"Displacement\": 79.0, \"Horsepower\": 58.0, \"Weight_in_lbs\": 1755, \"Acceleration\": 16.9, \"Year\": \"1982-01-01T00:00:00\", \"Origin\": \"Japan\"}, {\"Name\": \"plymouth champ\", \"Miles_per_Gallon\": 39.0, \"Cylinders\": 4, \"Displacement\": 86.0, \"Horsepower\": 64.0, \"Weight_in_lbs\": 1875, \"Acceleration\": 16.4, \"Year\": \"1982-01-01T00:00:00\", \"Origin\": \"USA\"}, {\"Name\": \"honda civic 1300\", \"Miles_per_Gallon\": 35.1, \"Cylinders\": 4, \"Displacement\": 81.0, \"Horsepower\": 60.0, \"Weight_in_lbs\": 1760, \"Acceleration\": 16.1, \"Year\": \"1982-01-01T00:00:00\", \"Origin\": \"Japan\"}, {\"Name\": \"subaru\", \"Miles_per_Gallon\": 32.3, \"Cylinders\": 4, \"Displacement\": 97.0, \"Horsepower\": 67.0, \"Weight_in_lbs\": 2065, \"Acceleration\": 17.8, \"Year\": \"1982-01-01T00:00:00\", \"Origin\": \"Japan\"}, {\"Name\": \"datsun 210\", \"Miles_per_Gallon\": 37.0, \"Cylinders\": 4, \"Displacement\": 85.0, \"Horsepower\": 65.0, \"Weight_in_lbs\": 1975, \"Acceleration\": 19.4, \"Year\": \"1982-01-01T00:00:00\", \"Origin\": \"Japan\"}, {\"Name\": \"toyota tercel\", \"Miles_per_Gallon\": 37.7, \"Cylinders\": 4, \"Displacement\": 89.0, \"Horsepower\": 62.0, \"Weight_in_lbs\": 2050, \"Acceleration\": 17.3, \"Year\": \"1982-01-01T00:00:00\", \"Origin\": \"Japan\"}, {\"Name\": \"mazda glc 4\", \"Miles_per_Gallon\": 34.1, \"Cylinders\": 4, \"Displacement\": 91.0, \"Horsepower\": 68.0, \"Weight_in_lbs\": 1985, \"Acceleration\": 16.0, \"Year\": \"1982-01-01T00:00:00\", \"Origin\": \"Japan\"}, {\"Name\": \"plymouth horizon 4\", \"Miles_per_Gallon\": 34.7, \"Cylinders\": 4, \"Displacement\": 105.0, \"Horsepower\": 63.0, \"Weight_in_lbs\": 2215, \"Acceleration\": 14.9, \"Year\": \"1982-01-01T00:00:00\", \"Origin\": \"USA\"}, {\"Name\": \"ford escort 4w\", \"Miles_per_Gallon\": 34.4, \"Cylinders\": 4, \"Displacement\": 98.0, \"Horsepower\": 65.0, \"Weight_in_lbs\": 2045, \"Acceleration\": 16.2, \"Year\": \"1982-01-01T00:00:00\", \"Origin\": \"USA\"}, {\"Name\": \"ford escort 2h\", \"Miles_per_Gallon\": 29.9, \"Cylinders\": 4, \"Displacement\": 98.0, \"Horsepower\": 65.0, \"Weight_in_lbs\": 2380, \"Acceleration\": 20.7, \"Year\": \"1982-01-01T00:00:00\", \"Origin\": \"USA\"}, {\"Name\": \"volkswagen jetta\", \"Miles_per_Gallon\": 33.0, \"Cylinders\": 4, \"Displacement\": 105.0, \"Horsepower\": 74.0, \"Weight_in_lbs\": 2190, \"Acceleration\": 14.2, \"Year\": \"1982-01-01T00:00:00\", \"Origin\": \"Europe\"}, {\"Name\": \"renault 18i\", \"Miles_per_Gallon\": 34.5, \"Cylinders\": 4, \"Displacement\": 100.0, \"Horsepower\": null, \"Weight_in_lbs\": 2320, \"Acceleration\": 15.8, \"Year\": \"1982-01-01T00:00:00\", \"Origin\": \"Europe\"}, {\"Name\": \"honda prelude\", \"Miles_per_Gallon\": 33.7, \"Cylinders\": 4, \"Displacement\": 107.0, \"Horsepower\": 75.0, \"Weight_in_lbs\": 2210, \"Acceleration\": 14.4, \"Year\": \"1982-01-01T00:00:00\", \"Origin\": \"Japan\"}, {\"Name\": \"toyota corolla\", \"Miles_per_Gallon\": 32.4, \"Cylinders\": 4, \"Displacement\": 108.0, \"Horsepower\": 75.0, \"Weight_in_lbs\": 2350, \"Acceleration\": 16.8, \"Year\": \"1982-01-01T00:00:00\", \"Origin\": \"Japan\"}, {\"Name\": \"datsun 200sx\", \"Miles_per_Gallon\": 32.9, \"Cylinders\": 4, \"Displacement\": 119.0, \"Horsepower\": 100.0, \"Weight_in_lbs\": 2615, \"Acceleration\": 14.8, \"Year\": \"1982-01-01T00:00:00\", \"Origin\": \"Japan\"}, {\"Name\": \"mazda 626\", \"Miles_per_Gallon\": 31.6, \"Cylinders\": 4, \"Displacement\": 120.0, \"Horsepower\": 74.0, \"Weight_in_lbs\": 2635, \"Acceleration\": 18.3, \"Year\": \"1982-01-01T00:00:00\", \"Origin\": \"Japan\"}, {\"Name\": \"peugeot 505s turbo diesel\", \"Miles_per_Gallon\": 28.1, \"Cylinders\": 4, \"Displacement\": 141.0, \"Horsepower\": 80.0, \"Weight_in_lbs\": 3230, \"Acceleration\": 20.4, \"Year\": \"1982-01-01T00:00:00\", \"Origin\": \"Europe\"}, {\"Name\": \"saab 900s\", \"Miles_per_Gallon\": null, \"Cylinders\": 4, \"Displacement\": 121.0, \"Horsepower\": 110.0, \"Weight_in_lbs\": 2800, \"Acceleration\": 15.4, \"Year\": \"1982-01-01T00:00:00\", \"Origin\": \"Europe\"}, {\"Name\": \"volvo diesel\", \"Miles_per_Gallon\": 30.7, \"Cylinders\": 6, \"Displacement\": 145.0, \"Horsepower\": 76.0, \"Weight_in_lbs\": 3160, \"Acceleration\": 19.6, \"Year\": \"1982-01-01T00:00:00\", \"Origin\": \"Europe\"}, {\"Name\": \"toyota cressida\", \"Miles_per_Gallon\": 25.4, \"Cylinders\": 6, \"Displacement\": 168.0, \"Horsepower\": 116.0, \"Weight_in_lbs\": 2900, \"Acceleration\": 12.6, \"Year\": \"1982-01-01T00:00:00\", \"Origin\": \"Japan\"}, {\"Name\": \"datsun 810 maxima\", \"Miles_per_Gallon\": 24.2, \"Cylinders\": 6, \"Displacement\": 146.0, \"Horsepower\": 120.0, \"Weight_in_lbs\": 2930, \"Acceleration\": 13.8, \"Year\": \"1982-01-01T00:00:00\", \"Origin\": \"Japan\"}, {\"Name\": \"buick century\", \"Miles_per_Gallon\": 22.4, \"Cylinders\": 6, \"Displacement\": 231.0, \"Horsepower\": 110.0, \"Weight_in_lbs\": 3415, \"Acceleration\": 15.8, \"Year\": \"1982-01-01T00:00:00\", \"Origin\": \"USA\"}, {\"Name\": \"oldsmobile cutlass ls\", \"Miles_per_Gallon\": 26.6, \"Cylinders\": 8, \"Displacement\": 350.0, \"Horsepower\": 105.0, \"Weight_in_lbs\": 3725, \"Acceleration\": 19.0, \"Year\": \"1982-01-01T00:00:00\", \"Origin\": \"USA\"}, {\"Name\": \"ford granada gl\", \"Miles_per_Gallon\": 20.2, \"Cylinders\": 6, \"Displacement\": 200.0, \"Horsepower\": 88.0, \"Weight_in_lbs\": 3060, \"Acceleration\": 17.1, \"Year\": \"1982-01-01T00:00:00\", \"Origin\": \"USA\"}, {\"Name\": \"chrysler lebaron salon\", \"Miles_per_Gallon\": 17.6, \"Cylinders\": 6, \"Displacement\": 225.0, \"Horsepower\": 85.0, \"Weight_in_lbs\": 3465, \"Acceleration\": 16.6, \"Year\": \"1982-01-01T00:00:00\", \"Origin\": \"USA\"}, {\"Name\": \"chevrolet cavalier\", \"Miles_per_Gallon\": 28.0, \"Cylinders\": 4, \"Displacement\": 112.0, \"Horsepower\": 88.0, \"Weight_in_lbs\": 2605, \"Acceleration\": 19.6, \"Year\": \"1982-01-01T00:00:00\", \"Origin\": \"USA\"}, {\"Name\": \"chevrolet cavalier wagon\", \"Miles_per_Gallon\": 27.0, \"Cylinders\": 4, \"Displacement\": 112.0, \"Horsepower\": 88.0, \"Weight_in_lbs\": 2640, \"Acceleration\": 18.6, \"Year\": \"1982-01-01T00:00:00\", \"Origin\": \"USA\"}, {\"Name\": \"chevrolet cavalier 2-door\", \"Miles_per_Gallon\": 34.0, \"Cylinders\": 4, \"Displacement\": 112.0, \"Horsepower\": 88.0, \"Weight_in_lbs\": 2395, \"Acceleration\": 18.0, \"Year\": \"1982-01-01T00:00:00\", \"Origin\": \"USA\"}, {\"Name\": \"pontiac j2000 se hatchback\", \"Miles_per_Gallon\": 31.0, \"Cylinders\": 4, \"Displacement\": 112.0, \"Horsepower\": 85.0, \"Weight_in_lbs\": 2575, \"Acceleration\": 16.2, \"Year\": \"1982-01-01T00:00:00\", \"Origin\": \"USA\"}, {\"Name\": \"dodge aries se\", \"Miles_per_Gallon\": 29.0, \"Cylinders\": 4, \"Displacement\": 135.0, \"Horsepower\": 84.0, \"Weight_in_lbs\": 2525, \"Acceleration\": 16.0, \"Year\": \"1982-01-01T00:00:00\", \"Origin\": \"USA\"}, {\"Name\": \"pontiac phoenix\", \"Miles_per_Gallon\": 27.0, \"Cylinders\": 4, \"Displacement\": 151.0, \"Horsepower\": 90.0, \"Weight_in_lbs\": 2735, \"Acceleration\": 18.0, \"Year\": \"1982-01-01T00:00:00\", \"Origin\": \"USA\"}, {\"Name\": \"ford fairmont futura\", \"Miles_per_Gallon\": 24.0, \"Cylinders\": 4, \"Displacement\": 140.0, \"Horsepower\": 92.0, \"Weight_in_lbs\": 2865, \"Acceleration\": 16.4, \"Year\": \"1982-01-01T00:00:00\", \"Origin\": \"USA\"}, {\"Name\": \"amc concord dl\", \"Miles_per_Gallon\": 23.0, \"Cylinders\": 4, \"Displacement\": 151.0, \"Horsepower\": null, \"Weight_in_lbs\": 3035, \"Acceleration\": 20.5, \"Year\": \"1982-01-01T00:00:00\", \"Origin\": \"USA\"}, {\"Name\": \"volkswagen rabbit l\", \"Miles_per_Gallon\": 36.0, \"Cylinders\": 4, \"Displacement\": 105.0, \"Horsepower\": 74.0, \"Weight_in_lbs\": 1980, \"Acceleration\": 15.3, \"Year\": \"1982-01-01T00:00:00\", \"Origin\": \"Europe\"}, {\"Name\": \"mazda glc custom l\", \"Miles_per_Gallon\": 37.0, \"Cylinders\": 4, \"Displacement\": 91.0, \"Horsepower\": 68.0, \"Weight_in_lbs\": 2025, \"Acceleration\": 18.2, \"Year\": \"1982-01-01T00:00:00\", \"Origin\": \"Japan\"}, {\"Name\": \"mazda glc custom\", \"Miles_per_Gallon\": 31.0, \"Cylinders\": 4, \"Displacement\": 91.0, \"Horsepower\": 68.0, \"Weight_in_lbs\": 1970, \"Acceleration\": 17.6, \"Year\": \"1982-01-01T00:00:00\", \"Origin\": \"Japan\"}, {\"Name\": \"plymouth horizon miser\", \"Miles_per_Gallon\": 38.0, \"Cylinders\": 4, \"Displacement\": 105.0, \"Horsepower\": 63.0, \"Weight_in_lbs\": 2125, \"Acceleration\": 14.7, \"Year\": \"1982-01-01T00:00:00\", \"Origin\": \"USA\"}, {\"Name\": \"mercury lynx l\", \"Miles_per_Gallon\": 36.0, \"Cylinders\": 4, \"Displacement\": 98.0, \"Horsepower\": 70.0, \"Weight_in_lbs\": 2125, \"Acceleration\": 17.3, \"Year\": \"1982-01-01T00:00:00\", \"Origin\": \"USA\"}, {\"Name\": \"nissan stanza xe\", \"Miles_per_Gallon\": 36.0, \"Cylinders\": 4, \"Displacement\": 120.0, \"Horsepower\": 88.0, \"Weight_in_lbs\": 2160, \"Acceleration\": 14.5, \"Year\": \"1982-01-01T00:00:00\", \"Origin\": \"Japan\"}, {\"Name\": \"honda Accelerationord\", \"Miles_per_Gallon\": 36.0, \"Cylinders\": 4, \"Displacement\": 107.0, \"Horsepower\": 75.0, \"Weight_in_lbs\": 2205, \"Acceleration\": 14.5, \"Year\": \"1982-01-01T00:00:00\", \"Origin\": \"Japan\"}, {\"Name\": \"toyota corolla\", \"Miles_per_Gallon\": 34.0, \"Cylinders\": 4, \"Displacement\": 108.0, \"Horsepower\": 70.0, \"Weight_in_lbs\": 2245, \"Acceleration\": 16.9, \"Year\": \"1982-01-01T00:00:00\", \"Origin\": \"Japan\"}, {\"Name\": \"honda civic\", \"Miles_per_Gallon\": 38.0, \"Cylinders\": 4, \"Displacement\": 91.0, \"Horsepower\": 67.0, \"Weight_in_lbs\": 1965, \"Acceleration\": 15.0, \"Year\": \"1982-01-01T00:00:00\", \"Origin\": \"Japan\"}, {\"Name\": \"honda civic (auto)\", \"Miles_per_Gallon\": 32.0, \"Cylinders\": 4, \"Displacement\": 91.0, \"Horsepower\": 67.0, \"Weight_in_lbs\": 1965, \"Acceleration\": 15.7, \"Year\": \"1982-01-01T00:00:00\", \"Origin\": \"Japan\"}, {\"Name\": \"datsun 310 gx\", \"Miles_per_Gallon\": 38.0, \"Cylinders\": 4, \"Displacement\": 91.0, \"Horsepower\": 67.0, \"Weight_in_lbs\": 1995, \"Acceleration\": 16.2, \"Year\": \"1982-01-01T00:00:00\", \"Origin\": \"Japan\"}, {\"Name\": \"buick century limited\", \"Miles_per_Gallon\": 25.0, \"Cylinders\": 6, \"Displacement\": 181.0, \"Horsepower\": 110.0, \"Weight_in_lbs\": 2945, \"Acceleration\": 16.4, \"Year\": \"1982-01-01T00:00:00\", \"Origin\": \"USA\"}, {\"Name\": \"oldsmobile cutlass ciera (diesel)\", \"Miles_per_Gallon\": 38.0, \"Cylinders\": 6, \"Displacement\": 262.0, \"Horsepower\": 85.0, \"Weight_in_lbs\": 3015, \"Acceleration\": 17.0, \"Year\": \"1982-01-01T00:00:00\", \"Origin\": \"USA\"}, {\"Name\": \"chrysler lebaron medallion\", \"Miles_per_Gallon\": 26.0, \"Cylinders\": 4, \"Displacement\": 156.0, \"Horsepower\": 92.0, \"Weight_in_lbs\": 2585, \"Acceleration\": 14.5, \"Year\": \"1982-01-01T00:00:00\", \"Origin\": \"USA\"}, {\"Name\": \"ford granada l\", \"Miles_per_Gallon\": 22.0, \"Cylinders\": 6, \"Displacement\": 232.0, \"Horsepower\": 112.0, \"Weight_in_lbs\": 2835, \"Acceleration\": 14.7, \"Year\": \"1982-01-01T00:00:00\", \"Origin\": \"USA\"}, {\"Name\": \"toyota celica gt\", \"Miles_per_Gallon\": 32.0, \"Cylinders\": 4, \"Displacement\": 144.0, \"Horsepower\": 96.0, \"Weight_in_lbs\": 2665, \"Acceleration\": 13.9, \"Year\": \"1982-01-01T00:00:00\", \"Origin\": \"Japan\"}, {\"Name\": \"dodge charger 2.2\", \"Miles_per_Gallon\": 36.0, \"Cylinders\": 4, \"Displacement\": 135.0, \"Horsepower\": 84.0, \"Weight_in_lbs\": 2370, \"Acceleration\": 13.0, \"Year\": \"1982-01-01T00:00:00\", \"Origin\": \"USA\"}, {\"Name\": \"chevrolet camaro\", \"Miles_per_Gallon\": 27.0, \"Cylinders\": 4, \"Displacement\": 151.0, \"Horsepower\": 90.0, \"Weight_in_lbs\": 2950, \"Acceleration\": 17.3, \"Year\": \"1982-01-01T00:00:00\", \"Origin\": \"USA\"}, {\"Name\": \"ford mustang gl\", \"Miles_per_Gallon\": 27.0, \"Cylinders\": 4, \"Displacement\": 140.0, \"Horsepower\": 86.0, \"Weight_in_lbs\": 2790, \"Acceleration\": 15.6, \"Year\": \"1982-01-01T00:00:00\", \"Origin\": \"USA\"}, {\"Name\": \"vw pickup\", \"Miles_per_Gallon\": 44.0, \"Cylinders\": 4, \"Displacement\": 97.0, \"Horsepower\": 52.0, \"Weight_in_lbs\": 2130, \"Acceleration\": 24.6, \"Year\": \"1982-01-01T00:00:00\", \"Origin\": \"Europe\"}, {\"Name\": \"dodge rampage\", \"Miles_per_Gallon\": 32.0, \"Cylinders\": 4, \"Displacement\": 135.0, \"Horsepower\": 84.0, \"Weight_in_lbs\": 2295, \"Acceleration\": 11.6, \"Year\": \"1982-01-01T00:00:00\", \"Origin\": \"USA\"}, {\"Name\": \"ford ranger\", \"Miles_per_Gallon\": 28.0, \"Cylinders\": 4, \"Displacement\": 120.0, \"Horsepower\": 79.0, \"Weight_in_lbs\": 2625, \"Acceleration\": 18.6, \"Year\": \"1982-01-01T00:00:00\", \"Origin\": \"USA\"}, {\"Name\": \"chevy s-10\", \"Miles_per_Gallon\": 31.0, \"Cylinders\": 4, \"Displacement\": 119.0, \"Horsepower\": 82.0, \"Weight_in_lbs\": 2720, \"Acceleration\": 19.4, \"Year\": \"1982-01-01T00:00:00\", \"Origin\": \"USA\"}]}}, {\"mode\": \"vega-lite\"});\n",
              "</script>"
            ]
          },
          "metadata": {
            "tags": []
          },
          "execution_count": 1
        }
      ]
    },
    {
      "cell_type": "markdown",
      "metadata": {
        "id": "wjqkP0J4cdbs",
        "colab_type": "text"
      },
      "source": [
        "##E. OpenCV : Show image file"
      ]
    },
    {
      "cell_type": "code",
      "metadata": {
        "id": "oeZU75kpciJM",
        "colab_type": "code",
        "colab": {}
      },
      "source": [
        "# support JPG PNG TIFF etc.\n",
        "import cv2\n",
        "img = cv2.imread('D:/image-1.png') #Display image but WON'T display transparency\n",
        "img = cv2.imread('D:/image-1.png', cv2.IMREAD_UNCHANGED) # Display image without any change (may display transparency etc.)\n",
        "img = cv2.imread('D:/image-1.png', cv2.IMREAD_GRAYSCALE) # Display image in grey scale\n"
      ],
      "execution_count": null,
      "outputs": []
    },
    {
      "cell_type": "markdown",
      "metadata": {
        "id": "Yq9YJufAAEnF",
        "colab_type": "text"
      },
      "source": [
        "#**5. DATA CLEANING**\n",
        "\n",
        "---"
      ]
    },
    {
      "cell_type": "markdown",
      "metadata": {
        "id": "q-0SNXd1ARRI",
        "colab_type": "text"
      },
      "source": [
        "##A. NAN"
      ]
    },
    {
      "cell_type": "code",
      "metadata": {
        "id": "J9G4vFfEBTRX",
        "colab_type": "code",
        "colab": {}
      },
      "source": [
        "# Get True / False if any Nans in each values\n",
        "dataset.isnull().any()\n",
        "\n",
        "#Get count of Nans per features => descending count\n",
        "dataset.isnull().sum().sort_values(ascending=False)\n",
        "\n",
        "# See in %\n",
        "a = dataset.isnull().sum()/dataset.shape[0]*100\n",
        "a.sort_values(ascending=False)\n",
        "\n",
        "# See % of NaN per columns\n",
        "for i in dataset.columns:\n",
        "  print(\"{} count NaN : {}\".format(\n",
        "      i, round(ds[i].isnull().sum()/len(ds),2)\n",
        "  ))\n",
        "\n",
        "# VISUALISATION : To see if nan value per column in HEATMAP\n",
        "fig, ax = plt.subplots(figsize=(18,10))\n",
        "_ = sns.heatmap(dataset.isnull(), cmap=\"YlGnBu\", yticklabels=False, ax=ax)\n",
        "\n",
        "# REPLACE NaN\n",
        "ds.fillna(0) #  replace all NaN by 0\n",
        "\n",
        "# Replace by means / standard error => Example with Age\n",
        "age_avg = data['Age'].mean()\n",
        "age_std = data['Age'].std()\n",
        "age_null_count = data['Age'].isnull().sum()\n",
        "age_null_random_list = np.random.randint(age_avg - age_std, age_avg + age_std, size=age_null_count)\n",
        "data['Age'][np.isnan(data['Age'])] = age_null_random_list"
      ],
      "execution_count": null,
      "outputs": []
    },
    {
      "cell_type": "code",
      "metadata": {
        "id": "Z_wIK_oG-I_Z",
        "colab_type": "code",
        "colab": {}
      },
      "source": [
        ""
      ],
      "execution_count": null,
      "outputs": []
    },
    {
      "cell_type": "markdown",
      "metadata": {
        "id": "Xm5-n8dlEI0o",
        "colab_type": "text"
      },
      "source": [
        "# **6. SUPERVISED MACHINE LEARNING**\n",
        "---"
      ]
    },
    {
      "cell_type": "markdown",
      "metadata": {
        "id": "3FkXL-c_EWXu",
        "colab_type": "text"
      },
      "source": [
        "## **SKLEARN**\n",
        "\n",
        "Got many tidy datasets using the same layout :\n",
        "- **no nan**\n",
        "- DESCR to get all pieces of information about each dataset => IMPORTANT : **print**\n",
        "- data => Explanatory variable => \"x\"\n",
        "- feature_names => every column name for the explanatory variable (sorted properly)\n",
        "- filename => where is stored the dataset file locally\n",
        "- target => Target variable => \"y\"\n",
        "- target_names => Target variable column name or value meaning"
      ]
    },
    {
      "cell_type": "code",
      "metadata": {
        "id": "wFyG1ezjEkBP",
        "colab_type": "code",
        "colab": {}
      },
      "source": [
        "# Sklearn got many tidy datasets using the same layout (no nan / DESCR )\n",
        "from sklearn.datasets import load_breast_cancer\n",
        "cancer = load_breast_cancer()\n",
        "\n",
        "# We recommande to change from array to DataFrame format\n",
        "X = pd.DataFrame(cancer.data, columns=cancer.feature_names)\n",
        "# Create y data set or add to the end of main dataset\n",
        "y = pd.DataFrame(cancer.target, columns=[\"cancer\"])\n",
        "\n",
        "# or can add to X using pd.Series but eventually longer\n",
        "X[\"cancer\"] = pd.Series(cancer.target)"
      ],
      "execution_count": null,
      "outputs": []
    },
    {
      "cell_type": "markdown",
      "metadata": {
        "id": "Xt46g1PzPiuh",
        "colab_type": "text"
      },
      "source": [
        "## A. PREPARATION FOR ML"
      ]
    },
    {
      "cell_type": "markdown",
      "metadata": {
        "id": "LFCabjm7Aakj",
        "colab_type": "text"
      },
      "source": [
        "> Split X, y in X_train and X_test"
      ]
    },
    {
      "cell_type": "code",
      "metadata": {
        "id": "iqIh8UTcF1rB",
        "colab_type": "code",
        "colab": {}
      },
      "source": [
        "# Create Train and Test samples\n",
        "from sklearn.model_selection import train_test_split\n",
        "X_train, X_test, y_train, y_test = train_test_split(X, y, test_size=0.3, random_state=0, stratify = y)\n",
        "# random_state => seed for randomization\n",
        "# stratify => put the value to stratify so that same split in train as in original => so if y = 0 or 1 with 75% 0 in full dataset then in train will get 75% of 0 as well \n",
        "# CANNOT use stratify if only 1 y value\n",
        "\n",
        "# Can split in multiple X 2 by 2\n",
        "X_train_num, X_test_num, X_train_cat, X_test_cat, y_train, y_test = train_test_split(X_num, X_cat, y, test_size=0.3, random_state=0)"
      ],
      "execution_count": null,
      "outputs": []
    },
    {
      "cell_type": "markdown",
      "metadata": {
        "id": "lSdJH6ZExoV3",
        "colab_type": "text"
      },
      "source": [
        "> Normalisation"
      ]
    },
    {
      "cell_type": "code",
      "metadata": {
        "id": "9oJLaIvQNKp8",
        "colab_type": "code",
        "colab": {}
      },
      "source": [
        "# Normalization\n",
        "# MANDATORY FOR :\n",
        "# PCA\n",
        "# NOT MANDATORY BUT GOOD PRACTICE :\n",
        "# ALD / LINEAR REGRESSION / LOGISTIC REGRESSION\n",
        "# DO NOT DO IT :\n",
        "# DECISION or RANDOM TREE\n",
        "# we use DataFrame to get user friendly output\n",
        "from sklearn.preprocessing import StandardScaler\n",
        "sc = StandardScaler()\n",
        "\n",
        "X_train = pd.DataFrame(sc.fit_transform(X_train), columns = ds.columns, index = ds.index)\n",
        "X_test = pd.DataFrame(sc.transform(X_test), columns = ds.columns, index = ds.index) # NEVER fit the Test  \n",
        "# fit_transfrom will do fit & transform within same action => you fit and transform the X train "
      ],
      "execution_count": null,
      "outputs": []
    },
    {
      "cell_type": "markdown",
      "metadata": {
        "id": "3NgyrOc_sPi6",
        "colab_type": "text"
      },
      "source": [
        "> Discretization"
      ]
    },
    {
      "cell_type": "code",
      "metadata": {
        "id": "uF1Yk3YVsSJK",
        "colab_type": "code",
        "colab": {}
      },
      "source": [
        "# Discretization => transform continuous value in discrete ones => usefull for NaivesBayes Bernouilli or Decision Tree or Random Forest\n",
        "from sklearn.preprocessing import KBinsDiscretizer\n",
        "\n",
        "kb = KBinsDiscretizer(n_bins=10, strategy='quantile', encode = \"ordinal\") # can change 'strategy=uniform' to get bloc\n",
        "X_train_discrete = pd.DataFrame(kb.fit_transform(X_train), columns=X_train.columns, dtype=str)\n",
        "X_test_discrete = pd.DataFrame(kb.transform(X_test), columns=X_train.columns, dtype=str)\n",
        "\n",
        "X_train_discrete = pd.get_dummies(X_train_discrete) # We want to keep all values => NO 'drop_first'\n",
        "X_test_discrete = pd.get_dummies(X_test_discrete) # We want to keep all values => NO 'drop_first'"
      ],
      "execution_count": null,
      "outputs": []
    },
    {
      "cell_type": "markdown",
      "metadata": {
        "id": "3YsNXy_gdcxU",
        "colab_type": "text"
      },
      "source": [
        "> Replace missing values"
      ]
    },
    {
      "cell_type": "code",
      "metadata": {
        "id": "jZQbunYOdfPV",
        "colab_type": "code",
        "colab": {}
      },
      "source": [
        "# Option 1: KNN Imputer + use DataFrame to get nicer display\n",
        "from sklearn.impute import KNNImputer\n",
        "dataset = pd.DataFrame(KNNImputer(missing_values=0, n_neighbors=5).fit_transform(dataset), columns = dataset.columns) \n",
        "# \"missing_values\" is the value to replace (nan, O etc.) / n_neighbors => how many to mean the replace value\n",
        "\n",
        "\n",
        "# Sklearn KNN method to replace missing values\n",
        "from fancyimpute import KNN\n",
        "dataset = pd.DataFrame(KNN(k=3).fit_transform(dataset), columns = dataset.columns)"
      ],
      "execution_count": null,
      "outputs": []
    },
    {
      "cell_type": "markdown",
      "metadata": {
        "id": "QvFWHWKtLzPJ",
        "colab_type": "text"
      },
      "source": [
        "> Reduce dimensions"
      ]
    },
    {
      "cell_type": "code",
      "metadata": {
        "id": "_sVHy9gwL2l3",
        "colab_type": "code",
        "colab": {}
      },
      "source": [
        "# PCA => to minimize features\n",
        "from sklearn.decomposition import PCA\n",
        "pca = PCA(n_components=0.99, whiten=True, random_state=42) #n_components = 0 to 1 to know info kept or integer to get real components created\n",
        "principalComponents = pca.fit_transform(X)\n",
        "principalDF = pd.DataFrame(data = principalComponents, columns = ['principal component 1', 'principal component 2'])\n",
        "\n",
        "# LDA => kind of PCA applied to target value\n",
        "from sklearn.discriminant_analysis import LinearDiscriminantAnalysis\n",
        "lda = LinearDiscriminantAnalysis(n_components=2) #n_components = 0 to 1 to know info kept or integer to get exactd nb components\n",
        "# should split train in train1 fit_transform and train2 just transform to avoid over-fitting\n"
      ],
      "execution_count": null,
      "outputs": []
    },
    {
      "cell_type": "markdown",
      "metadata": {
        "id": "9IrWl7VOBTGJ",
        "colab_type": "text"
      },
      "source": [
        "> META SCRIPT - Split train & test / Normalize / Reduce Dim"
      ]
    },
    {
      "cell_type": "code",
      "metadata": {
        "id": "fz4Q6uoMBbaI",
        "colab_type": "code",
        "colab": {}
      },
      "source": [
        "# This script allow you to \n",
        "# It assumes you already get your features in 'X' and your target value in 'y'\n",
        "# You may want to play with 'test_size=0.3' (NOT test_size=0.5) and 'random_state'\n",
        "from sklearn.preprocessing import StandardScaler\n",
        "sc = StandardScaler()\n",
        "\n",
        "X_train, X_test, y_train, y_test = train_test_split(X, y, test_size = 0.3, random_state=1)\n",
        "\n",
        "X_train_norm = sc.fit_transform(X_train)\n",
        "X_train1, X_train2, y_train1, y_train2 = train_test_split(X_train_norm, y_train, test_size = 0.5, random_state=1)\n",
        "X_test_norm = sc.transform(X_test)\n",
        "\n",
        "from sklearn.discriminant_analysis import LinearDiscriminantAnalysis\n",
        "lda = LinearDiscriminantAnalysis(n_components=2)\n",
        "lda.fit(X_train1, y_train1)\n",
        "X_train2_lda = lda.transform(X_train2)\n",
        "X_test_lda = lda.transform(X_test_norm)\n",
        "\n",
        "from sklearn.decomposition import PCA\n",
        "pca = PCA(n_components=2)\n",
        "X_train_pca = pca.fit_transform(X_train_norm)\n",
        "X_test_pca = pca.transform(X_test_norm)\n",
        "\n",
        "# Return :\n",
        "# X_train, X_test, y_train, y_test for basic NONE NORMALIZED set\n",
        "# X_train_norm, X_test_norm, y_train, y_test for basic NORMALIZED set\n",
        "# X_train_pca, X_test_pca, y_train, y_test for PCA set\n",
        "# X_train2_lda, X_test_lda, y_train2, y_test for LDA set \n",
        "# FOR LDA, to minimize over-fitting => split X_train to use X_train2 on models fitting"
      ],
      "execution_count": null,
      "outputs": []
    },
    {
      "cell_type": "markdown",
      "metadata": {
        "id": "hT4RoPHFB8Or",
        "colab_type": "text"
      },
      "source": [
        "## B. COMMON ATTRIBUTES / PIECES OF INFORMATION"
      ]
    },
    {
      "cell_type": "code",
      "metadata": {
        "id": "s8zw0N1CCBcz",
        "colab_type": "code",
        "colab": {}
      },
      "source": [
        "# For (almost) all models => clf is your model\n",
        "clf_your_model.fit(X_train, y_train) # Fit (train) your model\n",
        "clf_your_model.score(X_test, y_test) # Accuracy score ALWAYS CALCULATE ON YOUR TEST => can compare test vs. train data score to see overfitting (big gap = less precision)\n",
        "clf_your_model.coef_ # to see your coef => sometimes clf_your_model.coef[0]\n",
        "clf_your_model.intercept_ # to get the B0 value (not relevant for all models)"
      ],
      "execution_count": null,
      "outputs": []
    },
    {
      "cell_type": "markdown",
      "metadata": {
        "id": "J2ZuC3v7P7bQ",
        "colab_type": "text"
      },
      "source": [
        "## C. LINEAR REGRESSION"
      ]
    },
    {
      "cell_type": "code",
      "metadata": {
        "id": "iTNnmRVHPdk8",
        "colab_type": "code",
        "colab": {}
      },
      "source": [
        "# Run the basic\n",
        "from sklearn.linear_model import LinearRegression\n",
        "reg_lin = LinearRegression()\n",
        "reg_lin.fit(X_train, y_train)\n",
        "\n",
        "#IMPORTANT: FOR COEF\n",
        "reg_lin.coef_[0] # to get the coef\n",
        "\n",
        "# Résumé des paramètres du model\n",
        "reg_lin.summary()"
      ],
      "execution_count": null,
      "outputs": []
    },
    {
      "cell_type": "markdown",
      "metadata": {
        "id": "OjbnGdfyGx34",
        "colab_type": "text"
      },
      "source": [
        "> Visualisation"
      ]
    },
    {
      "cell_type": "code",
      "metadata": {
        "id": "ZeiCIe53Gzgs",
        "colab_type": "code",
        "colab": {}
      },
      "source": [
        "import matplotlib.pyplot as plt\n",
        "\n",
        "plt.scatter(X, y, color='black')\n",
        "plt.plot(X, predictions, color='blue', linewidth=3)\n",
        "plt.xticks(())\n",
        "plt.yticks(())\n",
        "plt.show()"
      ],
      "execution_count": null,
      "outputs": []
    },
    {
      "cell_type": "markdown",
      "metadata": {
        "id": "wAL-KwgRvP3k",
        "colab_type": "text"
      },
      "source": [
        "## D. LOGISTIC REGRESSION"
      ]
    },
    {
      "cell_type": "code",
      "metadata": {
        "id": "0cElBqSQgXjC",
        "colab_type": "code",
        "colab": {}
      },
      "source": [
        "from sklearn.linear_model import LogisticRegression\n",
        "reg_log = LogisticRegression() # Can use class_weight=\"balanced\" to increase weight on less frequent values\n",
        "reg_log.fit(X_train, y_train)"
      ],
      "execution_count": null,
      "outputs": []
    },
    {
      "cell_type": "markdown",
      "metadata": {
        "id": "zcIjCGNEJLLP",
        "colab_type": "text"
      },
      "source": [
        "## E. RIDGE and LASSO"
      ]
    },
    {
      "cell_type": "markdown",
      "metadata": {
        "id": "E1BeXxNHgfmr",
        "colab_type": "text"
      },
      "source": [
        "Ridge and Lasso allow to \"penalize\" in order to find better balance between Accurancy and Precision"
      ]
    },
    {
      "cell_type": "markdown",
      "metadata": {
        "id": "ViVfge6L9tXd",
        "colab_type": "text"
      },
      "source": [
        "> LINEAR REGRESSION"
      ]
    },
    {
      "cell_type": "code",
      "metadata": {
        "id": "qtthASQ089n_",
        "colab_type": "code",
        "colab": {}
      },
      "source": [
        "# Ridge\n",
        "from sklearn.linear_model import Ridge\n",
        "reg_lin_ridge = Ridge(alpha = 0.01)  \n",
        "# Alpha = penalty => bigger score (10+) =  Improve Precision vs. decrease accuracy vs. closer 0 improve accuracy vs. precision  \n",
        "reg_lin_ridge.fit(X_train, y_train)\n",
        "\n",
        "#IMPORTANT: FOR COEF\n",
        "reg_lin_ridge.coef_[0] # to get the coef"
      ],
      "execution_count": null,
      "outputs": []
    },
    {
      "cell_type": "code",
      "metadata": {
        "id": "LFspaDPX-mVe",
        "colab_type": "code",
        "colab": {}
      },
      "source": [
        "# Lasso\n",
        "from sklearn.linear_model import Lasso\n",
        "reg_lin_lasso = Lasso(alpha=1) # default 'alpha' = 1 => Big alpha = Improve Precision and decrease accuracy vs. Small Alpha = Improve accuracy et decrease precision\n",
        "reg_lin_lasso.fit(X_train, y_train)"
      ],
      "execution_count": null,
      "outputs": []
    },
    {
      "cell_type": "markdown",
      "metadata": {
        "id": "GLyC5Wd9NIfM",
        "colab_type": "text"
      },
      "source": [
        "> Visualisation"
      ]
    },
    {
      "cell_type": "code",
      "metadata": {
        "id": "kk8-UixuBbnU",
        "colab_type": "code",
        "colab": {}
      },
      "source": [
        "# Visualisation to compare ridge coef vs. basic reg lin\n",
        "# 'X' = is your main dataset with every features but NOT the target  \n",
        "perf_reg_lin_ridge = pd.DataFrame({\"params\": clf_reg_lin_ridge.coef_[0], \n",
        "                                       \"model\": \"ridge Alpha = 100\", \n",
        "                                       \"index\": range(0, len(X.columns))})\n",
        "\n",
        "perf_reg_lin = pd.DataFrame({\"params\": clf_reg_lin.coef_[0], \n",
        "                                       \"model\": \"linear\", \n",
        "                                       \"index\": range(0, len(X.columns))})\n",
        "\n",
        "perf_compar = pd.concat([perf_ridge_large_alpha,perf_lin])\n",
        "\n",
        "import seaborn as sns\n",
        "sns.pointplot(x = 'index',y = 'params',hue = 'model', data = perf_compar)"
      ],
      "execution_count": null,
      "outputs": []
    },
    {
      "cell_type": "markdown",
      "metadata": {
        "id": "n9HCRNt814UY",
        "colab_type": "text"
      },
      "source": [
        "> LOGISTIC REGRESSION"
      ]
    },
    {
      "cell_type": "code",
      "metadata": {
        "id": "piOHhP1Uh3Tt",
        "colab_type": "code",
        "colab": {}
      },
      "source": [
        "# Ridge\n",
        "from sklearn.linear_model import LogisticRegression\n",
        "reg_log = LogisticRegression(C=1.0)\n",
        "# By default Logistic regression applies Ridge (penalty 'l2') => play with the C value from 0.0 (high precision & low accuracy) to 10+ (low precission & high accuracy) \n",
        "\n",
        "reg_log.fit(X_train, y_train)"
      ],
      "execution_count": null,
      "outputs": []
    },
    {
      "cell_type": "code",
      "metadata": {
        "id": "Z0cIQFv6JRVV",
        "colab_type": "code",
        "colab": {}
      },
      "source": [
        "# Lasso\n",
        "from sklearn.linear_model import LogisticRegression\n",
        "reg_log = LogisticRegression(penalty = \"l1\", solver = \"liblinear\", C=1.0) \n",
        "# penalty 'l1' = Lasso / solver must be 'liblinear' / C (default 1.0)  => 0 = very strong penalty (very precise but less accuracy) => 10+ (more accuracy but less precise)\n",
        "\n",
        "reg_log.fit(X_train, y_train)"
      ],
      "execution_count": null,
      "outputs": []
    },
    {
      "cell_type": "markdown",
      "metadata": {
        "id": "X5WJnKstvbr7",
        "colab_type": "text"
      },
      "source": [
        "## F. DECISION TREE"
      ]
    },
    {
      "cell_type": "code",
      "metadata": {
        "id": "dRz5OHKkca4d",
        "colab_type": "code",
        "colab": {}
      },
      "source": [
        "# Instantiate the Decision Tree\n",
        "from sklearn.tree import DecisionTreeClassifier\n",
        "clf = DecisionTreeClassifier(criterion=\"gini\") # can you criterion = \"gini\" or \"entropy\" with \"entropy\" slightly less heterogeneous than \"gini\"\n",
        "clf.fit(X_train,y_train)"
      ],
      "execution_count": null,
      "outputs": []
    },
    {
      "cell_type": "code",
      "metadata": {
        "id": "e6UERYSXedxO",
        "colab_type": "code",
        "colab": {}
      },
      "source": [
        "# Accuracy Score\n",
        "clf.score(X_test,y_test) "
      ],
      "execution_count": null,
      "outputs": []
    },
    {
      "cell_type": "code",
      "metadata": {
        "id": "CtOFJil5dgCq",
        "colab_type": "code",
        "colab": {}
      },
      "source": [
        "# Check the prediction for specific X value\n",
        "X_new = np.array([[4,4,3,3]]) # IMPORTANT : array 2D => [[\n",
        "clf.predict_proba(X_new)"
      ],
      "execution_count": null,
      "outputs": []
    },
    {
      "cell_type": "code",
      "metadata": {
        "id": "dYEH5Pajd12R",
        "colab_type": "code",
        "colab": {}
      },
      "source": [
        "# See all prediction\n",
        "clf.predict(X_test)"
      ],
      "execution_count": null,
      "outputs": []
    },
    {
      "cell_type": "code",
      "metadata": {
        "id": "INepqsgXd51k",
        "colab_type": "code",
        "colab": {}
      },
      "source": [
        "# How to count difference value between 'gini' and 'entropy' criterion\n",
        "count = 0\n",
        "for i in range(0, len(y_pred_gini)):\n",
        "  \n",
        "  if y_pred_gini[i] != y_pred_entropy[i]:\n",
        "    count+= 1"
      ],
      "execution_count": null,
      "outputs": []
    },
    {
      "cell_type": "code",
      "metadata": {
        "id": "hSOWxZ4oeVEZ",
        "colab_type": "code",
        "colab": {}
      },
      "source": [
        "# Option 2\n",
        "count = 0\n",
        "for a, b in zip(y_pred_gini,y_pred_entropy):\n",
        "  if a != b:\n",
        "    count+=1\"\"\"\n"
      ],
      "execution_count": null,
      "outputs": []
    },
    {
      "cell_type": "markdown",
      "metadata": {
        "id": "P6c3QqzGdGti",
        "colab_type": "text"
      },
      "source": [
        "> VISUALISATION"
      ]
    },
    {
      "cell_type": "code",
      "metadata": {
        "id": "QrjhFJdt0DNi",
        "colab_type": "code",
        "colab": {}
      },
      "source": [
        "# Best visualisation option\n",
        "import graphviz \n",
        "from sklearn.tree import export_graphviz\n",
        "dot_data = export_graphviz(clf_gini,\n",
        "                           feature_names=X_train.columns,\n",
        "                           class_names=[\"0\",\"1\"],\n",
        "                           out_file=None) \n",
        "graph = graphviz.Source(dot_data) \n",
        "graph\n",
        "\n",
        "\n",
        "# or \"DRYer\"\n",
        "graphviz.Source(export_graphviz(clf_gini,\n",
        "                           feature_names=X_train.columns,\n",
        "                           class_names=[\"0\",\"1\"],\n",
        "                           out_file=None))"
      ],
      "execution_count": null,
      "outputs": []
    },
    {
      "cell_type": "code",
      "metadata": {
        "id": "Tf_c1f27vkkH",
        "colab_type": "code",
        "colab": {}
      },
      "source": [
        "# Visualisation using plot_tree\n",
        "from sklearn.tree import plot_tree\n",
        "plt.figure(figsize=(25,10))\n",
        "a = plot_tree(classifier_entropy, \n",
        "              feature_names=X.columns, \n",
        "              class_names=list(set(y)), # WARNING y must be a Series!\n",
        "              filled=True, \n",
        "              rounded=True, \n",
        "              fontsize=14)"
      ],
      "execution_count": null,
      "outputs": []
    },
    {
      "cell_type": "code",
      "metadata": {
        "id": "dZc4eXWDdMKs",
        "colab_type": "code",
        "colab": {}
      },
      "source": [
        "# Visualisation using graphviz to export .png\n",
        "from sklearn import tree\n",
        "tree.export_graphviz(classifier_gini, out_file=\"tree.png\",\n",
        "                filled=True, rounded=True,\n",
        "                special_characters=True,feature_names = X.columns,class_names=['B','R','L'])"
      ],
      "execution_count": null,
      "outputs": []
    },
    {
      "cell_type": "markdown",
      "metadata": {
        "id": "Waq96MysflwJ",
        "colab_type": "text"
      },
      "source": [
        "##G. RANDOM FOREST "
      ]
    },
    {
      "cell_type": "markdown",
      "metadata": {
        "id": "mOJCOsWccQj7",
        "colab_type": "text"
      },
      "source": [
        "> REGRESSOR"
      ]
    },
    {
      "cell_type": "code",
      "metadata": {
        "id": "RsTHNPtocUbK",
        "colab_type": "code",
        "colab": {}
      },
      "source": [
        "# Instantiate the Decision Tree\n",
        "from sklearn.ensemble import RandomForestRegressor\n",
        "rft_r = RandomForestRegressor(n_estimators=50, max_depth=None) # 'n_estimator' = count of decision trees created  / max_depth = minimize to avoid over-fitting\n",
        "rft_r.fit(X_train, y_train)"
      ],
      "execution_count": null,
      "outputs": []
    },
    {
      "cell_type": "code",
      "metadata": {
        "id": "WXGDZev9mLlg",
        "colab_type": "code",
        "colab": {}
      },
      "source": [
        "# Get right number of decision trees in the forest using GridSearch\n",
        "from sklearn.model_selection import GridSearchCV\n",
        "rft_r = RandomForestClassifier(n_estimators=50, max_depth=None) # 'n_estimator' = count of decision trees created\n",
        "params = {\"n_estimators\": range(20, 51, 10)}\n",
        "\n",
        "rft_r_grid = GridSearchCV(cv=10, estimator = rft_r, param_grid = params, verbose=2, n_jobs=-1)\n",
        "rft_r_grid.fit(X_train, y_train)"
      ],
      "execution_count": null,
      "outputs": []
    },
    {
      "cell_type": "markdown",
      "metadata": {
        "id": "186YsCbfcNkn",
        "colab_type": "text"
      },
      "source": [
        "> CLASSIFIER"
      ]
    },
    {
      "cell_type": "code",
      "metadata": {
        "id": "JnvTnBuEfr1s",
        "colab_type": "code",
        "colab": {}
      },
      "source": [
        "# Instantiate the Decision Tree\n",
        "from sklearn.ensemble import RandomForestClassifier\n",
        "rft_c = RandomForestClassifier(n_estimators=50) # 'n_estimator' = count of decision trees created  / max_depth = minimize to avoid over-fitting\n",
        "rft_c.fit(X_train, y_train)"
      ],
      "execution_count": null,
      "outputs": []
    },
    {
      "cell_type": "code",
      "metadata": {
        "id": "17734JP6gRhL",
        "colab_type": "code",
        "colab": {}
      },
      "source": [
        "# Get right number of decision trees in the forest using GridSearch\n",
        "from sklearn.model_selection import GridSearchCV\n",
        "rft_c = RandomForestClassifier()\n",
        "params = {\"n_estimators\": range(20, 51, 10)}\n",
        "\n",
        "rft_c_grid = GridSearchCV(cv=10, estimator = rft_c, param_grid = params, verbose=2, n_jobs=-1)\n",
        "rft_c_grid.fit(X_train, y_train)"
      ],
      "execution_count": null,
      "outputs": []
    },
    {
      "cell_type": "markdown",
      "metadata": {
        "id": "5mSC0Gu7d3dY",
        "colab_type": "text"
      },
      "source": [
        "## H. EXTRA TREE"
      ]
    },
    {
      "cell_type": "markdown",
      "metadata": {
        "id": "PcWqRNsSGIQD",
        "colab_type": "text"
      },
      "source": [
        "> REGRESSOR"
      ]
    },
    {
      "cell_type": "code",
      "metadata": {
        "id": "VNC1h-94GKC5",
        "colab_type": "code",
        "colab": {}
      },
      "source": [
        "# Instantiate the Decision Tree\n",
        "from sklearn.ensemble import ExtraTreesRegressor\n",
        "reg_ett = ExtraTreesRegressor(n_estimators=100) # 'n_estimator' = count of decision trees created\n",
        "reg_ett.fit(X_train, y_train)"
      ],
      "execution_count": null,
      "outputs": []
    },
    {
      "cell_type": "markdown",
      "metadata": {
        "id": "lyPOc9gGd6GJ",
        "colab_type": "text"
      },
      "source": [
        "> CLASSIFIER"
      ]
    },
    {
      "cell_type": "code",
      "metadata": {
        "id": "rS9PcrTId8Jz",
        "colab_type": "code",
        "colab": {}
      },
      "source": [
        "# Instantiate the Decision Tree\n",
        "from sklearn.ensemble import ExtraTreesClassifier\n",
        "clf_ett = ExtraTreesClassifier(n_estimators=100) # 'n_estimator' = count of decision trees created\n",
        "clf_ett.fit(X_train, y_train)"
      ],
      "execution_count": null,
      "outputs": []
    },
    {
      "cell_type": "markdown",
      "metadata": {
        "id": "l3j8Gm7Ineal",
        "colab_type": "text"
      },
      "source": [
        "##I. NAIVE BAYES "
      ]
    },
    {
      "cell_type": "code",
      "metadata": {
        "id": "uKMTQXLwnjvB",
        "colab_type": "code",
        "colab": {}
      },
      "source": [
        "# Instantiate Naive Gaussian Base\n",
        "import sklearn.naive_bayes as nb\n",
        "clf_naivebayes = nb.GaussianNB()\n",
        "naivebayes_fit = clf_naivebayes.fit(X_train, y_train)"
      ],
      "execution_count": null,
      "outputs": []
    },
    {
      "cell_type": "code",
      "metadata": {
        "id": "525pqxb1szNC",
        "colab_type": "code",
        "colab": {}
      },
      "source": [
        "# Instantiate Naive Gaussian Base\n",
        "## PLEASE CHECK 'DISCRETIZATION' IN 'PREPARATION' SECTION to modify data first\n",
        "\n",
        "from sklearn.naive_bayes import BernoulliNB\n",
        "naivebayes = nb.BernoulliNB()\n",
        "naivebayes_fit = naivebayes.fit(X_train_discrete,y_train)"
      ],
      "execution_count": null,
      "outputs": []
    },
    {
      "cell_type": "markdown",
      "metadata": {
        "id": "4GFiQ-NTnkqb",
        "colab_type": "text"
      },
      "source": [
        "##J. SVM / SVC = SUPPORT VECTOR MACHINES"
      ]
    },
    {
      "cell_type": "code",
      "metadata": {
        "id": "9PBj9tKfR5uk",
        "colab_type": "code",
        "colab": {}
      },
      "source": [
        "# Support Vector Machines\n",
        "from sklearn.svm import SVC\n",
        "svm = SVC() # SOMETIMES need to set 'probability=True' => longer but avoid some error message\n",
        "# you may add 'class_weight=\"balanced\"' | you may change the kernel : 'linear’, ‘poly’, ‘rbf’, ‘sigmoid’, ‘precomputed’}, default=’rbf’\n",
        "svm.fit(X_train, y_train)"
      ],
      "execution_count": null,
      "outputs": []
    },
    {
      "cell_type": "markdown",
      "metadata": {
        "id": "AH4cQMM9qBbS",
        "colab_type": "text"
      },
      "source": [
        "##K. BAGGING"
      ]
    },
    {
      "cell_type": "markdown",
      "metadata": {
        "id": "WlgfGMHPGmH4",
        "colab_type": "text"
      },
      "source": [
        "> Regressor"
      ]
    },
    {
      "cell_type": "code",
      "metadata": {
        "id": "TYuN-7idHTMK",
        "colab_type": "code",
        "colab": {}
      },
      "source": [
        "from sklearn.ensemble import BaggingRegressor as BR\n",
        "\n",
        "bregr = BR(base_estimator=SVR(), \n",
        "                        n_estimators=10, random_state=0)\n",
        "bregr.fit(X, y)"
      ],
      "execution_count": null,
      "outputs": []
    },
    {
      "cell_type": "markdown",
      "metadata": {
        "id": "r3ZnfeQhGpCh",
        "colab_type": "text"
      },
      "source": [
        "> Classifier"
      ]
    },
    {
      "cell_type": "code",
      "metadata": {
        "id": "mWRo5Qb2qAt6",
        "colab_type": "code",
        "colab": {}
      },
      "source": [
        "# Bagging are meta models that allows to improve other 'real' models by doing multiple sub-section to test and better fit the 'real' model. \n",
        "from sklearn.ensemble import BaggingClassifier as BC\n",
        "\n",
        "bclass = BC(base_estimator = GaussianNB(), \n",
        "            n_estimators = 1000, max_samples=0.9) #max_features=1.0\n",
        "bclass.fit(X_train,y_train)"
      ],
      "execution_count": null,
      "outputs": []
    },
    {
      "cell_type": "markdown",
      "metadata": {
        "id": "S5OYG11-pktC",
        "colab_type": "text"
      },
      "source": [
        "## L. BOOSTING - ADABoost XGBoost"
      ]
    },
    {
      "cell_type": "markdown",
      "metadata": {
        "id": "xAoOYAiap7ap",
        "colab_type": "text"
      },
      "source": [
        "> ADABoost"
      ]
    },
    {
      "cell_type": "code",
      "metadata": {
        "id": "CTNNRHSDpsL7",
        "colab_type": "code",
        "colab": {}
      },
      "source": [
        "# PARAMETERS for all ADABoost type \n",
        "# -'learning_ratefloat' by default 1 but closer to 0 learn smaller step but longer to learn\n",
        "# - 'n_estimators' by default 50 = count of iterations\n",
        "# - 'random_state' = to set for same result\n",
        "\n",
        "# For REGRESSION \n",
        "from sklearn.ensemble import AdaBoostRegressor\n",
        "clf = AdaBoostRegressor() # Can change 'base_estimator=' => by default 'DecisionTreeRegressor(max_depth=3)\n",
        "clf.fit(X_train, y_train)\n",
        "\n",
        "# Get the score for each model iteration\n",
        "for score in clf.staged_score(X_train, y_train)\n",
        "\n",
        "# CLASSIFICATION\n",
        "from sklearn.tree import DecisionTreeClassifier\n",
        "from sklearn.ensemble import AdaBoostClassifier\n",
        "\n",
        "clf = AdaBoostClassifier(DecisionTreeClassifier(max_depth=3)) # Can change 'base_estimator=' => by default 'DecisionTreeRegressor(max_depth=1)\n",
        "clf.fit(X_train, y_train)\n",
        "\n",
        "# Get the score for each model iteration\n",
        "for score in clf.staged_score(X_train, y_train)"
      ],
      "execution_count": null,
      "outputs": []
    },
    {
      "cell_type": "markdown",
      "metadata": {
        "id": "eQDK4hCc9Pim",
        "colab_type": "text"
      },
      "source": [
        "> Gradient Boosting"
      ]
    },
    {
      "cell_type": "code",
      "metadata": {
        "id": "IFPt2ZY5fo26",
        "colab_type": "code",
        "colab": {}
      },
      "source": [
        "# CLASSIFICATION\n",
        "from sklearn.ensemble import GradientBoostingClassifier\n",
        "\n",
        "gbc = GradientBoostingClassifier(n_estimators=100, max_depth=3) # Can play with n_estimators and max_depth\n",
        "gbc.fit(X_train, y_train)"
      ],
      "execution_count": null,
      "outputs": []
    },
    {
      "cell_type": "markdown",
      "metadata": {
        "id": "-aMHvLkHrgyU",
        "colab_type": "text"
      },
      "source": [
        "> XGBoost"
      ]
    },
    {
      "cell_type": "code",
      "metadata": {
        "id": "lYC3cQ2bri65",
        "colab_type": "code",
        "colab": {}
      },
      "source": [
        "# Better Meta Model Booster than AdaBoost\n",
        "\n",
        "# REGRESSOR\n",
        "! pip3 install xgboost\n",
        "from xgboost import XGBRegressor\n",
        "\n",
        "clf = XGBRegressor()\n",
        "clf.fit(X_train, y_train)"
      ],
      "execution_count": null,
      "outputs": []
    },
    {
      "cell_type": "code",
      "metadata": {
        "id": "v2406Gz29Rsx",
        "colab_type": "code",
        "colab": {}
      },
      "source": [
        "# CLASSIFIER\n",
        "! pip3 install xgboost\n",
        "from xgboost import XGBClassifier\n",
        "\n",
        "clf = XGBClassifier()\n",
        "clf.fit(X_train, y_train)"
      ],
      "execution_count": null,
      "outputs": []
    },
    {
      "cell_type": "markdown",
      "metadata": {
        "id": "mofNHfBmvWwy",
        "colab_type": "text"
      },
      "source": [
        "## M. GRID SEARCH"
      ]
    },
    {
      "cell_type": "markdown",
      "metadata": {
        "id": "eutJ8cvXg0nB",
        "colab_type": "text"
      },
      "source": [
        "Test multiple parameters and parameter values to compare and get better score  "
      ]
    },
    {
      "cell_type": "code",
      "metadata": {
        "id": "l0HTQWH2cL6m",
        "colab_type": "code",
        "colab": {}
      },
      "source": [
        "# Basics\n",
        "from sklearn.model_selection import GridSearchCV\n",
        "\n",
        "clf = your_classifier\n",
        "params = {'param_name1' : [Value1, Value2], 'param_name2' : np.arange(1, 10, 1)}\n",
        "\n",
        "grid = GridSearchCV(estimator=clf, param_grid= params, cv = 10, verbose=0, n_jobs=-1)\n",
        "grid.fit(X_train, y_train)\n",
        "# verbose : 0/1/2 allows to display message to follow Grid work\n",
        "# n_jobs : allow to paralelize work => put -1 to get max paralezisation"
      ],
      "execution_count": null,
      "outputs": []
    },
    {
      "cell_type": "markdown",
      "metadata": {
        "id": "kJVMQGO8Tr6L",
        "colab_type": "text"
      },
      "source": [
        ""
      ]
    },
    {
      "cell_type": "markdown",
      "metadata": {
        "id": "k_NS8dsLcH-0",
        "colab_type": "text"
      },
      "source": [
        "> Grid Search Examples"
      ]
    },
    {
      "cell_type": "code",
      "metadata": {
        "id": "QBjyuwIswcHD",
        "colab_type": "code",
        "colab": {}
      },
      "source": [
        "# Grid search with Decision Tree\n",
        "from sklearn.model_selection import GridSearchCV\n",
        "\n",
        "rtc = DecisionTreeClassifier()\n",
        "params = {'max_depth' : np.arange(1,10),\n",
        "         'min_samples_split' : [2, 5, 10, 20]}\n",
        "grid =  GridSearchCV(estimator=rtc, param_grid= params, cv = 10)\n",
        "grid.fit(X_train, y_train)\n",
        "\n",
        "# Grid search with Lasso\n",
        "from sklearn.model_selection import GridSearchCV\n",
        "lasso = Lasso()\n",
        "params = {'alpha' : [10**(-a) for a in range(10)]}\n",
        "grid = GridSearchCV(lasso,param_grid=params, cv = 10)\n",
        "grid.fit(X_train,y_train)\n",
        "\n",
        "# Grid Search Lasso on Logistic Reggresion\n",
        "from sklearn.model_selection import GridSearchCV\n",
        "clf = LogisticRegression(penalty = \"l1\", solver = \"liblinear\")\n",
        "params = {'C' : [.001,.01,.1,1,10,100]}\n",
        "grid = GridSearchCV(clf,param_grid=params, cv = 10)\n",
        "grid.fit(X_train,y_train)\n",
        "\n"
      ],
      "execution_count": null,
      "outputs": []
    },
    {
      "cell_type": "markdown",
      "metadata": {
        "id": "rI3gJ0jtcOnV",
        "colab_type": "text"
      },
      "source": [
        "> Apply Grid Search on multiple levels"
      ]
    },
    {
      "cell_type": "code",
      "metadata": {
        "id": "9V5K4X0CcTwh",
        "colab_type": "code",
        "colab": {}
      },
      "source": [
        "# Example to apply max_features and n_estimators on BaggingClassifier \n",
        "# & the var_smoothing to the GaussianNB within the Bagging\n",
        "\n",
        "from sklearn.model_selection import GridSearchCV\n",
        "from sklearn.naive_bayes import GaussianNB\n",
        "g = GaussianNB()\n",
        "params = {'max_features': [4,5,6,7,8], \n",
        "          'n_estimators' : [5, 10], \n",
        "          'base_estimator__var_smoothing' : [1,2]\n",
        "          }\n",
        "grid_search = GridSearchCV(BaggingClassifier(base_estimator=g, random_state=0), params)\n",
        "grid_search.fit(X_train, y_train)\n",
        "print(grid_search.best_params_)\n",
        "print(grid_search.best_score_)"
      ],
      "execution_count": null,
      "outputs": []
    },
    {
      "cell_type": "markdown",
      "metadata": {
        "id": "vGyrKQNRJ2VO",
        "colab_type": "text"
      },
      "source": [
        "> Global parameters for all grid"
      ]
    },
    {
      "cell_type": "code",
      "metadata": {
        "id": "P_ce9_xoJ06h",
        "colab_type": "code",
        "colab": {}
      },
      "source": [
        "grid.best_params_# To get an object with the best paramter values\n",
        "grid.best_estimator_.score(X_test, y_test) # To test accuracy on X and y test\n",
        "gsNaive_Bayes.best_score_ # Mean cross-validated score of the best_estimator => done on your X and y used in '.fit' "
      ],
      "execution_count": null,
      "outputs": []
    },
    {
      "cell_type": "markdown",
      "metadata": {
        "id": "GeCWTosw2dMg",
        "colab_type": "text"
      },
      "source": [
        "## N. VOTING"
      ]
    },
    {
      "cell_type": "markdown",
      "metadata": {
        "id": "aQIvTIut4Eh5",
        "colab_type": "text"
      },
      "source": [
        "*YOU MUST HAVE CHECKED FOR YOUR ESTIMATOR BEST PARAMETERS USING GRID SEARCH.*\n",
        "\n",
        "*GET OBJECT = estimator.best_estimator_*"
      ]
    },
    {
      "cell_type": "markdown",
      "metadata": {
        "id": "F7RYdxUX3WgB",
        "colab_type": "text"
      },
      "source": [
        "> Regressor"
      ]
    },
    {
      "cell_type": "code",
      "metadata": {
        "id": "smuumoQ43YRb",
        "colab_type": "code",
        "colab": {}
      },
      "source": [
        "########################\n",
        "# You must have done your GridSearch to find your 'Best_parameters'\n",
        "########################\n",
        "\n",
        "# GBC_best, garandF_best ... are your best parameters using GridSearch '.best_parameters'\n",
        "# => Exeample\n",
        "Log = LogisticRegression()\n",
        "log_param_grid = {\"solver\":[\"newton-cg\", \"liblinear\", \"sag\", \"saga\"],\n",
        "                 \"class_weight\": [None, \"balanced\"],\n",
        "                 \"C\": [0.5, 0.6,0.7,0.8,0.9,1.0],\n",
        "                 \"tol\": [1e-4, 1e-3]}\n",
        "gsLog = GridSearchCV(Log, log_param_grid, cv =10, scoring ='accuracy', n_jobs=-1, verbose=1)\n",
        "gsLog.fit(X_train, y_train)\n",
        "gsLog_best = gsLog.best_estimator_\n",
        "\n",
        "\n",
        "# Voting Regressor\n",
        "from sklearn.ensemble import VotingRegressor\n",
        "votingR = VotingClassifier(estimators=[(\"GradientBoosting\", GBC_best),(\"Random Forest\",gsrandF_best),(\"LogisticRegression\",gsLog_best),(\"Naive Bayes\",gsNaive_Bayes_best)], \n",
        "                           voting='soft')\n",
        "\n",
        "votingR = votingR.fit(X_train,y_train)\n"
      ],
      "execution_count": null,
      "outputs": []
    },
    {
      "cell_type": "markdown",
      "metadata": {
        "id": "rgk0iy5g27-n",
        "colab_type": "text"
      },
      "source": [
        "> Classifier"
      ]
    },
    {
      "cell_type": "code",
      "metadata": {
        "id": "hl9uRLil2t3A",
        "colab_type": "code",
        "colab": {}
      },
      "source": [
        "########################\n",
        "# You should find your 'Best_parameters' through GridSearch before doing Voting\n",
        "########################\n",
        "\n",
        "# GBC_best, garandF_best ... are your best parameters using GridSearch '.best_parameters'\n",
        "# => Exeample\n",
        "GBC = GradientBoostingClassifier()\n",
        "gb_param_grid = {'loss' : [\"deviance\"],\n",
        "              'n_estimators' : [100,200,300],\n",
        "              'learning_rate': [0.1, 0.05, 0.01],\n",
        "              'max_depth': [4, 8],\n",
        "              'min_samples_leaf': [0.05,0.1],\n",
        "              'max_features': [0.3, 0.1] \n",
        "              }\n",
        "\n",
        "gsGBC = GridSearchCV(GBC,gb_param_grid, cv=10, scoring=\"accuracy\", verbose = 1)\n",
        "\n",
        "gsGBC.fit(X_train,np.ravel(y_train))\n",
        "\n",
        "GBC_best = gsGBC.best_estimator_\n",
        "\n",
        "\n",
        "# Voting Classifier\n",
        "\n",
        "from sklearn.ensemble import VotingClassifier\n",
        "votingC = VotingClassifier(estimators=[(\"GradientBoosting\", GBC_best),(\"Random Forest\",gsrandF_best),(\"LogisticRegression\",gsLog_best),(\"Naive Bayes\",gsNaive_Bayes_best)], \n",
        "                           voting='soft')\n",
        "\n",
        "votingC = votingC.fit(X_train,y_train)"
      ],
      "execution_count": null,
      "outputs": []
    },
    {
      "cell_type": "markdown",
      "metadata": {
        "id": "hfxp1jwg2l45",
        "colab_type": "text"
      },
      "source": [
        "## O. STACKING"
      ]
    },
    {
      "cell_type": "markdown",
      "metadata": {
        "id": "Jz8gWnF4BqWz",
        "colab_type": "text"
      },
      "source": [
        "> Regression"
      ]
    },
    {
      "cell_type": "code",
      "metadata": {
        "id": "HyScU0G32vXo",
        "colab_type": "code",
        "colab": {}
      },
      "source": [
        "from sklearn.ensemble import StackingRegressor\n",
        "estimators = [('lr', RidgeCV()), ('svr', LinearSVR(random_state=42))]\n",
        "\n",
        "reg = StackingRegressor(estimators=estimators, \n",
        "                        final_estimator=RandomForestRegressor(n_estimators=10, \n",
        "                                                              random_state=42)\n",
        "                        )\n",
        "\n",
        "reg.fit(X_train, y_train))\n",
        "reg.score(X_test, y_test)"
      ],
      "execution_count": null,
      "outputs": []
    },
    {
      "cell_type": "markdown",
      "metadata": {
        "id": "m4LgOMH3BuNw",
        "colab_type": "text"
      },
      "source": [
        "> Classifier"
      ]
    },
    {
      "cell_type": "code",
      "metadata": {
        "id": "G7KPUCUYBwPi",
        "colab_type": "code",
        "colab": {}
      },
      "source": [
        "from sklearn.ensemble import StackingClassifier\n",
        "estimators = [\n",
        "              ('rf', RandomForestClassifier(n_estimators=10, random_state=42)), \n",
        "              ('svr', make_pipeline(StandardScaler(), \n",
        "                                    LinearSVC(random_state=42)))]\n",
        "\n",
        "clf = StackingClassifier(estimators=estimators, final_estimator=LogisticRegression())\n",
        "clf.fit(X_train, y_train)\n",
        "clf.score(X_test, y_test)"
      ],
      "execution_count": null,
      "outputs": []
    },
    {
      "cell_type": "markdown",
      "metadata": {
        "id": "RAL2NS63qX6h",
        "colab_type": "text"
      },
      "source": [
        "## P. MODEL ANALYSIS"
      ]
    },
    {
      "cell_type": "code",
      "metadata": {
        "id": "qEZ5UxYO-fPQ",
        "colab_type": "code",
        "colab": {}
      },
      "source": [
        "# Baseline (calculate the means) \"Dumb model\" to compare against if model < Baseline => very bad !\n",
        "max(y_test.means(), abs(1-y_test.means())"
      ],
      "execution_count": null,
      "outputs": []
    },
    {
      "cell_type": "code",
      "metadata": {
        "id": "1Bg4nJgriFGQ",
        "colab_type": "code",
        "colab": {}
      },
      "source": [
        "# Mean Square Error (=MSE)\n",
        "# This calculate \n",
        "# np.sqrt(np.mean((y_pred)**2))\n",
        "from sklearn.metrics import mean_squared_error\n",
        "mean_squared_error(y_true, y_pred)\n"
      ],
      "execution_count": null,
      "outputs": []
    },
    {
      "cell_type": "code",
      "metadata": {
        "id": "GBvvyE-zqmRN",
        "colab_type": "code",
        "colab": {}
      },
      "source": [
        "# Confusion Matrix\n",
        "from sklearn import metrics\n",
        "cm = metrics.confusion_matrix(y, y_pred)\n",
        "sns.heatmap(cm, annot=True, fmt='d') # annot=True to dsplay value / fmt='d' allow to get integer value (do NOT always work) / 'nomralize=\"true\"' to see on 0 to 1\n",
        "\n",
        "# can add the real label value on x and y label\n",
        "sns.heatmap(cm, annot=True, xticklabels=sorted(dataset.quality.unique()), yticklabels=sorted(dataset.quality.unique())) # where 'quality' is your target value"
      ],
      "execution_count": null,
      "outputs": []
    },
    {
      "cell_type": "code",
      "metadata": {
        "id": "NIpCLd3ZvK_k",
        "colab_type": "code",
        "colab": {}
      },
      "source": [
        "# Classification report\n",
        "from sklearn.metrics import classification_report\n",
        "print(classification_report(y_true=y_test, y_pred=classifier.predict(X_test)))\n",
        "# precision = true positive/(true positive + false positive) | recal = true positive/total real positives\n",
        " "
      ],
      "execution_count": null,
      "outputs": []
    },
    {
      "cell_type": "code",
      "metadata": {
        "id": "-Ty5jRz_kGqG",
        "colab_type": "code",
        "colab": {}
      },
      "source": [
        "#ROC\n",
        "# Compare True Positive vs. False positive => 1 = 'perfect' model | 0.5 = random model | 0 = Always wrong !\n",
        "from sklearn.metrics import roc_auc_score\n",
        "from sklearn.metrics import roc_curve\n",
        "logit_roc_auc = roc_auc_score(y_test, classifier.predict(X_test)) # classifier is the classifier used (e.g. reglog etc.)\n",
        "fpr, tpr, thresholds = roc_curve(y_test, classifier.predict_proba(X_test)[:, 1]) # we use [:,1] to get the 2nd column from predict_proba (positive true / false result)\n",
        "plt.figure()\n",
        "plt.plot(fpr, tpr, label='Logistic Regression (area = %0.2f)' %logit_roc_auc)\n",
        "plt.plot([0, 1], [0, 1], 'r--')\n",
        "plt.xlim([0.0, 1.0])\n",
        "plt.ylim([0.0, 1.05])\n",
        "plt.xlabel('False Positive Rate')\n",
        "plt.ylabel('True Positive Rate')\n",
        "plt.title('Receiver Operating Characteristic')\n",
        "plt.legend(loc=\"lower right\")\n",
        "plt.savefig('Log_ROC')\n",
        "plt.show()\n"
      ],
      "execution_count": null,
      "outputs": []
    },
    {
      "cell_type": "code",
      "metadata": {
        "id": "m6L8rRUSCaVt",
        "colab_type": "code",
        "colab": {}
      },
      "source": [
        "# F_score for quantitative regression "
      ],
      "execution_count": null,
      "outputs": []
    },
    {
      "cell_type": "code",
      "metadata": {
        "id": "1ckQF1ZtCfkj",
        "colab_type": "code",
        "colab": {}
      },
      "source": [
        "# Chi 2 for quali and quanti variables\n",
        "from sklearn.feature_selection import chi2\n",
        "feature_importance = chi2(X, y)\n",
        "# Display in usefull DataFrame\n",
        "feature_ranking = pd.DataFrame(columns=X.columns, data=feature_importance, index=[\"Chi2 Score\", \"P-value\"]).transpose().sort_values(\"Chi2 Score\", ascending=False)\n",
        "\n",
        "# VISUALISATION\n",
        "ax =sns.catplot(x=\"Chi2 Score\", y=[index for index in feature_ranking.index], data = feature_ranking, kind=\"bar\")\n",
        "ax.set(xlabel=\"Chi2 Score\", ylabel=\"Features\")\n",
        "plt.show()"
      ],
      "execution_count": null,
      "outputs": []
    },
    {
      "cell_type": "code",
      "metadata": {
        "id": "J6nfEVcRQN91",
        "colab_type": "code",
        "colab": {}
      },
      "source": [
        "# Cross Validation => to check score by splitting X_train in sub_Xtrain and X_train_test\n",
        "from sklearn.model_selection import cross_val_score, cross_val_predict\n",
        "from sklearn import metrics\n",
        "cross_val_score(clf, X_train, y_train, cv=10)\n",
        "cross_val_predict(clf, X_train, y_train, cv=10)\n",
        "\n",
        "# Example to get means of various cross val score\n",
        "cross_val_score(classifier, X_train, y_train, scoring = \"accuracy\", cv = 10, n_jobs=4).mean() # 'classifier' is the classifier used to be tested"
      ],
      "execution_count": null,
      "outputs": []
    },
    {
      "cell_type": "code",
      "metadata": {
        "id": "MzB15-G6Tvh-",
        "colab_type": "code",
        "colab": {}
      },
      "source": [
        "# Accuracy Score\n",
        "from sklearn.metrics import accuracy_score\n",
        "accuracy_score(y_true, y_pred)"
      ],
      "execution_count": null,
      "outputs": []
    },
    {
      "cell_type": "code",
      "metadata": {
        "id": "jFxo8xryWfPl",
        "colab_type": "code",
        "colab": {}
      },
      "source": [
        "# Feature importance (Decision Tree)\n",
        "feature_importance = pd.DataFrame(\n",
        "    {\"features\": X_train.columns, \"score\": classifier_tree.feature_importances_}).sort_values(by=\"score\", ascending=False)\n",
        "# Can visualize it\n",
        "sns.catplot(x=\"score\", y=\"features\", data=feature_importance, kind=\"bar\")"
      ],
      "execution_count": null,
      "outputs": []
    },
    {
      "cell_type": "markdown",
      "metadata": {
        "id": "FOpyMWZP7V7o",
        "colab_type": "text"
      },
      "source": [
        "> Test multiple classifier and cross_validate_them to see best one in DataFrame"
      ]
    },
    {
      "cell_type": "code",
      "metadata": {
        "id": "ngZcMn7i6Imd",
        "colab_type": "code",
        "colab": {}
      },
      "source": [
        "# CREATE MULTIPLE CLASSIFIERS AND COMPARE THEM THROUGH CROSS VALIDATION\n",
        "# Put all your classifier in an empty classifier => then add each of them using .append()'\n",
        "\n",
        "# 1) put them one at a time.\n",
        "classifiers = []\n",
        "classifiers.append(RandomForestClassifier())\n",
        "classifiers.append(GradientBoostingClassifier())\n",
        "classifiers.append(LogisticRegression())\n",
        "classifiers.append(BernoulliNB())\n",
        "\n",
        "# 2) Get restults in cross_val \n",
        "from sklearn.model_selection import cross_val_score\n",
        "\n",
        "cv_results = []\n",
        "for classifier in classifiers:\n",
        "  cv_results.append(cross_val_score(classifier, X_train, y_train, cv=10 ,scoring=\"accuracy\"))\n",
        "\n",
        "# 3) Create DataFrame to display result\n",
        "\n",
        "results = pd.DataFrame({\"Algorithm\": [\"Random_Forest\", \"GradientBoosting\", \"LogisticRegression\", \"NaiveBayes\"],\n",
        "             \"Accuracy_mean\": [cv_result.mean() for cv_result in cv_results],\n",
        "             \"Std\": [cv_result.std() for cv_result in cv_results]})\n",
        "\n",
        "results = results.sort_values(by=\"Accuracy_mean\", ascending=False)\n",
        "results\n",
        "\n",
        "# 4) Show in catplot\n",
        "sns.catplot(x='Accuracy_mean', \n",
        "            y=\"Algorithm\", \n",
        "            data=results, \n",
        "            kind=\"bar\", \n",
        "            **{'xerr':[cv_result.std() for cv_result in cv_results]})"
      ],
      "execution_count": null,
      "outputs": []
    },
    {
      "cell_type": "markdown",
      "metadata": {
        "id": "MlHKE7yJ7d8F",
        "colab_type": "text"
      },
      "source": [
        "> Compare prediction correlation between estimators"
      ]
    },
    {
      "cell_type": "code",
      "metadata": {
        "id": "l3F6B0Vr7rIB",
        "colab_type": "code",
        "colab": {}
      },
      "source": [
        "# 1a. Correlation for 0 or 1 prediction\n",
        "test_Survived_NaiveBayes = pd.Series(gsNaive_Bayes_best.predict(X_test), name=\"Naive Bayes\")\n",
        "test_Survived_LogReg = pd.Series(gsLog_best.predict(X_test), name=\"Log\")\n",
        "test_Survived_GBC = pd.Series(GBC_best.predict(X_test), name=\"GBC\")\n",
        "test_Survived_RF = pd.Series(gsrandF_best.predict(X_test), name=\"RF\")\n",
        "\n",
        "# 1b. Correlation for probabilities (P(y=1))\n",
        "test_Survived_NaiveBayes = pd.Series(gsNaive_Bayes_best.predict_proba(X_test)[:,1], name=\"Naive Bayes\")\n",
        "test_Survived_LogReg = pd.Series(gsLog_best.predict_proba(X_test)[:,1], name=\"Log\")\n",
        "test_Survived_GBC = pd.Series(GBC_best.predict_proba(X_test)[:,1], name=\"GBC\")\n",
        "test_Survived_RF = pd.Series(gsrandF_best.predict_proba(X_test)[:,1], name=\"RF\")\n",
        "\n",
        "# 2 Show restult in corr() heatmap\n",
        "ensemble_results = pd.concat([test_Survived_NaiveBayes,\n",
        "                              test_Survived_GBC, \n",
        "                              test_Survived_LogReg,\n",
        "                              test_Survived_RF],axis=1)\n",
        "\n",
        "sns.heatmap(ensemble_results.corr(), annot=True)\n"
      ],
      "execution_count": null,
      "outputs": []
    },
    {
      "cell_type": "markdown",
      "metadata": {
        "id": "0fGLoo_lJ_zq",
        "colab_type": "text"
      },
      "source": [
        "## Q. PIPELINE"
      ]
    },
    {
      "cell_type": "code",
      "metadata": {
        "id": "UkchcVDRKGXX",
        "colab_type": "code",
        "colab": {}
      },
      "source": [
        "# Pipeline allow to run various estimators on a seemlessly way to combine them.\n",
        "# It uses a list of (key, value) pairs => key =  name you want to give this step | 'value' is the estimator object\n",
        "\n",
        "from sklearn.svm import SVC\n",
        "from sklearn.preprocessing import StandardScaler\n",
        "from sklearn.pipeline import Pipeline\n",
        "\n",
        "pipe = Pipeline(steps=[('scaler', StandardScaler()), ('svc', SVC())])\n",
        "pipe.fit(X_train, y_train)\n",
        "\n",
        "# Can do within GridSearch and cv (=cross-validation) with Standardscaller\n",
        "# Better to use pipeline because it will fit on the train fold within cv and transform both folds\n",
        "params = {'SVM__C':[0.001, 0.1, 10, 100, 10e5], 'SVM__gamma':[0.1, 0.01]} # NOTE : the '__' allow to go \"within\" the pipelne estimator parameters and NOT stay on the GridSearch level\n",
        "grid = GridSearchCV(pipe, param_grid=params, cv=10)\n"
      ],
      "execution_count": null,
      "outputs": []
    },
    {
      "cell_type": "markdown",
      "metadata": {
        "id": "mw-SbhZTfqJg",
        "colab_type": "text"
      },
      "source": [
        "##R. SAVE & LOAD MODEL"
      ]
    },
    {
      "cell_type": "code",
      "metadata": {
        "id": "lj5MErnKfspx",
        "colab_type": "code",
        "colab": {}
      },
      "source": [
        "# Save model\n",
        "import joblib\n",
        "joblib.dump(model, 'model.pkl')\n",
        "\n",
        "#Save data_prep\n",
        "import joblib\n",
        "joblib.dump(cv, 'data_prep.pkl')"
      ],
      "execution_count": null,
      "outputs": []
    },
    {
      "cell_type": "code",
      "metadata": {
        "id": "DPU6ZnBjgS7Q",
        "colab_type": "code",
        "colab": {}
      },
      "source": [
        "# LOAD Model\n",
        "the_model = open('the_model.pkl','rb')\n",
        "clf = joblib.load(the_model)"
      ],
      "execution_count": null,
      "outputs": []
    },
    {
      "cell_type": "markdown",
      "metadata": {
        "id": "iJqW19-RgXYV",
        "colab_type": "text"
      },
      "source": [
        "#**7. NONE-SUPERVISED ML**\n",
        "\n",
        "---"
      ]
    },
    {
      "cell_type": "markdown",
      "metadata": {
        "id": "ejIT3UwegcXw",
        "colab_type": "text"
      },
      "source": [
        "##A. PREPARATION"
      ]
    },
    {
      "cell_type": "code",
      "metadata": {
        "id": "SyATsjUmgbUd",
        "colab_type": "code",
        "colab": {}
      },
      "source": [
        "# Different from Supervised ML\n",
        "# No target value so no split X_train / X_test\n",
        "# You may want to normalize and dummify data."
      ],
      "execution_count": null,
      "outputs": []
    },
    {
      "cell_type": "markdown",
      "metadata": {
        "id": "pexpS7VhhC7u",
        "colab_type": "text"
      },
      "source": [
        "##B. K-MEANS"
      ]
    },
    {
      "cell_type": "code",
      "metadata": {
        "id": "BIOW-zKpmFBt",
        "colab_type": "code",
        "colab": {}
      },
      "source": [
        "# KMEANS\n",
        "from sklearn.cluster import KMeans\n",
        "\n",
        "kms = KMeans(n_clusters=10, init='k-means++', n_init=10, max_iter=300, random_state=rdm_seed)\n",
        "kms.fit(X)\n",
        "y_kmeans = kms.fit_predict(X) # Fit and predict => get array with cluster 'name'\n",
        "\n",
        "distortions = kms.inertia_"
      ],
      "execution_count": null,
      "outputs": []
    },
    {
      "cell_type": "code",
      "metadata": {
        "id": "szAQAbKm5TTQ",
        "colab_type": "code",
        "colab": {}
      },
      "source": [
        "# Function to apply kmeans and compare predictions done through clustering against real target values\n",
        "from sklearn.cluster import KMeans\n",
        "from scipy.stats import mode\n",
        "\n",
        "def kmeans_to_target(data, target, kmeans_instance=None):\n",
        "  if kmeans_instance is None:\n",
        "    kmeans_instance = KMeans()\n",
        "  y_kms = kmeans_instance.fit_predict(data)\n",
        "\n",
        "  labels = pd.DataFrame(np.zeros_like(y_kms), dtype='int')\n",
        "  for i in range (kmeans_instance.n_clusters):\n",
        "    mask = (y_kms ==i)\n",
        "    labels.iloc[mask, :] = mode(target[mask])[0]\n",
        "  results = labels.values.flatten()\n",
        "  return results"
      ],
      "execution_count": null,
      "outputs": []
    },
    {
      "cell_type": "markdown",
      "metadata": {
        "id": "hS4CX_RFhJNE",
        "colab_type": "text"
      },
      "source": [
        "> ANALYSIS TO FIND RIGHT VALUE OF KMEANS"
      ]
    },
    {
      "cell_type": "code",
      "metadata": {
        "id": "uT2h9ABEhMGY",
        "colab_type": "code",
        "colab": {}
      },
      "source": [
        "# ELBOW\n",
        "max_n = 51\n",
        "rdm_seed = 0\n",
        "\n",
        "# calculate distortion for a range of number of cluster\n",
        "distortions = []\n",
        "for i in range(1, max_n):\n",
        "    kms = KMeans(\n",
        "        n_clusters=i, init='k-means++',\n",
        "        n_init=10, max_iter=300,\n",
        "        tol=1e-04, random_state=rdm_seed\n",
        "    )\n",
        "    kms.fit(X)\n",
        "    distortions.append(kms.inertia_)\n",
        "\n",
        "# plot\n",
        "plt.plot(range(1, max_n), distortions, marker='o')\n",
        "plt.xlabel('Number of clusters')\n",
        "plt.ylabel('Distortion')\n",
        "plt.show()"
      ],
      "execution_count": null,
      "outputs": []
    },
    {
      "cell_type": "code",
      "metadata": {
        "id": "dI7TnV090wm0",
        "colab_type": "code",
        "colab": {}
      },
      "source": [
        "# KELBOW\n",
        "# Dans ce cas là, on regarde le point le plus haut\n",
        "# ligne verte =\n",
        "from sklearn.cluster import KMeans\n",
        "\n",
        "from yellowbrick.cluster import KElbowVisualizer\n",
        "\n",
        "# Generate synthetic dataset with 8 random clusters\n",
        "\n",
        "# Instantiate the clustering model and visualizer\n",
        "model = KMeans() # Can set the random_state=\n",
        "visualizer = KElbowVisualizer(\n",
        "    model, k=(2,12), metric='calinski_harabaz', timings=True\n",
        ") # k to get min and max \n",
        "\n",
        "visualizer.fit(X)        # Fit the data to the visualizer\n",
        "plt.show"
      ],
      "execution_count": null,
      "outputs": []
    },
    {
      "cell_type": "code",
      "metadata": {
        "id": "yFgTss_qmsLJ",
        "colab_type": "code",
        "colab": {}
      },
      "source": [
        "# SILHOUETE\n",
        "\n",
        "from sklearn.metrics import silhouette_samples, silhouette_score\n",
        "import matplotlib.cm as cm\n",
        "\n",
        "print(__doc__)\n",
        "\n",
        "X2 = X.values\n",
        "\n",
        "range_n_clusters = [2, 3, 4, 5, 6]\n",
        "\n",
        "for n_clusters in range_n_clusters:\n",
        "    # Create a subplot with 1 row and 2 columns\n",
        "    fig, (ax1, ax2) = plt.subplots(1, 2)\n",
        "    fig.set_size_inches(18, 7)\n",
        "\n",
        "    # The 1st subplot is the silhouette plot\n",
        "    # The silhouette coefficient can range from -1, 1 but in this example all\n",
        "    # lie within [-0.1, 1]\n",
        "    ax1.set_xlim([-0.1, 1])\n",
        "    # The (n_clusters+1)*10 is for inserting blank space between silhouette\n",
        "    # plots of individual clusters, to demarcate them clearly.\n",
        "    ax1.set_ylim([0, len(X2) + (n_clusters + 1) * 10])\n",
        "\n",
        "    # Initialize the clusterer with n_clusters value and a random generator\n",
        "    # seed of 10 for reproducibility.\n",
        "    clusterer = KMeans(n_clusters=n_clusters, random_state=rdm_seed)\n",
        "    cluster_labels = clusterer.fit_predict(X2)\n",
        "\n",
        "    # The silhouette_score gives the average value for all the samples.\n",
        "    # This gives a perspective into the density and separation of the formed\n",
        "    # clusters\n",
        "    silhouette_avg = silhouette_score(X2, cluster_labels)\n",
        "    print(\"For n_clusters =\", n_clusters,\n",
        "          \"The average silhouette_score is :\", silhouette_avg)\n",
        "\n",
        "    # Compute the silhouette scores for each sample\n",
        "    sample_silhouette_values = silhouette_samples(X2, cluster_labels)\n",
        "\n",
        "    y_lower = 10\n",
        "    for i in range(n_clusters):\n",
        "        # Aggregate the silhouette scores for samples belonging to\n",
        "        # cluster i, and sort them\n",
        "        ith_cluster_silhouette_values = \\\n",
        "            sample_silhouette_values[cluster_labels == i]\n",
        "\n",
        "        ith_cluster_silhouette_values.sort()\n",
        "\n",
        "        size_cluster_i = ith_cluster_silhouette_values.shape[0]\n",
        "        y_upper = y_lower + size_cluster_i\n",
        "\n",
        "        color = cm.nipy_spectral(float(i) / n_clusters)\n",
        "        ax1.fill_betweenx(np.arange(y_lower, y_upper),\n",
        "                          0, ith_cluster_silhouette_values,\n",
        "                          facecolor=color, edgecolor=color, alpha=0.7)\n",
        "\n",
        "        # Label the silhouette plots with their cluster numbers at the middle\n",
        "        ax1.text(-0.05, y_lower + 0.5 * size_cluster_i, str(i))\n",
        "\n",
        "        # Compute the new y_lower for next plot\n",
        "        y_lower = y_upper + 10  # 10 for the 0 samples\n",
        "\n",
        "    ax1.set_title(\"The silhouette plot for the various clusters.\")\n",
        "    ax1.set_xlabel(\"The silhouette coefficient values\")\n",
        "    ax1.set_ylabel(\"Cluster label\")\n",
        "\n",
        "    # The vertical line for average silhouette score of all the values\n",
        "    ax1.axvline(x=silhouette_avg, color=\"red\", linestyle=\"--\")\n",
        "\n",
        "    ax1.set_yticks([])  # Clear the yaxis labels / ticks\n",
        "    ax1.set_xticks([-0.1, 0, 0.2, 0.4, 0.6, 0.8, 1])\n",
        "\n",
        "    # 2nd Plot showing the actual clusters formed\n",
        "    colors = cm.nipy_spectral(cluster_labels.astype(float) / n_clusters)\n",
        "    ax2.scatter(X2[:, 0], X2[:, 1], marker='.', s=30, lw=0, alpha=0.7,\n",
        "                c=colors, edgecolor='k')\n",
        "\n",
        "    # Labeling the clusters\n",
        "    centers = clusterer.cluster_centers_\n",
        "    # Draw white circles at cluster centers\n",
        "    ax2.scatter(centers[:, 0], centers[:, 1], marker='o',\n",
        "                c=\"white\", alpha=1, s=200, edgecolor='k')\n",
        "\n",
        "    for i, c in enumerate(centers):\n",
        "        ax2.scatter(c[0], c[1], marker='$%d$' % i, alpha=1,\n",
        "                    s=50, edgecolor='k')\n",
        "\n",
        "    ax2.set_title(\"The visualization of the clustered data.\")\n",
        "    ax2.set_xlabel(\"Feature space for the 1st feature\")\n",
        "    ax2.set_ylabel(\"Feature space for the 2nd feature\")\n",
        "\n",
        "    plt.suptitle((\"Silhouette analysis for KMeans clustering on sample data \"\n",
        "                  \"with n_clusters = %d\" % n_clusters),\n",
        "                 fontsize=14, fontweight='bold')\n",
        "\n",
        "plt.show()"
      ],
      "execution_count": null,
      "outputs": []
    },
    {
      "cell_type": "markdown",
      "metadata": {
        "id": "A-vNd2p9dVp5",
        "colab_type": "text"
      },
      "source": [
        "> ANALYSE RESULTS"
      ]
    },
    {
      "cell_type": "code",
      "metadata": {
        "id": "6NAZdtfpdYK_",
        "colab_type": "code",
        "colab": {}
      },
      "source": [
        "# Heatmap to show group with key features created by Kmeans\n",
        "sns.heatmap(pd.DataFrame(sc.inverse_transform(kmeans.cluster_centers_[:,:-1]),\n",
        "                         columns=X.columns[:-1]),annot=True) #sc.inverse_transform used to reverse the normalization"
      ],
      "execution_count": null,
      "outputs": []
    },
    {
      "cell_type": "code",
      "metadata": {
        "id": "mn6fcObreA0T",
        "colab_type": "code",
        "colab": {}
      },
      "source": [
        "# See Kmeans per 2 features using scatter plot\n",
        "\n",
        "plt.scatter(X.iloc[:, 1][y_kmeans == 0], X.iloc[:, 2][y_kmeans == 0], s = 100, c = 'red', label = 'Careful')\n",
        "plt.scatter(X.iloc[:, 1][y_kmeans == 1], X.iloc[:, 2][y_kmeans == 1], s = 100, c = 'green', label = 'Standard')\n",
        "plt.scatter(X.iloc[:, 1][y_kmeans == 2], X.iloc[:, 2][y_kmeans == 2], s = 100, c = 'blue', label = 'Vache à lait')\n",
        "plt.scatter(X.iloc[:, 1][y_kmeans == 3], X.iloc[:, 2][y_kmeans == 3], s = 100, c = 'cyan', label = 'Target')\n",
        "plt.scatter(X.iloc[:, 1][y_kmeans == 4], X.iloc[:, 2][y_kmeans == 4], s = 100, c = 'magenta', label = 'Careless')\n",
        "plt.scatter(kmeans.cluster_centers_[:,1], kmeans.cluster_centers_[:,2], s = 300, c = 'yellow', label = 'centroids')\n",
        "plt.title('clusters of clients')\n",
        "plt.xlabel('Annual Income (k$)')\n",
        "plt.ylabel('Spending Score (1-100)')\n",
        "plt.legend()\n",
        "plt.show()"
      ],
      "execution_count": null,
      "outputs": []
    },
    {
      "cell_type": "markdown",
      "metadata": {
        "id": "zj2ZMi8I4OvG",
        "colab_type": "text"
      },
      "source": [
        "## C. DBSCANS"
      ]
    },
    {
      "cell_type": "code",
      "metadata": {
        "id": "8pHDctRl4TF4",
        "colab_type": "code",
        "colab": {}
      },
      "source": [
        "# Unsupervised dedicated for complicated clustering like geographycal etc.\n",
        "from sklearn.cluster import DBSCAN\n",
        "\n",
        "dbs = DBSCAN(eps=0.5, min_samples=15) # eps = max distance between 2 samples | min_samples is your min samples to create 'core point'\n",
        "dbscan_predict = dbs.fit_predict(X)\n"
      ],
      "execution_count": null,
      "outputs": []
    },
    {
      "cell_type": "markdown",
      "metadata": {
        "id": "GWP5hsZy86Th",
        "colab_type": "text"
      },
      "source": [
        "#**8. DEEP-LEARNING - Tensorflow2**"
      ]
    },
    {
      "cell_type": "markdown",
      "metadata": {
        "id": "ZZAVIbVD9HMh",
        "colab_type": "text"
      },
      "source": [
        "##A. LIBRARY"
      ]
    },
    {
      "cell_type": "code",
      "metadata": {
        "id": "RGVVYj5UFIc5",
        "colab_type": "code",
        "colab": {}
      },
      "source": [
        "# Basics all system\n",
        "!pip install tensorflow-gpu==2.2 #Any system\n",
        "import tensorflow as tf\n",
        "from pathlib import Path"
      ],
      "execution_count": null,
      "outputs": []
    },
    {
      "cell_type": "code",
      "metadata": {
        "id": "7XC_22RVxC83",
        "colab_type": "code",
        "colab": {}
      },
      "source": [
        "# Basics for Collab\n",
        "%tensorflow_version 2.x # Only for Collab\n",
        "import tensorflow as tf\n",
        "from pathlib import Path"
      ],
      "execution_count": null,
      "outputs": []
    },
    {
      "cell_type": "markdown",
      "metadata": {
        "id": "pDm7Gv9aFDP2",
        "colab_type": "text"
      },
      "source": [
        "##B. BASICS"
      ]
    },
    {
      "cell_type": "code",
      "metadata": {
        "id": "VBZxZiX-FHx5",
        "colab_type": "code",
        "colab": {}
      },
      "source": [
        "tf.__version__ # check TensorFlow version\n",
        "tf_ds.reshape([1, 4]) # reshape\n",
        "tf_ds.reshape(-1) # transform tf_ds in a full vector\n",
        "tf_ds.squeeze() # will check only dimension 1 and remove them => keep other dimensions <> from 1\n",
        "\n",
        "tf.zeros_like(real_outputs) # create vectore filled by 0 size of \"real_outputs\"\n",
        "tf.ones_like(real_outputs) # create vectore filled by 0 size of \"real_outputs\"\n",
        "\n",
        "repeated_ds = ds_train.repeat(10) # repeat dataset 10 times => useful for data augmentation\n",
        "\n",
        "\n",
        "tf_ds = tf.convert_to_tensor(anything) # Transform any object (list, etc.) into tensor\n",
        "\n",
        "tf_ds = tf.keras.preprocessing.sequence.pad_sequences(anything, padding='post') # This padd (add extra value to get the same length within the array / tensor) | padding = 'post' pour effectuer padding après.\n",
        "\n",
        "tf_ds = tf.keras.backend.argmax(x, axis-1) # apply both argmax and transform to tensor => prevent the 'Cannot convert a symbolic Tensor' issue"
      ],
      "execution_count": null,
      "outputs": []
    },
    {
      "cell_type": "code",
      "metadata": {
        "id": "1tg2WHHvn5K3",
        "colab_type": "code",
        "colab": {}
      },
      "source": [
        "# Create Random tensor\n",
        "tf.reshape(np.absolute(np.random.randn(x_dim*y_dim*z_dim)), [x_dim, y_dim, y_dim]) # return 3d tensor with random normal distributed value (mean = 0)"
      ],
      "execution_count": null,
      "outputs": []
    },
    {
      "cell_type": "code",
      "metadata": {
        "id": "PloXfGHnoV0_",
        "colab_type": "code",
        "colab": {}
      },
      "source": [
        "# REPEAT Tensor along axis\n",
        "tf.repeat(tf_ds, repeats=x_times, axis=2) # Repeat x_times along axis => IMPORTANT, the Axis must already exist"
      ],
      "execution_count": null,
      "outputs": []
    },
    {
      "cell_type": "markdown",
      "metadata": {
        "id": "6gayQulS0a5s",
        "colab_type": "text"
      },
      "source": [
        "##C. CALCULATION"
      ]
    },
    {
      "cell_type": "code",
      "metadata": {
        "id": "lZ1Hztga0Y8-",
        "colab_type": "code",
        "colab": {}
      },
      "source": [
        "t3 = tf.matmul(t1, t2) # product matrix => same as : t3 = t1 @ t2\n",
        "t1.assign([2, 3]) # Will replace the value within t1\n",
        "t2 = t2.assign_add(t1) # add t1 to t2 and save result in t2 at the same time\n",
        "t2 = t2.assign_sub(t1) # substract t1 to t2 and save result in t2 at the same time\n",
        "\n",
        "tf.math.add(t1, t2) # return tensor with sum from t1 and t2\n",
        "tf.math.reduce_sum(t1, axis=2,  keepdims=True) # calculate the total sum along the 3rd axis (index = 2 because starts from 0) AND can choose to leave 3rd dimension with depth 1\n",
        "tf.math.divide(t1, t2) # return tensor by dividing t1 by t2"
      ],
      "execution_count": null,
      "outputs": []
    },
    {
      "cell_type": "code",
      "metadata": {
        "id": "-2_E9M8en05Z",
        "colab_type": "code",
        "colab": {}
      },
      "source": [
        ""
      ],
      "execution_count": null,
      "outputs": []
    },
    {
      "cell_type": "markdown",
      "metadata": {
        "id": "x0lYYX3I_2Zp",
        "colab_type": "text"
      },
      "source": [
        "##D. VISUALISATION"
      ]
    },
    {
      "cell_type": "code",
      "metadata": {
        "id": "n4QqyklkAJ8R",
        "colab_type": "code",
        "colab": {}
      },
      "source": [
        "# Visualize image\n",
        "import matplotlib.pyplot as plt \n",
        "import numpy as np\n",
        "\n",
        "random_image = np.random.randint(100) # 100 is to see within the first 100 images\n",
        "plt.imshow(X_train[random_image])\n",
        "plt.title(y_train[random_image])"
      ],
      "execution_count": null,
      "outputs": []
    },
    {
      "cell_type": "markdown",
      "metadata": {
        "id": "JR7hsBsXvFjh",
        "colab_type": "text"
      },
      "source": [
        "##E. DOWNLOAD DATA"
      ]
    },
    {
      "cell_type": "code",
      "metadata": {
        "id": "OBokNC0gvIuH",
        "colab_type": "code",
        "colab": {}
      },
      "source": [
        "# from CIFAR10\n",
        "from tensorflow.keras.datasets import cifar10\n",
        "\n",
        "(X_train, y_train),(X_test, y_test) = cifar10.load_data()"
      ],
      "execution_count": null,
      "outputs": []
    },
    {
      "cell_type": "markdown",
      "metadata": {
        "id": "VHy_OzL20b4r",
        "colab_type": "text"
      },
      "source": [
        "> Visualize Data"
      ]
    },
    {
      "cell_type": "code",
      "metadata": {
        "id": "7yf17B-f0eGT",
        "colab_type": "code",
        "colab": {}
      },
      "source": [
        "# Visualisation d'une image aléatoire\n",
        "import matplotlib.pyplot as plt \n",
        "import numpy as np\n",
        "\n",
        "random_image = np.random.randint(100)\n",
        "plt.imshow(X_train[random_image])\n",
        "plt.title(y_train[random_image])"
      ],
      "execution_count": null,
      "outputs": []
    },
    {
      "cell_type": "code",
      "metadata": {
        "id": "Y0hib6aP03i7",
        "colab_type": "code",
        "colab": {}
      },
      "source": [
        "# Visualize random image for each target\n",
        "def visualize_random_img_for_each_target(X ,y, nrows, ncols):\n",
        "  \n",
        "  fig, axes = plt.subplots(nrows=nrows, ncols=ncols)\n",
        "  for index, ax in enumerate(axes.flat):\n",
        "    mask = y == index\n",
        "    mask = mask.squeeze()\n",
        "    random_image = np.random.randint(mask.sum()) # mask is a boolean so .sum() will make sure we get max value related to the mask\n",
        "    ax.imshow(X[mask][random_image])\n",
        "    ax.set_title(index)\n",
        "    ax.axis('off')\n",
        "\n",
        "visualize_random_img_for_each_target(X_train,y_train, 2, 5)"
      ],
      "execution_count": null,
      "outputs": []
    },
    {
      "cell_type": "markdown",
      "metadata": {
        "id": "jCDOclAX0llg",
        "colab_type": "text"
      },
      "source": [
        "> System with subfolders"
      ]
    },
    {
      "cell_type": "code",
      "metadata": {
        "id": "EDyPsAgXBTFp",
        "colab_type": "code",
        "colab": {}
      },
      "source": [
        "# Download zip file with many images stored in sub folder = their labels\n",
        "\n",
        "zip_file = tf.keras.utils.get_file(\"catsNdogs.zip\", # filename with file extension => Can change the name\n",
        "                                   \"https://storage.googleapis.com/mledu-datasets/cats_and_dogs_filtered.zip\", # file path & filename\n",
        "                                   cache_subdir=\"/content\", # to tell where to store the file once downloaded\n",
        "                                   extract=True) # by default = False => True for zip files\n",
        "\n",
        "import pathlib \n",
        "train_set = pathlib.Path(\"/content/cats_and_dogs_filtered/train\")\n",
        "\n",
        "# Convert all paths into string\n",
        "all_image_paths = [str(img_path) for img_path in list(train_set.glob(\"*/*\"))]\n",
        "# or\n",
        "all_image_paths = list(map(str, train_folder.glob(\"*/*\")))"
      ],
      "execution_count": null,
      "outputs": []
    },
    {
      "cell_type": "code",
      "metadata": {
        "id": "4T5dn1GIqVoK",
        "colab_type": "code",
        "colab": {}
      },
      "source": [
        "############################\n",
        "# NOT MANDATORY\n",
        "# Convert path to binary\n",
        "first_tensors_bytes = [tf.io.read_file(path) for path in all_image_paths[:10]]\n",
        "\n",
        "# Decode binary to jpeg to display the picture\n",
        "import numpy as np\n",
        "import matplotlib.pyplot as plt \n",
        "\n",
        "first_tensors_images = [tf.io.decode_jpeg(img) for img in first_tensors_bytes]\n",
        "\n",
        "# Display and check if color or black and white to display => otherwise error message because no channel = 3 for B&W \n",
        "random_index = np.random.randint(10)\n",
        "random_image = first_tensors_images[random_index]\n",
        "if random_image.shape[-1] == 3:\n",
        "  plt.imshow(random_image.numpy())\n",
        "else:\n",
        "  plt.imshow(random_image.numpy().squeeze(), cmap='gray')\n",
        "plt.show()\n",
        "#################################"
      ],
      "execution_count": null,
      "outputs": []
    },
    {
      "cell_type": "markdown",
      "metadata": {
        "id": "AOXPlkZ_vs6P",
        "colab_type": "text"
      },
      "source": [
        "##F. DATA PREPARATION"
      ]
    },
    {
      "cell_type": "code",
      "metadata": {
        "id": "j0hzfGJovx9_",
        "colab_type": "code",
        "colab": {}
      },
      "source": [
        "# IF ALREADY X and y\n",
        "\n",
        "# Prepare X and y from pd.DataFrame\n",
        "X = ds.iloc[:, 1:].values\n",
        "y = ds.iloc[:, 0:1].values\n",
        "\n",
        "dataset = tf.data.Dataset.from_tensor_slices((X, y))\n",
        "dataset = dataset.shuffle(len(y)).batch(8) # Create a batch of 8 images\n"
      ],
      "execution_count": null,
      "outputs": []
    },
    {
      "cell_type": "markdown",
      "metadata": {
        "id": "WWhjdS5MmHsw",
        "colab_type": "text"
      },
      "source": [
        ">> Visualize Data"
      ]
    },
    {
      "cell_type": "code",
      "metadata": {
        "id": "i2FB2XLxmKBm",
        "colab_type": "code",
        "colab": {}
      },
      "source": [
        "for feat, label in dataset.take(1):\n",
        "  print(feat)\n",
        "  print(label)"
      ],
      "execution_count": null,
      "outputs": []
    },
    {
      "cell_type": "markdown",
      "metadata": {
        "id": "SgjyGJw-mRda",
        "colab_type": "text"
      },
      "source": [
        "> IF STORED IN SUBFOLDERS"
      ]
    },
    {
      "cell_type": "code",
      "metadata": {
        "id": "3C5Fv-LfExrJ",
        "colab_type": "code",
        "colab": {}
      },
      "source": [
        "#IF STORED IN SUBFOLDERS => NEED TO CREATE LABELS based on SUBFOLDER NAMES\n",
        "\n",
        "#Create function\n",
        "def load_and_preprocess_images(path):\n",
        "  image = tf.io.read_file(path)\n",
        "  image = tf.image.decode_jpeg(image, channels=3)\n",
        "  image = tf.image.resize(image, [224, 224])\n",
        "  return image / 255\n",
        "\n",
        "# Apply map\n",
        "ds_paths = tf.data.Dataset.from_tensor_slices(all_image_paths)\n",
        "ds_images = ds_paths.map(preprocess_and_load_images)\n",
        "\n",
        "# Prepare the labels / y values\n",
        "  # Get image labels \n",
        "labels = [path.name for path in train_set.iterdir()]\n",
        "  \n",
        "  # Get index for both cats and dogs \n",
        "label_index = {label : i for i, label in enumerate(labels)}\n",
        "\n",
        " # Create lables for each image\n",
        "all_image_labels = [label_index[path.parent.name] for path in list(train_set.glob(\"*/*\"))]\n",
        "\n",
        "  # Insert these  labelss\n",
        "tf_labels = tf.data.Dataset.from_tensor_slices(all_image_labels)\n",
        "\n",
        "# MERGE BOTH X AND y into new dataset\n",
        "full_ds = tf.data.Dataset.zip((ds_images, tf_labels))\n",
        "\n",
        "\n",
        "\n",
        "# Shuffle the dataset & create batchs (16) to avoid getting all the images sorted in the same right\n",
        "full_ds = full_ds.shuffle(len(all_image_paths)).batch(16)\n",
        "\n",
        "# Split Train and Test\n",
        "train_size = int(0.8 * len(all_image_paths))\n",
        "\n",
        "full_ds = full_ds.shuffle(len(all_image_paths))\n",
        "train_set = full_ds.take(train_size)\n",
        "test_set = full_ds.skip(train_size)\n",
        "\n",
        "\n"
      ],
      "execution_count": null,
      "outputs": []
    },
    {
      "cell_type": "markdown",
      "metadata": {
        "id": "9DKDZFxgGvND",
        "colab_type": "text"
      },
      "source": [
        ">> Visualize"
      ]
    },
    {
      "cell_type": "code",
      "metadata": {
        "id": "BS28o861Gx7J",
        "colab_type": "code",
        "colab": {}
      },
      "source": [
        "# Visualize some data \n",
        "for example_x, example_y in full_ds.take(2):\n",
        "  for i in range(len(example_y)):\n",
        "    plt.figure()\n",
        "    plt.title(example_y.numpy()[i])\n",
        "    plt.imshow(example_x.numpy()[i])\n",
        "    plt.show()"
      ],
      "execution_count": null,
      "outputs": []
    },
    {
      "cell_type": "code",
      "metadata": {
        "id": "MvXDZaOYmFry",
        "colab_type": "code",
        "colab": {}
      },
      "source": [
        ""
      ],
      "execution_count": null,
      "outputs": []
    },
    {
      "cell_type": "markdown",
      "metadata": {
        "id": "xInOpYQszWUq",
        "colab_type": "text"
      },
      "source": [
        "##G. DATA AUGMENTATION"
      ]
    },
    {
      "cell_type": "code",
      "metadata": {
        "id": "Ov-OlwlxzgX_",
        "colab_type": "code",
        "colab": {}
      },
      "source": [
        "# Apply some modifications randomly\n",
        "data_aug = tf.keras.preprocessing.image.ImageDataGenerator(\n",
        "    rescale=1.0/255.0,\n",
        "    horizontal_flip=True,\n",
        "    shear_range=0.2,\n",
        "    zoom_range=0.2,\n",
        "    data_format=\"channels_last\"\n",
        ")\n",
        "\n",
        "# Fit only relevant for \n",
        "data_aug.fit(X_train)"
      ],
      "execution_count": null,
      "outputs": []
    },
    {
      "cell_type": "code",
      "metadata": {
        "id": "qJXvR67QFFcx",
        "colab_type": "code",
        "colab": {}
      },
      "source": [
        "# Data augmentation using function\n",
        "def load_and_preprocess_images(img):\n",
        "  img = tf.io.read_file(img)\n",
        "  img = tf.image.decode_jpeg(img, channels=3)\n",
        "  img = tf.image.resize(img, [192, 192])\n",
        "  img = tf.image.random_flip_left_right(img)\n",
        "  img = tf.image.random_contrast(img, 0.50, 0.90)\n",
        "  img = tf.image.random_crop(img, size=(192, 192, 3))\n",
        "  img = img / 255.0\n",
        "  \n",
        "  return img\n",
        "\n",
        "# Apply function to train_set\n",
        "tf_train_set = tf_train_set.map(load_and_preprocess_images)"
      ],
      "execution_count": null,
      "outputs": []
    },
    {
      "cell_type": "code",
      "metadata": {
        "id": "9y-oTrxlV4mT",
        "colab_type": "code",
        "colab": {}
      },
      "source": [
        "# Data Augmentation other function\n",
        "def data_aug (image, label):\n",
        "  image = tf.image.random_flip_left_right(image)\n",
        "  image = tf.image.random_contrast(image, 0, 3.4)\n",
        "  image = tf.image.random_crop(image, [25, 25, 3])\n",
        "  image = image / 255\n",
        "\n",
        "  return image, label\n",
        "\n",
        "repeated_ds = repeated_ds.repeat(10).map(data_aug)"
      ],
      "execution_count": null,
      "outputs": []
    },
    {
      "cell_type": "code",
      "metadata": {
        "id": "dHSGWVxNWsfK",
        "colab_type": "code",
        "colab": {}
      },
      "source": [
        "# IMPORTANT : Always divide by 255 the test data if you did it on train data \n",
        "def valid_aug(image, label):\n",
        "  return image / 255, label\n",
        "\n",
        "ds_test = ds_test.map(valid_aug)"
      ],
      "execution_count": null,
      "outputs": []
    },
    {
      "cell_type": "markdown",
      "metadata": {
        "id": "EUpKnpXBwyUI",
        "colab_type": "text"
      },
      "source": [
        "##H. CREATE MODEL"
      ]
    },
    {
      "cell_type": "code",
      "metadata": {
        "id": "juPDuy79w2y3",
        "colab_type": "code",
        "colab": {}
      },
      "source": [
        "# Create a model\n",
        "# \n",
        "# First row always set the input_shqpe=[height, width, channel]\n",
        "# Layer types : \"Dense\" are main | \"Conv2D\" are for CNN in 2D => filters and kernel_size usual\n",
        "# For last level : count of neurones = 1 if binary classifiation with activation = \"sigmoid\" / otherwise count of available laels with activation = \"softmax\" \n",
        "\n",
        "model = tf.keras.Sequential([\n",
        "    tf.keras.layers.Conv2D(filters=32, kernel_size=3, padding=\"same\", activation=\"relu\", input_shape=[192, 192, 3]),\n",
        "    tf.keras.layers.MaxPool2D(pool_size=2, strides=2, padding='valid'),\n",
        "    tf.keras.layers.Conv2D(filters=32, kernel_size=3, padding=\"same\", activation=\"relu\"),\n",
        "    tf.keras.layers.MaxPool2D(pool_size=2, strides=2, padding='valid'),\n",
        "    tf.keras.layers.Conv2D(filters=64, kernel_size=3, padding=\"same\", activation=\"relu\"),\n",
        "    tf.keras.layers.GlobalAveragePooling2D(),\n",
        "#     tf.keras.layers.MaxPool2D(pool_size=2, strides=2, padding='valid'),\n",
        "    tf.keras.layers.Flatten(),\n",
        "    tf.keras.layers.Dense(units=64, activation='relu'),\n",
        "    tf.keras.layers.Dropout(0.05),\n",
        "    tf.keras.layers.Dense(units=32, activation =\"relu\"),\n",
        "    tf.keras.layers.Dense(units=16, activation =\"relu\"),\n",
        "    tf.keras.layers.Dense(units=1, activation='sigmoid')\n",
        "])\n",
        "\n",
        "model.summary() # return the summary of the model"
      ],
      "execution_count": null,
      "outputs": []
    },
    {
      "cell_type": "code",
      "metadata": {
        "id": "jDQGslXeN598",
        "colab_type": "code",
        "colab": {}
      },
      "source": [
        "# For generative models\n",
        "generator = tf.keras.Sequential([\n",
        "    tf.keras.layers.Dense(units=7*7*256, use_bias=False, input_shape=(100,)),\n",
        "    tf.keras.layers.BatchNormalization(),\n",
        "    tf.keras.layers.LeakyReLU(alpha=0.3),\n",
        "\n",
        "    tf.keras.layers.Reshape((7, 7, 256)),\n",
        "\n",
        "    tf.keras.layers.Conv2DTranspose(128, (5, 5), strides=(1, 1), padding='same', use_bias=False),\n",
        "    tf.keras.layers.BatchNormalization(),\n",
        "    tf.keras.layers.LeakyReLU(alpha=0.3),\n",
        "\n",
        "    tf.keras.layers.Conv2DTranspose(128, (5, 5), strides=(2, 2), padding='same', use_bias=False),\n",
        "    tf.keras.layers.BatchNormalization(),\n",
        "    tf.keras.layers.LeakyReLU(alpha=0.3),\n",
        "\n",
        "    tf.keras.layers.Conv2DTranspose(1, (5, 5), strides=(2, 2), padding='same', use_bias=False, activation='tanh')\n",
        "\n",
        "])"
      ],
      "execution_count": null,
      "outputs": []
    },
    {
      "cell_type": "markdown",
      "metadata": {
        "id": "ZJ0bDkHsd9OE",
        "colab_type": "text"
      },
      "source": [
        "## I. CREATE CUSTOM ACTIVATION"
      ]
    },
    {
      "cell_type": "code",
      "metadata": {
        "id": "j2bY4_eJeB4e",
        "colab_type": "code",
        "colab": {}
      },
      "source": [
        "# Swish Activation : \n",
        "# Source : https://www.bignerdranch.com/blog/implementing-swish-activation-function-in-keras/\n",
        "\n",
        "from keras.backend import sigmoid\n",
        "def swish(x, beta = 1):\n",
        "    return (x * sigmoid(beta * x))\n",
        "\n",
        "from keras.utils.generic_utils import get_custom_objects\n",
        "from keras.layers import Activation\n",
        "get_custom_objects().update({'swish': Activation(swish)})\n",
        "\n",
        "# you can call the swish in you activation within keras.layers"
      ],
      "execution_count": null,
      "outputs": []
    },
    {
      "cell_type": "markdown",
      "metadata": {
        "id": "vAwpOuqaWHY8",
        "colab_type": "text"
      },
      "source": [
        "## I. MODEL TRANSFERT"
      ]
    },
    {
      "cell_type": "code",
      "metadata": {
        "id": "ZuBI-5SGWLJd",
        "colab_type": "code",
        "colab": {}
      },
      "source": [
        "# Create Base Model\n",
        "base_model = tf.keras.applications.MobileNetV2(input_shape=(224,224,3), \n",
        "                                               include_top=False,\n",
        "                                               weights = \"imagenet\"\n",
        "                                               )\n",
        "\n",
        "# Set it none trainable\n",
        "base_model.trainable = False\n",
        "\n",
        "# Example of Base Model\n",
        "# For object detection\n",
        "# InceptionV3"
      ],
      "execution_count": null,
      "outputs": []
    },
    {
      "cell_type": "code",
      "metadata": {
        "id": "tPjtZk7aWQmL",
        "colab_type": "code",
        "colab": {}
      },
      "source": [
        "# Create your model (len(labels))\n",
        "model = tf.keras.Sequential([\n",
        "    base_model,\n",
        "    tf.keras.layers.GlobalAveragePooling2D(),\n",
        "    tf.keras.layers.Dense(len(labels), activation=\"softmax\")\n",
        "])"
      ],
      "execution_count": null,
      "outputs": []
    },
    {
      "cell_type": "markdown",
      "metadata": {
        "id": "lGjOe18LWmhZ",
        "colab_type": "text"
      },
      "source": [
        "> Fine Tuning"
      ]
    },
    {
      "cell_type": "code",
      "metadata": {
        "id": "U2bBoRGEWoXJ",
        "colab_type": "code",
        "colab": {}
      },
      "source": [
        "# we will allow backward propagation to the last 75th layers\n",
        "fine_tune_from = 75\n",
        "for layer in base_model.layers[-fine_tune_from:]:\n",
        "    layer.trainable = True"
      ],
      "execution_count": null,
      "outputs": []
    },
    {
      "cell_type": "markdown",
      "metadata": {
        "id": "aeKtFT4p22OI",
        "colab_type": "text"
      },
      "source": [
        "##J. CREATE LOSS FUNCTION"
      ]
    },
    {
      "cell_type": "code",
      "metadata": {
        "id": "AeDfWerX21m-",
        "colab_type": "code",
        "colab": {}
      },
      "source": [
        "# Special learning rate decreasing with step furterdown\n",
        "# Decrease by 4% after 10 000 batchs\n",
        "# staircase = True => va changer au bout de la 10 000ème et non PAS linéarisé\n",
        "\n",
        "lr_schedule = tf.keras.optimizers.schedules.ExponentialDecay(\n",
        "    1e-3,\n",
        "    decay_steps=10000,\n",
        "    decay_rate=0.96,\n",
        "    staircase=True)\n",
        "\n",
        "#Compile with:\n",
        "# loss => function used to calculate loss\n",
        "# optimizer => use \"Adam\" better than Sigmoid Gradient => learning late using the \"lr_schedule\"\n",
        "# metrics => to calculate the \"score\"\n",
        "\n",
        "# FOR BINARY CLASS\n",
        "model.compile(\n",
        "    optimizer = tf.keras.optimizers.Adam(lr_schedule),\n",
        "    loss= tf.keras.losses.binary_crossentropy,\n",
        "    metrics = [tf.keras.metrics.binary_accuracy])\n",
        "\n",
        "# FOR MULTI CLASS\n",
        "model.compile(\n",
        "    optimizer= tf.keras.optimizers.Adam(learning_rate = lr_schedule), \n",
        "    loss=\"sparse_categorical_crossentropy\",\n",
        "    metrics=[\"sparse_categorical_accuracy\"])\n",
        "\n",
        "# FOR MULTI LABEL\n",
        "model.compile(\n",
        "    optimizer = tf.keras.optimizers.Adam(lr_schedule),\n",
        "    loss= tf.keras.losses.binary_crossentropy(login),\n",
        "    metrics = [tf.keras.metrics.binary_accuracy])\n"
      ],
      "execution_count": null,
      "outputs": []
    },
    {
      "cell_type": "code",
      "metadata": {
        "id": "c7923VklXsav",
        "colab_type": "code",
        "colab": {}
      },
      "source": [
        "# TEST OTHER OPTION FOR LEARNING RATE FROM TPU\n",
        "EPOCHS = 12\n",
        "\n",
        "start_lr = 0.00001\n",
        "min_lr = 0.00001\n",
        "max_lr = 0.00005 * tpu_strategy.num_replicas_in_sync\n",
        "rampup_epochs = 5\n",
        "sustain_epochs = 0\n",
        "exp_decay = .8\n",
        "\n",
        "def lrfn(epoch):\n",
        "  if epoch < rampup_epochs:\n",
        "    return (max_lr - start_lr)/rampup_epochs * epoch + start_lr\n",
        "  elif epoch < rampup_epochs + sustain_epochs:\n",
        "    return max_lr\n",
        "  else:\n",
        "    return (max_lr - min_lr) * exp_decay**(epoch-rampup_epochs-sustain_epochs) + min_lr\n",
        "    \n",
        "lr_callback = tf.keras.callbacks.LearningRateScheduler(lambda epoch: lrfn(epoch), verbose=True)\n",
        "\n",
        "rang = np.arange(EPOCHS)\n",
        "y = [lrfn(x) for x in rang]\n",
        "plt.plot(rang, y)\n",
        "print('Learning rate per epoch:')"
      ],
      "execution_count": null,
      "outputs": []
    },
    {
      "cell_type": "markdown",
      "metadata": {
        "id": "uVcJOHbu3en4",
        "colab_type": "text"
      },
      "source": [
        "##K. MODEL FIT"
      ]
    },
    {
      "cell_type": "code",
      "metadata": {
        "id": "N_dijwot3izf",
        "colab_type": "code",
        "colab": {}
      },
      "source": [
        "# fit model by applying the data_aug.flow to X and y train\n",
        "# => batch size = // in the steps_per_epoch \n",
        "# epochs => count of times each images should be \"tested\" by neuronal network\n",
        "model.fit(data_aug.flow(X_train, y_train, batch_size=1), \n",
        "                    steps_per_epoch=len(X_train)//1,\n",
        "                    epochs=10)"
      ],
      "execution_count": null,
      "outputs": []
    },
    {
      "cell_type": "code",
      "metadata": {
        "id": "L9XJCUoCjBOW",
        "colab_type": "code",
        "colab": {}
      },
      "source": [
        "#Fit without data aug within each epochs\n",
        "# Store on history variable\n",
        "# validation_data = ds_test allow to calculate metrics on test at the end of each EPOCHS\n",
        "history = model.fit(ds_train, epochs=15, validation_data=ds_test)"
      ],
      "execution_count": null,
      "outputs": []
    },
    {
      "cell_type": "markdown",
      "metadata": {
        "id": "ofLFtiW14eUv",
        "colab_type": "text"
      },
      "source": [
        "##L. CHECK RESULTS & PREDICTIONS"
      ]
    },
    {
      "cell_type": "code",
      "metadata": {
        "id": "CkzRsvao4gmP",
        "colab_type": "code",
        "colab": {}
      },
      "source": [
        "# Check result on test\n",
        "loss, accuracy = model.evaluate(data_aug.flow(X_test, y_test, batch_size=1))\n",
        "\n",
        "# or\n",
        "loss, accuracy = model.evaluate(ds_test, batch_size=1)\n",
        "\n",
        "# Print result\n",
        "print(\"valid loss = {}\".format(loss))\n",
        "print(\"Accuracy = {}%\".format(np.round(accuracy*100, 2)))"
      ],
      "execution_count": null,
      "outputs": []
    },
    {
      "cell_type": "code",
      "metadata": {
        "id": "ZkC7v7qO4kk_",
        "colab_type": "code",
        "colab": {}
      },
      "source": [
        "# Check prediction\n",
        "# reshape is 1, 32, 32, 3 because \n",
        "# \"1\" => we check only 1 prediction / \"32, 32\" => heights and width = 32 / \"3\" => channel (=RGB)\n",
        "# argmax allow to take the highest score to know the most likely label \n",
        "pred = np.argmax(model.predict(X_test[0].reshape(1,32,32,3)))\n",
        "print(pred)"
      ],
      "execution_count": null,
      "outputs": []
    },
    {
      "cell_type": "code",
      "metadata": {
        "id": "o4R6LCZ77YiZ",
        "colab_type": "code",
        "colab": {}
      },
      "source": [
        "# Show prediction\n",
        "plt.imshow(X_test[0])\n",
        "plt.title(\"True = {} \\n Pred = {}\".format(y_test[0], pred))"
      ],
      "execution_count": null,
      "outputs": []
    },
    {
      "cell_type": "code",
      "metadata": {
        "id": "7No3qWklT2Tx",
        "colab_type": "code",
        "colab": {}
      },
      "source": [
        "# Show graph with accuracy\n",
        "# OPTION 1\n",
        "def display_training_curves(training, validation, title, subplot):\n",
        "  ax = plt.subplot(subplot)\n",
        "  ax.plot(training)\n",
        "  ax.plot(validation)\n",
        "  ax.set_title('model '+ title)\n",
        "  ax.set_ylabel(title)\n",
        "  ax.set_xlabel('epoch')\n",
        "  ax.legend(['training', 'validation'])\n",
        "\n",
        "plt.subplots(figsize=(10,10))\n",
        "plt.tight_layout()\n",
        "display_training_curves(history.history['accuracy'], history.history['val_accuracy'], 'accuracy', 211)\n",
        "display_training_curves(history.history['loss'], history.history['val_loss'], 'loss', 212)\n",
        "plt.show()\n",
        "\n",
        "# OPTION 2\n",
        "# Loss\n",
        "plt.plot(history.history[\"loss\"], color=\"b\")\n",
        "plt.plot(history.history[\"val_loss\"], color=\"r\")\n",
        "plt.xlabel(\"Epochs\")\n",
        "plt.ylabel(\"loss\")\n",
        "plt.title(\"Loss\")\n",
        "plt.legend(['Training', 'Validation'])\n",
        "plt.show()\n",
        "\n",
        "# Accuracy\n",
        "plt.plot(history.history[\"sparse_categorical_accuracy\"], color=\"b\")\n",
        "plt.plot(history.history[\"val_sparse_categorical_accuracy\"], color=\"r\")\n",
        "plt.xlabel(\"Epochs\")\n",
        "plt.ylabel(\"accuracy\")\n",
        "plt.title(\"Accuracy\")\n",
        "plt.legend(['Training', 'Validation'])\n",
        "plt.show()"
      ],
      "execution_count": null,
      "outputs": []
    },
    {
      "cell_type": "markdown",
      "metadata": {
        "id": "BeRHmvcnTMh4",
        "colab_type": "text"
      },
      "source": [
        "##M. SAVE & RELOAD MODEL"
      ]
    },
    {
      "cell_type": "code",
      "metadata": {
        "id": "aLAKx66VTRda",
        "colab_type": "code",
        "colab": {}
      },
      "source": [
        "# We can save our model with:\n",
        "model.save('model.h5')\n",
        "\n",
        "# Save model weight with :\n",
        "model.save_weights('model_weights.h5')\n",
        "\n",
        "# Reload it with:\n",
        "reloaded_model = tf.keras.models.load_model('model.h5')\n",
        "reloaded_model = tf.keras.models.load_model('model.h5', compile = False) # to reload only for production (no need to compile and no training)\n",
        "\n",
        "# Reload weights\n",
        "model.load_weights('model_weights.h5')"
      ],
      "execution_count": null,
      "outputs": []
    },
    {
      "cell_type": "markdown",
      "metadata": {
        "id": "sxFU_lpz7jDY",
        "colab_type": "text"
      },
      "source": [
        "#**10. DEEP LEARNING - NLP**"
      ]
    },
    {
      "cell_type": "markdown",
      "metadata": {
        "id": "2ux5NECV7pWx",
        "colab_type": "text"
      },
      "source": [
        "##A. LIBRARY"
      ]
    },
    {
      "cell_type": "code",
      "metadata": {
        "id": "6ljOzkhikdkc",
        "colab_type": "code",
        "colab": {}
      },
      "source": [
        "# Basics\n",
        "import tensorflow as tf \n",
        "import tensorflow_datasets as tfds\n",
        "import pathlib \n",
        "import pandas as pd\n",
        "import numpy as np\n",
        "import matplotlib.pyplot as plt\n",
        "import time"
      ],
      "execution_count": null,
      "outputs": []
    },
    {
      "cell_type": "markdown",
      "metadata": {
        "id": "I8WRbyFI7sOp",
        "colab_type": "text"
      },
      "source": [
        "##B. BASICS"
      ]
    },
    {
      "cell_type": "markdown",
      "metadata": {
        "id": "6_I5N3aZV3V6",
        "colab_type": "text"
      },
      "source": [
        "## C. DOWNLOAD DATA"
      ]
    },
    {
      "cell_type": "code",
      "metadata": {
        "id": "r-e4RS64V8jJ",
        "colab_type": "code",
        "colab": {}
      },
      "source": [
        "# OPTION 1 Downlaod csv etc. \n",
        "doc = pd.read_csv(\"https://go.aws/314bBDq\") # Easy one with basic download\n",
        "doc = pd.read_csv(\"https://go.aws/314bBDq\", sep=\"\\t\", encoding=\"utf-8\") # With tabular separator and utf-8 to manage the 'é' or 'ô' etc. \n",
        "doc = pd.read_csv(\"https://go.aws/314bBDq\", sep=\"\\t\", error_bad_lines=False, encoding=\"utf-8\") # Error bad lines \n"
      ],
      "execution_count": null,
      "outputs": []
    },
    {
      "cell_type": "code",
      "metadata": {
        "id": "6sX-Q8VMrwFz",
        "colab_type": "code",
        "colab": {}
      },
      "source": [
        "# You may want to sample\n",
        "doc = doc.sample(5000)"
      ],
      "execution_count": null,
      "outputs": []
    },
    {
      "cell_type": "markdown",
      "metadata": {
        "id": "Jg8rhqberKBP",
        "colab_type": "text"
      },
      "source": [
        "## D. PREPROCESSING"
      ]
    },
    {
      "cell_type": "markdown",
      "metadata": {
        "id": "ECJoxCCCrNAG",
        "colab_type": "text"
      },
      "source": [
        "> DOWLOAD LANGUAGE"
      ]
    },
    {
      "cell_type": "code",
      "metadata": {
        "id": "HDaSA6iYrI2B",
        "colab_type": "code",
        "colab": {}
      },
      "source": [
        "# ENG & FR\n",
        "!python -m spacy download fr_core_news_md # Can swap md by sd\n",
        "!python -m spacy download en_core_web_md\n",
        "\n",
        "import fr_core_news_md\n",
        "import en_core_web_md\n",
        "nlp_fr = fr_core_news_md.load()\n",
        "nlp_en = en_core_web_md.load()"
      ],
      "execution_count": null,
      "outputs": []
    },
    {
      "cell_type": "markdown",
      "metadata": {
        "id": "2y4l3tdfriws",
        "colab_type": "text"
      },
      "source": [
        "> CREATE CORPUS"
      ]
    },
    {
      "cell_type": "code",
      "metadata": {
        "id": "8dhfsV7ErdnR",
        "colab_type": "code",
        "colab": {}
      },
      "source": [
        "# Create Corpus\n",
        "fr_corpus = \" \".join(doc.iloc[:, 1].to_list())\n",
        "en_corpus = \" \".join(doc.iloc[:, 0].to_list())"
      ],
      "execution_count": null,
      "outputs": []
    },
    {
      "cell_type": "code",
      "metadata": {
        "id": "GuQ_9rWysGS8",
        "colab_type": "code",
        "colab": {}
      },
      "source": [
        "# Load\n",
        "%%time\n",
        "import time\n",
        "nlp_fr.max_length = len(fr_corpus)\n",
        "nlp_en.max_length = len(en_corpus)\n",
        "\n",
        "fr_doc = nlp_fr(fr_corpus)\n",
        "en_doc = nlp_en(en_corpus)"
      ],
      "execution_count": null,
      "outputs": []
    },
    {
      "cell_type": "markdown",
      "metadata": {
        "id": "J-baBDGtswRs",
        "colab_type": "text"
      },
      "source": [
        "> TOKENISATION"
      ]
    },
    {
      "cell_type": "code",
      "metadata": {
        "id": "MQrrOgk2sy-G",
        "colab_type": "code",
        "colab": {}
      },
      "source": [
        "# OPTION 1 : In PANDAS\n",
        "%%time\n",
        "doc[\"fr_tokens\"] = doc.iloc[:, 1].apply(lambda x: nlp_fr.tokenizer(x))\n",
        "doc[\"en_tokens\"] = doc.iloc[:, 0].apply(lambda x: nlp_en.tokenizer(x))"
      ],
      "execution_count": null,
      "outputs": []
    },
    {
      "cell_type": "markdown",
      "metadata": {
        "id": "VpH98uqjsbVm",
        "colab_type": "text"
      },
      "source": [
        "#**11. WEB SCRAPPING**"
      ]
    },
    {
      "cell_type": "markdown",
      "metadata": {
        "id": "843ASodDsgmN",
        "colab_type": "text"
      },
      "source": [
        "##A. LIBRARY"
      ]
    },
    {
      "cell_type": "code",
      "metadata": {
        "id": "nOaSvhqcsuS2",
        "colab_type": "code",
        "colab": {}
      },
      "source": [
        "from bs4 import BeautifulSoup\n",
        "import requests\n",
        "import re\n",
        "import json as js"
      ],
      "execution_count": null,
      "outputs": []
    },
    {
      "cell_type": "code",
      "metadata": {
        "id": "F6GjlAS3NxGw",
        "colab_type": "code",
        "colab": {}
      },
      "source": [
        "from PIL import Image\n",
        "from io import BytesIO"
      ],
      "execution_count": null,
      "outputs": []
    },
    {
      "cell_type": "markdown",
      "metadata": {
        "id": "UZvNr67qs8UN",
        "colab_type": "text"
      },
      "source": [
        "##B. BEAUTIFULSOUP"
      ]
    },
    {
      "cell_type": "code",
      "metadata": {
        "id": "74meis8NORv4",
        "colab_type": "code",
        "colab": {}
      },
      "source": [
        "# 1) SCRAP THE DATA\n",
        "from bs4 import BeautifulSoup\n",
        "import requests\n",
        "response = request.get(URL) # URL = website link\n",
        "soup = BeautifulSoup(response.text, \"html\") # We use html or lxml parser most of the time => can install other parsers throuhgh PIP install \n",
        "\n",
        "# 2) ACCESS THE DATA\n",
        "soup.prettify() # Display whole doc in \"nice\" HTML formatting\n",
        "soup.head # EX:  <head><title>The Dormouse's story</title></head>\n",
        "soup.title # EX: <title>The Dormouse's story</title>\n",
        "soup.a # EX: <a class=\"sister\" href=\"http://example.com/elsie\" id=\"link1\">Elsie</a>\n",
        "\n",
        "# Access the parent elemant (= element above the 1st selected element)\n",
        "for parent in link.parents:\n",
        "  if parent is None:\n",
        "    print(parent)\n",
        "  else:\n",
        "    print(parent.name)\n",
        "\n",
        "# Access siblings elements (= element within same level within HTML code)\n",
        "for sibling in soup.a.next_siblings:\n",
        "  print(repr(sibling))\n",
        "\n",
        "for sibling in soup.find(id=\"link3\").previous_siblings:\n",
        "  print(repr(sibling))\n",
        "\n",
        "# Search for specific #find specific (or 1st result) and find_all for multiple results\n",
        "soup.find_all(\"title\") # display all with \"title\" => [<title>The Dormouse's story</title>]\n",
        "soup.find_all(\"a\") # [<a class=\"sister\" href=\"http://example.com/elsie\" id=\"link1\">Elsie</a>, <a class=\"sister\" href=\"http://example.com/lacie\" id=\"link2\">Lacie</a>, <a class=\"sister\" href=\"http://example.com/tillie\" id=\"link3\">Tillie</a>]\n",
        "soup.find_all(\"p\", \"title\") # multiple AND search =>[<p class=\"title\"><b>The Dormouse's story</b></p>]\n",
        "soup.find_all(id=\"link2\") # id is unique => [<a class=\"sister\" href=\"http://example.com/lacie\" id=\"link2\">Lacie</a>]\n",
        "import re\n",
        "soup.find(string=re.compile(\"sisters\")) # u'Once upon a time there were three little sisters; and their names were\\n\n",
        "\n",
        "#Search within CSS\n",
        "soup.find_all(\"a\", class=\"sister\") # [<a class=\"sister\" href=\"http://example.com/elsie\" id=\"link1\">Elsie</a>, <a class=\"sister\" href=\"http://example.com/lacie\" id=\"link2\">Lacie</a>]\n",
        "css_soup.select(\"p.strikeout.body\") # [<p class=\"body strikeout\"></p>]\n"
      ],
      "execution_count": null,
      "outputs": []
    },
    {
      "cell_type": "markdown",
      "metadata": {
        "id": "k5m96mfBzDJ3",
        "colab_type": "text"
      },
      "source": [
        "> EX : IMD website"
      ]
    },
    {
      "cell_type": "code",
      "metadata": {
        "id": "R5SG2h4CtCEc",
        "colab_type": "code",
        "colab": {}
      },
      "source": [
        "# 1) ACCESS MAIN PAGE\n",
        "url = 'http://www.imdb.com/chart/top'\n",
        "response = requests.get(url)\n",
        "soup = BeautifulSoup(response.text, 'lxml')"
      ],
      "execution_count": null,
      "outputs": []
    },
    {
      "cell_type": "code",
      "metadata": {
        "id": "_BD4kzVdtV7d",
        "colab_type": "code",
        "colab": {}
      },
      "source": [
        "# 2) ACCESS \n",
        "movies = soup.select('td.titleColumn')\n",
        "soup.select('table tr td a')) # will select table => tr => td => a (narrow your selection)\n",
        "\n",
        "links = [a.attrs.get('href') for a in soup.select('td.titleColumn a')] # get the href value attribute\n",
        "crew = [a.attrs.get('title') for a in soup.select('td.titleColumn a')] # get the title attribute value\n",
        "ratings = [b.attrs.get('data-value') for b in soup.select('td.posterColumn span[name=ir]')] # get the data-value attribute for psoterColumn and span name=\"ir\"\n",
        "votes = [b.text for b in soup.select('td.ratingColumn.imdbRating strong')] #Take the text within <tags>\n"
      ],
      "execution_count": null,
      "outputs": []
    },
    {
      "cell_type": "code",
      "metadata": {
        "id": "dRJyb2NVwRx4",
        "colab_type": "code",
        "colab": {}
      },
      "source": [
        "#3) USE DATA\n",
        "imdb = []\n",
        "\n",
        "# Store each item into dictionary (data), then put those into a list (imdb)\n",
        "for index in range(0, len(movies)):\n",
        "    # Separate movie into: 'place', 'title', 'year'\n",
        "    movie_string = movies[index].get_text()\n",
        "    movie = (' '.join(movie_string.split()).replace('.', ''))\n",
        "    movie_title = movie[len(str(index))+1:-7]\n",
        "    year = re.search('\\((.*?)\\)', movie_string).group(1)\n",
        "    place = movie[:len(str(index))-(len(movie))]\n",
        "    data = {\"movie_title\": movie_title,\n",
        "            \"year\": year,\n",
        "            \"place\": place,\n",
        "            \"star_cast\": crew[index],\n",
        "            \"rating\": ratings[index],\n",
        "            \"vote\": votes[index],\n",
        "            \"link\": links[index]}\n",
        "    imdb.append(data)"
      ],
      "execution_count": null,
      "outputs": []
    },
    {
      "cell_type": "code",
      "metadata": {
        "id": "VXIJx5qSzN3d",
        "colab_type": "code",
        "colab": {}
      },
      "source": [
        "#4) CONSOLIDATE DATA\n",
        "for item in imdb:\n",
        "    print(item['place'], '-', item['movie_title'], '('+item['year']+') -', 'Starring:', item['star_cast']) #, item[\"vote\"], item[\"rating\"])"
      ],
      "execution_count": null,
      "outputs": []
    },
    {
      "cell_type": "markdown",
      "metadata": {
        "id": "vTWI4n8szGxu",
        "colab_type": "text"
      },
      "source": [
        "> EX : Twitter"
      ]
    },
    {
      "cell_type": "code",
      "metadata": {
        "id": "Kw7SLZgBzJDn",
        "colab_type": "code",
        "colab": {}
      },
      "source": [
        "#1) SET INPUT  to choose account to scrap\n",
        "handle = input('Input your account name on Twitter: ') #jedhabootcamp\n",
        "ctr = int(input('Input number of tweets to scrape: ')) # to set max tweets to display\n",
        "\n",
        "res=requests.get('https://mobile.twitter.com/'+ handle) ##http://mobile.twitter.com/jedhabootcamp\n"
      ],
      "execution_count": null,
      "outputs": []
    },
    {
      "cell_type": "code",
      "metadata": {
        "id": "pbNAEPHW0H2m",
        "colab_type": "code",
        "colab": {}
      },
      "source": [
        "#2) SCRAP all pages\n",
        "bs = BeautifulSoup(res.content,'lxml')"
      ],
      "execution_count": null,
      "outputs": []
    },
    {
      "cell_type": "code",
      "metadata": {
        "id": "4aeE8EXy0RGe",
        "colab_type": "code",
        "colab": {}
      },
      "source": [
        "#3) Scrap specific pieces of information \n",
        "all_tweets = bs.find_all('table',{'class':'tweet'}) # We use find_all to access all tables before selecting specific pieces within it\n",
        "\n",
        "if all_tweets:\n",
        "  for tweet in all_tweets[:ctr]:\n",
        "    content = tweet.find('div',{'class':'tweet-content'})\n",
        "    header = tweet.find('tr',{'class':'tweet-header '})\n",
        "    user = header.find('div',{'class':'username'}).text.replace(\"\\n\",\" \").strip()\n",
        "    time = header.find('td',{'class':'timestamp'}).text.replace(\"\\n\",\" \").strip()\n",
        "    message = tweet.find('div',{'class':'tweet-text'}).text.replace(\"\\n\",\" \").strip()\n",
        "    print(user,time)\n",
        "    print(message)\n",
        "    print()\n",
        "else:\n",
        "    print(\"List is empty/account name not found.\")"
      ],
      "execution_count": null,
      "outputs": []
    },
    {
      "cell_type": "markdown",
      "metadata": {
        "id": "fB24Sxv70pMm",
        "colab_type": "text"
      },
      "source": [
        "##C. REQUESTS"
      ]
    },
    {
      "cell_type": "code",
      "metadata": {
        "id": "VFQqJ1Nh0vDh",
        "colab_type": "code",
        "colab": {}
      },
      "source": [
        "# GET\n",
        "#  Data\n",
        "URL = \"http://restratpws.azurewebsites.net/api/Lines/metro\"\n",
        "r = requests.get(URL)\n",
        "\n",
        "#Using parameters\n",
        "payload = {'key1': 'value1', 'key2': 'value2'}\n",
        "r = requests.get('https://httpbin.org/get', params=payload)\n",
        "\n",
        "# See GET result\n",
        "r.text"
      ],
      "execution_count": null,
      "outputs": []
    },
    {
      "cell_type": "code",
      "metadata": {
        "id": "T2w9f4xENPcD",
        "colab_type": "code",
        "colab": {}
      },
      "source": [
        "# POST \n",
        "r = requests.post('https://httpbin.org/post', data = {'key':'value'})\n",
        "# Send file\n",
        "import pandas as pd\n",
        "file = pd.to_csv(\"un_fichier.csv\")\n",
        "r = requests.post('https://httpbin.org/post', files = file)"
      ],
      "execution_count": null,
      "outputs": []
    },
    {
      "cell_type": "code",
      "metadata": {
        "id": "sWW9_gq801LW",
        "colab_type": "code",
        "colab": {}
      },
      "source": [
        "# JSON\n",
        "r = requests.get('https://api.github.com/events')\n",
        "r.json() # Open the JSON file => It is a dictionnary (key : value)\n",
        "r.json().keys() # Get all the key within JSON File"
      ],
      "execution_count": null,
      "outputs": []
    },
    {
      "cell_type": "code",
      "metadata": {
        "id": "9Rp0YgFENryY",
        "colab_type": "code",
        "colab": {}
      },
      "source": [
        "# BINAIRE\n",
        "r = requests.get(\"https://avatars.githubusercontent.com/u/1227972?\")\n",
        "from PIL import Image\n",
        "from io import BytesIO\n",
        "i = Image.open(BytesIO(r.content))"
      ],
      "execution_count": null,
      "outputs": []
    },
    {
      "cell_type": "markdown",
      "metadata": {
        "id": "SmMtYNjwDBQD",
        "colab_type": "text"
      },
      "source": [
        "#**12. SPARK**"
      ]
    },
    {
      "cell_type": "markdown",
      "metadata": {
        "id": "2FvCncUrDG0p",
        "colab_type": "text"
      },
      "source": [
        "This is for SPARK in Python / SQL"
      ]
    },
    {
      "cell_type": "code",
      "metadata": {
        "id": "pylCNT60DFUD",
        "colab_type": "code",
        "colab": {}
      },
      "source": [
        ""
      ],
      "execution_count": null,
      "outputs": []
    },
    {
      "cell_type": "markdown",
      "metadata": {
        "id": "tcThGCUjd2m0",
        "colab_type": "text"
      },
      "source": [
        "#**97. PYTHON CMD**"
      ]
    },
    {
      "cell_type": "markdown",
      "metadata": {
        "id": "lXwcNeaK0VQ9",
        "colab_type": "text"
      },
      "source": [
        "##A. ENVIRONNEMENT"
      ]
    },
    {
      "cell_type": "code",
      "metadata": {
        "id": "CU5OV_Ga0RgX",
        "colab_type": "code",
        "colab": {}
      },
      "source": [
        "#CREATE\n",
        "conda create --name myenv\n",
        "conda create -n myenv python=3.7 #to create with specific version of python\n",
        "\n",
        "conda env create -f environment.yml #To create environnement from specific env file\n",
        "\n",
        "#IMPORTANT\n",
        "conda install pip # must do this to get basic packages within newly created virt environnement"
      ],
      "execution_count": null,
      "outputs": []
    },
    {
      "cell_type": "code",
      "metadata": {
        "id": "8h-KTXfs07B2",
        "colab_type": "code",
        "colab": {}
      },
      "source": [
        "#SEE List of environnement\n",
        "conda info --envs\n",
        "\n",
        "#See list of package with envs\n",
        "conda list -n myenv\n",
        "conda list # list of package for the active environnement"
      ],
      "execution_count": null,
      "outputs": []
    },
    {
      "cell_type": "code",
      "metadata": {
        "id": "HQ2AyhVi2NCv",
        "colab_type": "code",
        "colab": {}
      },
      "source": [
        "#ACTIVATE env\n",
        "conda activate myenv"
      ],
      "execution_count": null,
      "outputs": []
    },
    {
      "cell_type": "code",
      "metadata": {
        "id": "i-24t1sW0eeL",
        "colab_type": "code",
        "colab": {}
      },
      "source": [
        "#DELETE\n",
        "conda deactivate #Make sure you are no longer log to the environnement\n",
        "conda remove --name env_name --all # Delete"
      ],
      "execution_count": null,
      "outputs": []
    },
    {
      "cell_type": "code",
      "metadata": {
        "id": "QVrgG0rsWC-X",
        "colab_type": "code",
        "colab": {}
      },
      "source": [
        "#LINK environnement to Jupyter Notebook\n",
        "# 1st Create your environnement in Conda\n",
        "# 2nd activate virtual environnement\n",
        "# isntall ipykernel\n",
        "pip install ipykernel\n",
        "# link to your environnemnet ('myenv')\n",
        "python -m ipykernel install --name=myenv"
      ],
      "execution_count": null,
      "outputs": []
    },
    {
      "cell_type": "code",
      "metadata": {
        "id": "JVhvjYX3Xsd2",
        "colab_type": "code",
        "colab": {}
      },
      "source": [
        "# REMOVE environnement from Jupyter Notebook\n",
        "# 1st Delete environnement in Conda\n",
        "# List all available kernel\n",
        "jupyter kernelspec list\n",
        "# Uninstall kernel ('myenv')\n",
        "jupyter kernelspec uninstall myenv"
      ],
      "execution_count": null,
      "outputs": []
    },
    {
      "cell_type": "markdown",
      "metadata": {
        "id": "7mc_ZJH1mqNV",
        "colab_type": "text"
      },
      "source": [
        "## C. LIBRARY : INSTALL / UPDATE ETC."
      ]
    },
    {
      "cell_type": "code",
      "metadata": {
        "id": "IDBEIH7Xm7Pi",
        "colab_type": "code",
        "colab": {}
      },
      "source": [
        "# INSTALL using Conda\n",
        "conda install packagename\n",
        "\n",
        "# INSTALL using PIP (make sure to get pip library installed first)\n",
        "pip install packagename"
      ],
      "execution_count": null,
      "outputs": []
    },
    {
      "cell_type": "code",
      "metadata": {
        "id": "sBPe--__nIB7",
        "colab_type": "code",
        "colab": {}
      },
      "source": [
        "# UPDATE\n",
        "conda update --all"
      ],
      "execution_count": null,
      "outputs": []
    },
    {
      "cell_type": "code",
      "metadata": {
        "id": "E_XU6ysJnYpH",
        "colab_type": "code",
        "colab": {}
      },
      "source": [
        "# REMOVE package in current environnement\n",
        "conda remove packagename\n",
        "\n",
        "# REMOVE multiple packages in current environnement\n",
        "conda remove packagename1 pakcagename2\n",
        "\n",
        "#Remove specific package in another environement\n",
        "conda remove -n myenv packagename"
      ],
      "execution_count": null,
      "outputs": []
    },
    {
      "cell_type": "markdown",
      "metadata": {
        "id": "QdPcihy50ZBD",
        "colab_type": "text"
      },
      "source": [
        "##B. REQUIREMENTS / PIP"
      ]
    },
    {
      "cell_type": "code",
      "metadata": {
        "id": "OIq9pdP7d8wR",
        "colab_type": "code",
        "colab": {}
      },
      "source": [
        "pip install -r requirements.txt # Install all listed packages\n",
        "\n",
        "pip freeze > requirements.txt # create the requirement file"
      ],
      "execution_count": null,
      "outputs": []
    },
    {
      "cell_type": "markdown",
      "metadata": {
        "id": "aqLPY13Nt1nB",
        "colab_type": "text"
      },
      "source": [
        "#**98. CODE IDEAS FROM OTHER PEOPLE** "
      ]
    },
    {
      "cell_type": "markdown",
      "metadata": {
        "id": "gl3eCR_Nt7lk",
        "colab_type": "text"
      },
      "source": [
        "> These are special python codes written by other people and kept for informational purpose. (We could argue that none of the other scripts within this doc are 100% from me but in this chapter it is truly from someone else)."
      ]
    },
    {
      "cell_type": "markdown",
      "metadata": {
        "id": "gVkZyy3gvCbd",
        "colab_type": "text"
      },
      "source": [
        ">> CLASS CREATE TO MIMIC THE SKLEARN LINEAR REGRESSION"
      ]
    },
    {
      "cell_type": "code",
      "metadata": {
        "id": "OutKcYJcuJcn",
        "colab_type": "code",
        "colab": {}
      },
      "source": [
        "# SAMUEL L.\n",
        "\n",
        "# Create kind of sklearn LINEAR REGRESSION => you can then optimize the learning_rate as it is a hyper_parameters => Do Grid search to get best ones\n",
        "def mse(y_pred, y_true):\n",
        "    return np.mean((y_pred - y_true)**2)\n",
        "def derivative_mse_x(x, y_pred, y_true):\n",
        "    derive_model_w = 2/len(y_pred)*np.sum((np.matrix(x) @ (y_pred - y_true)))\n",
        "    derive_model_b = 2/len(y_pred)*(np.sum(y_pred - y_true))\n",
        "    return (derive_model_w, derive_model_b)\n",
        "class Modelsk(BaseEstimator, RegressorMixin): \n",
        "    def __init__(self, a = np.random.randn(), b = np.random.randn(), learning_rate = None):\n",
        "        self.a = a\n",
        "        self.b = b\n",
        "        self.learning_rate = learning_rate\n",
        "\n",
        "    def __call__(self, x):\n",
        "        return self.a * x + self.b\n",
        "\n",
        "    def adjust(self, grads):\n",
        "        grad_a , grad_b = grads\n",
        "        self.a = self.a - self.learning_rate * grad_a\n",
        "        self.b = self.b - self.learning_rate * grad_b\n",
        "\n",
        "    def fit(self, X, y=None):\n",
        "        for i in range(10001):\n",
        "            self.adjust(derivative_mse_x(X, self(X), y))\n",
        "        print(\"MSE  : {}\\lr = {}\".format(mse(self(X), y), self.learning_rate))\n",
        "\n",
        "    def predict(self, X):\n",
        "        return self.__call__(X)\n",
        "\n",
        "    def score(self, X, y):\n",
        "        return 1/mse(self(X), y)\n",
        "\n",
        "# fit et predict example\n",
        "msk = Modelsk(learning_rate=0.1)\n",
        "msk.fit(diabetes_X,y)\n",
        "msk.predict(30)\n",
        "\n",
        "# Do GridSearch\n",
        "#\n",
        "from sklearn.model_selection import GridSearchCV\n",
        "parameters = {'learning_rate':[0.1, 0.2, 0.3]}\n",
        "grid = GridSearchCV(Modelsk(), parameters)\n",
        "grid.fit(diabetes_X, y)\n",
        "grid.best_estimator_\n",
        "grid.best_estimator_.predict(diabetes_X)\n"
      ],
      "execution_count": null,
      "outputs": []
    },
    {
      "cell_type": "markdown",
      "metadata": {
        "id": "QMpm1x-7nzDM",
        "colab_type": "text"
      },
      "source": [
        "# **99. MISCELENAOUS**\n",
        "\n",
        "---"
      ]
    },
    {
      "cell_type": "markdown",
      "metadata": {
        "id": "k-klSFxDb3rM",
        "colab_type": "text"
      },
      "source": [
        "##A. TIME"
      ]
    },
    {
      "cell_type": "code",
      "metadata": {
        "id": "npb3hzmfn1vQ",
        "colab_type": "code",
        "colab": {}
      },
      "source": [
        "#HOW LONG IT TOOK TO RUN A TASK IN PYTHON\n",
        "# OPTION 1\n",
        "import time\n",
        "t0 = time.time()\n",
        "# your task\n",
        "print(\"done in %0.3fs\" % (time.time() - t0))\n",
        "\n",
        "# OPTION 2\n",
        "%time svm.fit(X_train, y_train) # where svm.fit .... is your taks"
      ],
      "execution_count": null,
      "outputs": []
    },
    {
      "cell_type": "markdown",
      "metadata": {
        "id": "dOfjmJHXcDxA",
        "colab_type": "text"
      },
      "source": [
        "## B. GOOGLE COLLAB"
      ]
    },
    {
      "cell_type": "code",
      "metadata": {
        "id": "aFz1udXTcIOL",
        "colab_type": "code",
        "colab": {}
      },
      "source": [
        "# MOUNT DRIVE into google\n",
        "from google.colab import drive\n",
        "drive.mount('/content/drive')\n",
        "# you will have to autorize collab \n",
        "\n",
        "!cd /content/drive"
      ],
      "execution_count": null,
      "outputs": []
    },
    {
      "cell_type": "code",
      "metadata": {
        "id": "KB2C2qjk5CCC",
        "colab_type": "code",
        "colab": {}
      },
      "source": [
        "# GOOGLE COLLAB HACK !\n",
        "# Special code to simulate activity on google Collab\n",
        "# Press \"CTRL + SHIFT + i\" and copy / paste value the below script within the \"Consol\" and press \"Enter\"\n",
        "\n",
        "function ClickConnect(){\n",
        "console.log(\"Working\"); \n",
        "document.querySelector(\"colab-toolbar-button#connect\").click() \n",
        "}\n",
        "setInterval(ClickConnect,60000)"
      ],
      "execution_count": null,
      "outputs": []
    },
    {
      "cell_type": "markdown",
      "metadata": {
        "id": "6UIKIPotgulY",
        "colab_type": "text"
      },
      "source": [
        "##C. TEST LOCAL GPU Tensorflow"
      ]
    },
    {
      "cell_type": "code",
      "metadata": {
        "id": "eECKgUE6grPi",
        "colab_type": "code",
        "colab": {}
      },
      "source": [
        "import tensorflow as tf\n",
        "print(\"Num GPUs Available: \", len(tf.config.experimental.list_physical_devices('GPU'))) # Should display 1 (Should display))"
      ],
      "execution_count": null,
      "outputs": []
    },
    {
      "cell_type": "markdown",
      "metadata": {
        "id": "dO-qZ0HhZGuI",
        "colab_type": "text"
      },
      "source": [
        "## D. VERBOSE"
      ]
    },
    {
      "cell_type": "code",
      "metadata": {
        "id": "4gr_spy1Tk8E",
        "colab_type": "code",
        "colab": {}
      },
      "source": [
        "# Minimize verbode tensorflow\n",
        "# IMPORTANT : This only worked if I put the os.environ before tensorflow was imported\n",
        "import os\n",
        "os.environ['TF_CPP_MIN_LOG_LEVEL'] = '2' \n",
        "import tensorflow as tf\n",
        "'''\n",
        "0 = all messages are logged (default behavior)\n",
        "1 = INFO messages are not printed\n",
        "2 = INFO and WARNING messages are not printed\n",
        "3 = INFO, WARNING, and ERROR messages are not printed\n",
        "'''"
      ],
      "execution_count": null,
      "outputs": []
    }
  ]
}